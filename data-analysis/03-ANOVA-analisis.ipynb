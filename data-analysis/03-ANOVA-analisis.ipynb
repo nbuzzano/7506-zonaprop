{
 "cells": [
  {
   "cell_type": "code",
   "execution_count": 4,
   "metadata": {},
   "outputs": [],
   "source": [
    "%matplotlib inline\n",
    "\n",
    "import math\n",
    "import numpy as np\n",
    "import pandas as pd\n",
    "\n",
    "import seaborn as sns\n",
    "import matplotlib.pyplot  as plt\n",
    "\n",
    "from scipy import stats\n",
    "\n",
    "import researchpy as rp\n",
    "import statsmodels.api as sm\n",
    "from statsmodels.formula.api import ols\n",
    "from statsmodels.stats.stattools import durbin_watson\n",
    "\n",
    "pd.set_option('display.float_format', '{:.2f}'.format)"
   ]
  },
  {
   "cell_type": "code",
   "execution_count": 5,
   "metadata": {},
   "outputs": [],
   "source": [
    "# Creamos el dataframe y le asignamos como id del dataframe, el id de cada row del csv.\n",
    "df = pd.read_csv('train_transformed.csv', index_col='id')"
   ]
  },
  {
   "cell_type": "markdown",
   "metadata": {},
   "source": [
    "## ANOVA (tipo de propiedad)"
   ]
  },
  {
   "cell_type": "code",
   "execution_count": null,
   "metadata": {},
   "outputs": [],
   "source": [
    "A la hora de presentar ANOVA en un informe, artículo de investigación o tesis, \n",
    "se debe presentar la tabla de las medias y desviaciones típicas, \n",
    "y seguidamente el estadístico F y su significación."
   ]
  },
  {
   "cell_type": "code",
   "execution_count": 6,
   "metadata": {},
   "outputs": [],
   "source": [
    "results = ols('precio ~ C(tipodepropiedad)', data=df).fit()"
   ]
  },
  {
   "cell_type": "code",
   "execution_count": 7,
   "metadata": {
    "collapsed": true
   },
   "outputs": [
    {
     "data": {
      "text/html": [
       "<table class=\"simpletable\">\n",
       "<caption>OLS Regression Results</caption>\n",
       "<tr>\n",
       "  <th>Dep. Variable:</th>         <td>precio</td>      <th>  R-squared:         </th>  <td>   0.023</td>  \n",
       "</tr>\n",
       "<tr>\n",
       "  <th>Model:</th>                   <td>OLS</td>       <th>  Adj. R-squared:    </th>  <td>   0.023</td>  \n",
       "</tr>\n",
       "<tr>\n",
       "  <th>Method:</th>             <td>Least Squares</td>  <th>  F-statistic:       </th>  <td>   244.6</td>  \n",
       "</tr>\n",
       "<tr>\n",
       "  <th>Date:</th>             <td>Wed, 05 Aug 2020</td> <th>  Prob (F-statistic):</th>   <td>  0.00</td>   \n",
       "</tr>\n",
       "<tr>\n",
       "  <th>Time:</th>                 <td>17:22:22</td>     <th>  Log-Likelihood:    </th> <td>-3.8367e+06</td>\n",
       "</tr>\n",
       "<tr>\n",
       "  <th>No. Observations:</th>      <td>239954</td>      <th>  AIC:               </th>  <td>7.674e+06</td> \n",
       "</tr>\n",
       "<tr>\n",
       "  <th>Df Residuals:</th>          <td>239930</td>      <th>  BIC:               </th>  <td>7.674e+06</td> \n",
       "</tr>\n",
       "<tr>\n",
       "  <th>Df Model:</th>              <td>    23</td>      <th>                     </th>      <td> </td>     \n",
       "</tr>\n",
       "<tr>\n",
       "  <th>Covariance Type:</th>      <td>nonrobust</td>    <th>                     </th>      <td> </td>     \n",
       "</tr>\n",
       "</table>\n",
       "<table class=\"simpletable\">\n",
       "<tr>\n",
       "                           <td></td>                              <th>coef</th>     <th>std err</th>      <th>t</th>      <th>P>|t|</th>  <th>[0.025</th>    <th>0.975]</th>  \n",
       "</tr>\n",
       "<tr>\n",
       "  <th>Intercept</th>                                           <td> 2.764e+06</td> <td> 8886.127</td> <td>  311.021</td> <td> 0.000</td> <td> 2.75e+06</td> <td> 2.78e+06</td>\n",
       "</tr>\n",
       "<tr>\n",
       "  <th>C(tipodepropiedad)[T.bodega comercial]</th>              <td>-7.001e+04</td> <td> 5.74e+04</td> <td>   -1.219</td> <td> 0.223</td> <td>-1.83e+05</td> <td> 4.26e+04</td>\n",
       "</tr>\n",
       "<tr>\n",
       "  <th>C(tipodepropiedad)[T.casa]</th>                          <td>-3.656e+05</td> <td> 1.05e+04</td> <td>  -34.716</td> <td> 0.000</td> <td>-3.86e+05</td> <td>-3.45e+05</td>\n",
       "</tr>\n",
       "<tr>\n",
       "  <th>C(tipodepropiedad)[T.casa en condominio]</th>            <td> 1.352e+05</td> <td> 1.77e+04</td> <td>    7.632</td> <td> 0.000</td> <td>    1e+05</td> <td>  1.7e+05</td>\n",
       "</tr>\n",
       "<tr>\n",
       "  <th>C(tipodepropiedad)[T.casa uso de suelo]</th>             <td> 9.687e+05</td> <td> 8.05e+04</td> <td>   12.039</td> <td> 0.000</td> <td> 8.11e+05</td> <td> 1.13e+06</td>\n",
       "</tr>\n",
       "<tr>\n",
       "  <th>C(tipodepropiedad)[T.departamento compartido]</th>       <td>-2.036e+05</td> <td> 1.79e+05</td> <td>   -1.135</td> <td> 0.256</td> <td>-5.55e+05</td> <td> 1.48e+05</td>\n",
       "</tr>\n",
       "<tr>\n",
       "  <th>C(tipodepropiedad)[T.duplex]</th>                        <td>-1.492e+06</td> <td> 1.15e+05</td> <td>  -12.947</td> <td> 0.000</td> <td>-1.72e+06</td> <td>-1.27e+06</td>\n",
       "</tr>\n",
       "<tr>\n",
       "  <th>C(tipodepropiedad)[T.edificio]</th>                      <td> 2.246e+06</td> <td> 5.76e+04</td> <td>   38.961</td> <td> 0.000</td> <td> 2.13e+06</td> <td> 2.36e+06</td>\n",
       "</tr>\n",
       "<tr>\n",
       "  <th>C(tipodepropiedad)[T.garage]</th>                        <td>-2.264e+06</td> <td> 2.13e+06</td> <td>   -1.064</td> <td> 0.287</td> <td>-6.43e+06</td> <td> 1.91e+06</td>\n",
       "</tr>\n",
       "<tr>\n",
       "  <th>C(tipodepropiedad)[T.hospedaje]</th>                     <td> 2.362e+05</td> <td> 2.13e+06</td> <td>    0.111</td> <td> 0.912</td> <td>-3.93e+06</td> <td> 4.41e+06</td>\n",
       "</tr>\n",
       "<tr>\n",
       "  <th>C(tipodepropiedad)[T.huerta]</th>                        <td> 7.796e+05</td> <td> 4.76e+05</td> <td>    1.638</td> <td> 0.101</td> <td>-1.53e+05</td> <td> 1.71e+06</td>\n",
       "</tr>\n",
       "<tr>\n",
       "  <th>C(tipodepropiedad)[T.inmuebles productivos urbanos]</th> <td> 9.793e+05</td> <td> 1.51e+05</td> <td>    6.497</td> <td> 0.000</td> <td> 6.84e+05</td> <td> 1.27e+06</td>\n",
       "</tr>\n",
       "<tr>\n",
       "  <th>C(tipodepropiedad)[T.local comercial]</th>               <td>-3.987e+05</td> <td> 3.95e+04</td> <td>  -10.091</td> <td> 0.000</td> <td>-4.76e+05</td> <td>-3.21e+05</td>\n",
       "</tr>\n",
       "<tr>\n",
       "  <th>C(tipodepropiedad)[T.local en centro comercial]</th>     <td>-5.511e+05</td> <td> 1.66e+05</td> <td>   -3.322</td> <td> 0.001</td> <td>-8.76e+05</td> <td>-2.26e+05</td>\n",
       "</tr>\n",
       "<tr>\n",
       "  <th>C(tipodepropiedad)[T.lote]</th>                          <td>-1.775e+06</td> <td> 9.52e+05</td> <td>   -1.865</td> <td> 0.062</td> <td>-3.64e+06</td> <td> 9.02e+04</td>\n",
       "</tr>\n",
       "<tr>\n",
       "  <th>C(tipodepropiedad)[T.nave industrial]</th>               <td> 9.788e+05</td> <td> 2.44e+05</td> <td>    4.008</td> <td> 0.000</td> <td>    5e+05</td> <td> 1.46e+06</td>\n",
       "</tr>\n",
       "<tr>\n",
       "  <th>C(tipodepropiedad)[T.oficina comercial]</th>             <td> 3.848e+05</td> <td> 5.18e+04</td> <td>    7.433</td> <td> 0.000</td> <td> 2.83e+05</td> <td> 4.86e+05</td>\n",
       "</tr>\n",
       "<tr>\n",
       "  <th>C(tipodepropiedad)[T.otros]</th>                         <td> 1.179e+05</td> <td> 1.84e+05</td> <td>    0.641</td> <td> 0.522</td> <td>-2.43e+05</td> <td> 4.79e+05</td>\n",
       "</tr>\n",
       "<tr>\n",
       "  <th>C(tipodepropiedad)[T.quinta vacacional]</th>             <td> 4.237e+05</td> <td> 1.07e+05</td> <td>    3.943</td> <td> 0.000</td> <td> 2.13e+05</td> <td> 6.34e+05</td>\n",
       "</tr>\n",
       "<tr>\n",
       "  <th>C(tipodepropiedad)[T.rancho]</th>                        <td> 1.269e+06</td> <td> 1.63e+05</td> <td>    7.764</td> <td> 0.000</td> <td> 9.49e+05</td> <td> 1.59e+06</td>\n",
       "</tr>\n",
       "<tr>\n",
       "  <th>C(tipodepropiedad)[T.terreno]</th>                       <td>-9.586e+05</td> <td> 2.31e+04</td> <td>  -41.472</td> <td> 0.000</td> <td>   -1e+06</td> <td>-9.13e+05</td>\n",
       "</tr>\n",
       "<tr>\n",
       "  <th>C(tipodepropiedad)[T.terreno comercial]</th>             <td>-2.917e+05</td> <td> 5.91e+04</td> <td>   -4.936</td> <td> 0.000</td> <td>-4.08e+05</td> <td>-1.76e+05</td>\n",
       "</tr>\n",
       "<tr>\n",
       "  <th>C(tipodepropiedad)[T.terreno industrial]</th>            <td> 8.842e+05</td> <td> 3.82e+05</td> <td>    2.313</td> <td> 0.021</td> <td> 1.35e+05</td> <td> 1.63e+06</td>\n",
       "</tr>\n",
       "<tr>\n",
       "  <th>C(tipodepropiedad)[T.villa]</th>                         <td> 3583.0995</td> <td> 1.16e+05</td> <td>    0.031</td> <td> 0.975</td> <td>-2.23e+05</td> <td>  2.3e+05</td>\n",
       "</tr>\n",
       "</table>\n",
       "<table class=\"simpletable\">\n",
       "<tr>\n",
       "  <th>Omnibus:</th>       <td>75956.693</td> <th>  Durbin-Watson:     </th>  <td>   1.992</td> \n",
       "</tr>\n",
       "<tr>\n",
       "  <th>Prob(Omnibus):</th>  <td> 0.000</td>   <th>  Jarque-Bera (JB):  </th> <td>218989.374</td>\n",
       "</tr>\n",
       "<tr>\n",
       "  <th>Skew:</th>           <td> 1.685</td>   <th>  Prob(JB):          </th>  <td>    0.00</td> \n",
       "</tr>\n",
       "<tr>\n",
       "  <th>Kurtosis:</th>       <td> 6.248</td>   <th>  Cond. No.          </th>  <td>    585.</td> \n",
       "</tr>\n",
       "</table><br/><br/>Warnings:<br/>[1] Standard Errors assume that the covariance matrix of the errors is correctly specified."
      ],
      "text/plain": [
       "<class 'statsmodels.iolib.summary.Summary'>\n",
       "\"\"\"\n",
       "                            OLS Regression Results                            \n",
       "==============================================================================\n",
       "Dep. Variable:                 precio   R-squared:                       0.023\n",
       "Model:                            OLS   Adj. R-squared:                  0.023\n",
       "Method:                 Least Squares   F-statistic:                     244.6\n",
       "Date:                Wed, 05 Aug 2020   Prob (F-statistic):               0.00\n",
       "Time:                        17:22:22   Log-Likelihood:            -3.8367e+06\n",
       "No. Observations:              239954   AIC:                         7.674e+06\n",
       "Df Residuals:                  239930   BIC:                         7.674e+06\n",
       "Df Model:                          23                                         \n",
       "Covariance Type:            nonrobust                                         \n",
       "=======================================================================================================================\n",
       "                                                          coef    std err          t      P>|t|      [0.025      0.975]\n",
       "-----------------------------------------------------------------------------------------------------------------------\n",
       "Intercept                                            2.764e+06   8886.127    311.021      0.000    2.75e+06    2.78e+06\n",
       "C(tipodepropiedad)[T.bodega comercial]              -7.001e+04   5.74e+04     -1.219      0.223   -1.83e+05    4.26e+04\n",
       "C(tipodepropiedad)[T.casa]                          -3.656e+05   1.05e+04    -34.716      0.000   -3.86e+05   -3.45e+05\n",
       "C(tipodepropiedad)[T.casa en condominio]             1.352e+05   1.77e+04      7.632      0.000       1e+05     1.7e+05\n",
       "C(tipodepropiedad)[T.casa uso de suelo]              9.687e+05   8.05e+04     12.039      0.000    8.11e+05    1.13e+06\n",
       "C(tipodepropiedad)[T.departamento compartido]       -2.036e+05   1.79e+05     -1.135      0.256   -5.55e+05    1.48e+05\n",
       "C(tipodepropiedad)[T.duplex]                        -1.492e+06   1.15e+05    -12.947      0.000   -1.72e+06   -1.27e+06\n",
       "C(tipodepropiedad)[T.edificio]                       2.246e+06   5.76e+04     38.961      0.000    2.13e+06    2.36e+06\n",
       "C(tipodepropiedad)[T.garage]                        -2.264e+06   2.13e+06     -1.064      0.287   -6.43e+06    1.91e+06\n",
       "C(tipodepropiedad)[T.hospedaje]                      2.362e+05   2.13e+06      0.111      0.912   -3.93e+06    4.41e+06\n",
       "C(tipodepropiedad)[T.huerta]                         7.796e+05   4.76e+05      1.638      0.101   -1.53e+05    1.71e+06\n",
       "C(tipodepropiedad)[T.inmuebles productivos urbanos]  9.793e+05   1.51e+05      6.497      0.000    6.84e+05    1.27e+06\n",
       "C(tipodepropiedad)[T.local comercial]               -3.987e+05   3.95e+04    -10.091      0.000   -4.76e+05   -3.21e+05\n",
       "C(tipodepropiedad)[T.local en centro comercial]     -5.511e+05   1.66e+05     -3.322      0.001   -8.76e+05   -2.26e+05\n",
       "C(tipodepropiedad)[T.lote]                          -1.775e+06   9.52e+05     -1.865      0.062   -3.64e+06    9.02e+04\n",
       "C(tipodepropiedad)[T.nave industrial]                9.788e+05   2.44e+05      4.008      0.000       5e+05    1.46e+06\n",
       "C(tipodepropiedad)[T.oficina comercial]              3.848e+05   5.18e+04      7.433      0.000    2.83e+05    4.86e+05\n",
       "C(tipodepropiedad)[T.otros]                          1.179e+05   1.84e+05      0.641      0.522   -2.43e+05    4.79e+05\n",
       "C(tipodepropiedad)[T.quinta vacacional]              4.237e+05   1.07e+05      3.943      0.000    2.13e+05    6.34e+05\n",
       "C(tipodepropiedad)[T.rancho]                         1.269e+06   1.63e+05      7.764      0.000    9.49e+05    1.59e+06\n",
       "C(tipodepropiedad)[T.terreno]                       -9.586e+05   2.31e+04    -41.472      0.000      -1e+06   -9.13e+05\n",
       "C(tipodepropiedad)[T.terreno comercial]             -2.917e+05   5.91e+04     -4.936      0.000   -4.08e+05   -1.76e+05\n",
       "C(tipodepropiedad)[T.terreno industrial]             8.842e+05   3.82e+05      2.313      0.021    1.35e+05    1.63e+06\n",
       "C(tipodepropiedad)[T.villa]                          3583.0995   1.16e+05      0.031      0.975   -2.23e+05     2.3e+05\n",
       "==============================================================================\n",
       "Omnibus:                    75956.693   Durbin-Watson:                   1.992\n",
       "Prob(Omnibus):                  0.000   Jarque-Bera (JB):           218989.374\n",
       "Skew:                           1.685   Prob(JB):                         0.00\n",
       "Kurtosis:                       6.248   Cond. No.                         585.\n",
       "==============================================================================\n",
       "\n",
       "Warnings:\n",
       "[1] Standard Errors assume that the covariance matrix of the errors is correctly specified.\n",
       "\"\"\""
      ]
     },
     "execution_count": 7,
     "metadata": {},
     "output_type": "execute_result"
    }
   ],
   "source": [
    "results.summary()"
   ]
  },
  {
   "cell_type": "code",
   "execution_count": null,
   "metadata": {},
   "outputs": [],
   "source": [
    "AIC ->  https://en.wikipedia.org/wiki/Akaike_information_criterion\n",
    "        https://es.wikipedia.org/wiki/Criterio_de_información_de_Akaike\n",
    "            \n",
    "BIC ->  https://en.wikipedia.org/wiki/Bayesian_information_criterion"
   ]
  },
  {
   "cell_type": "code",
   "execution_count": null,
   "metadata": {},
   "outputs": [],
   "source": [
    "- coef: es la diferencia de promedios de precios entre ese tipo de propiedad y el 'Intecept' (que es 'departamento')\n",
    "- std err: es la desviación estándar de la distribución muestral de un estadístico muestral(promedio para este caso) https://es.wikipedia.org/wiki/Error_estándar\n",
    "- P > |t|:  https://es.wikipedia.org/wiki/Valor_p\n",
    "            https://stackoverflow.com/questions/47273809/statsmodels-pt\n",
    "            https://stats.idre.ucla.edu/stata/output/regression-analysis-2/\n",
    "            Entiendo que este valor significa la prob de no rechazar H0 donde H0 asume que coef == 0, \n",
    "            es decir que la resta entre los promedios de el tipo de prop en cuestion e 'Intercept' sea 0,\n",
    "            si esta por debajo de < 0.05 entonces podemos rechazar H0, es decir no es probable coef == 0,\n",
    "            en otras palabras la resta entre los promedios de 'Intercept' y el tipo de prop es cuestion es != 0."
   ]
  },
  {
   "cell_type": "code",
   "execution_count": null,
   "metadata": {},
   "outputs": [],
   "source": [
    "(Prob (F-statistic) == 0.00) < 0.05 :  This tells us that there is a significant difference in the group means.\n",
    "                                       No nos dice entre que grupos, pero si nos dice que las hay. "
   ]
  },
  {
   "cell_type": "code",
   "execution_count": null,
   "metadata": {},
   "outputs": [],
   "source": [
    "R-squared == 0.023: no se como interpretar esto porque es la corr de una var categorica con una cuantitativa ??"
   ]
  },
  {
   "cell_type": "code",
   "execution_count": null,
   "metadata": {},
   "outputs": [],
   "source": [
    "Kurtosis -> The sample kurtosis is a useful measure of whether there is a problem with outliers in a data set. \n",
    "            Larger kurtosis indicates a more serious outlier problem, \n",
    "            and may lead the researcher to choose alternative statistical methods.\n",
    "            (https://en.wikipedia.org/wiki/Kurtosis)"
   ]
  },
  {
   "cell_type": "code",
   "execution_count": null,
   "metadata": {},
   "outputs": [],
   "source": [
    "El ANOVA parte de algunos supuestos o hipótesis que han de cumplirse:\n",
    "- La variable dependiente debe medirse al menos a nivel de intervalo.\n",
    "- Independencia de las observaciones.\n",
    "- La distribución de los residuales debe ser normal.\n",
    "- Homocedasticidad: homogeneidad de las varianzas."
   ]
  },
  {
   "cell_type": "code",
   "execution_count": 35,
   "metadata": {},
   "outputs": [
    {
     "data": {
      "text/plain": [
       "{'jb': 218989.37369248312,\n",
       " 'jbpv': 0.0,\n",
       " 'skew': 1.6848894368116087,\n",
       " 'kurtosis': 6.247726252795342,\n",
       " 'omni': 75956.69295752839,\n",
       " 'omnipv': 0.0,\n",
       " 'condno': 584.6694013903814,\n",
       " 'mineigval': 0.9999651085339688}"
      ]
     },
     "execution_count": 35,
     "metadata": {},
     "output_type": "execute_result"
    }
   ],
   "source": [
    "#Assumption Checks/Model Diagnostics\n",
    "results.diagn"
   ]
  },
  {
   "cell_type": "code",
   "execution_count": null,
   "metadata": {},
   "outputs": [],
   "source": [
    "The Durban-Watson tests is to detect the presence of autocorrelation (not provided when calling diagnostics this way)\n",
    "- https://es.wikipedia.org/wiki/Estad%C3%ADstico_de_Durbin-Watson\n",
    "    \n",
    "DW no es para 2 variables numericas ?? Me es util si tengo una var categorica y una numerica ??"
   ]
  },
  {
   "cell_type": "code",
   "execution_count": null,
   "metadata": {},
   "outputs": [],
   "source": [
    "Jarque-Bera (jb; jbpv is p-value) tests the assumption of normality,\n",
    "Omnibus (omni; omnipv is p-value) tests the assumption of homogeneity of variance,\n",
    "Condition Number (condno) assess multicollinearity. Condition Number values over 20 are indicative of multicollinearity."
   ]
  },
  {
   "cell_type": "code",
   "execution_count": 9,
   "metadata": {},
   "outputs": [
    {
     "data": {
      "text/plain": [
       "1.9921972767066094"
      ]
     },
     "execution_count": 9,
     "metadata": {},
     "output_type": "execute_result"
    }
   ],
   "source": [
    "durbin_watson(results.resid)#1.9921972767066094\n",
    "#no rechazo la assumption de autocorrelacion"
   ]
  },
  {
   "cell_type": "code",
   "execution_count": null,
   "metadata": {},
   "outputs": [],
   "source": [
    "jbpv < 0.05 rechazo la assumption de normalidad\n",
    "omnipv < 0.05 rechazo la assumption de homocedasticidad"
   ]
  },
  {
   "cell_type": "code",
   "execution_count": null,
   "metadata": {},
   "outputs": [],
   "source": [
    "no puedo asegurar que existe:\n",
    "    - Independencia de las observaciones.\n",
    "    - La distribución normal de los residuales.\n",
    "    - Homocedasticidad: homogeneidad de las varianzas.\n",
    "        \n",
    "No puedo asegurar que los resultados de ANOVA sean acertados y confiables."
   ]
  },
  {
   "cell_type": "code",
   "execution_count": null,
   "metadata": {},
   "outputs": [],
   "source": [
    "No tiene caso seguir con un Post-Hoc analysis para averiguar cuales son los grupos que difieren en sus varianzas.\n",
    "\n",
    "Algunos de los metodos que podria haber usado en un Post-Hoc analysis estan aca:\n",
    "    - https://pythonfordatascience.org/anova-python/\n",
    "    - https://www.statisticshowto.datasciencecentral.com/post-hoc/"
   ]
  },
  {
   "cell_type": "code",
   "execution_count": null,
   "metadata": {},
   "outputs": [],
   "source": []
  },
  {
   "cell_type": "markdown",
   "metadata": {},
   "source": [
    "## ANOVA (provincia) "
   ]
  },
  {
   "cell_type": "code",
   "execution_count": 19,
   "metadata": {
    "collapsed": true
   },
   "outputs": [
    {
     "data": {
      "text/html": [
       "<table class=\"simpletable\">\n",
       "<caption>OLS Regression Results</caption>\n",
       "<tr>\n",
       "  <th>Dep. Variable:</th>         <td>precio</td>      <th>  R-squared:         </th>  <td>   0.101</td>  \n",
       "</tr>\n",
       "<tr>\n",
       "  <th>Model:</th>                   <td>OLS</td>       <th>  Adj. R-squared:    </th>  <td>   0.101</td>  \n",
       "</tr>\n",
       "<tr>\n",
       "  <th>Method:</th>             <td>Least Squares</td>  <th>  F-statistic:       </th>  <td>   871.0</td>  \n",
       "</tr>\n",
       "<tr>\n",
       "  <th>Date:</th>             <td>Mon, 18 Nov 2019</td> <th>  Prob (F-statistic):</th>   <td>  0.00</td>   \n",
       "</tr>\n",
       "<tr>\n",
       "  <th>Time:</th>                 <td>15:16:53</td>     <th>  Log-Likelihood:    </th> <td>-3.8250e+06</td>\n",
       "</tr>\n",
       "<tr>\n",
       "  <th>No. Observations:</th>      <td>239845</td>      <th>  AIC:               </th>  <td>7.650e+06</td> \n",
       "</tr>\n",
       "<tr>\n",
       "  <th>Df Residuals:</th>          <td>239813</td>      <th>  BIC:               </th>  <td>7.650e+06</td> \n",
       "</tr>\n",
       "<tr>\n",
       "  <th>Df Model:</th>              <td>    31</td>      <th>                     </th>      <td> </td>     \n",
       "</tr>\n",
       "<tr>\n",
       "  <th>Covariance Type:</th>      <td>nonrobust</td>    <th>                     </th>      <td> </td>     \n",
       "</tr>\n",
       "</table>\n",
       "<table class=\"simpletable\">\n",
       "<tr>\n",
       "                    <td></td>                       <th>coef</th>     <th>std err</th>      <th>t</th>      <th>P>|t|</th>  <th>[0.025</th>    <th>0.975]</th>  \n",
       "</tr>\n",
       "<tr>\n",
       "  <th>Intercept</th>                             <td> 1.477e+06</td> <td> 4.87e+04</td> <td>   30.306</td> <td> 0.000</td> <td> 1.38e+06</td> <td> 1.57e+06</td>\n",
       "</tr>\n",
       "<tr>\n",
       "  <th>C(provincia)[T.baja california norte]</th> <td>-7.097e+05</td> <td> 6.06e+04</td> <td>  -11.717</td> <td> 0.000</td> <td>-8.28e+05</td> <td>-5.91e+05</td>\n",
       "</tr>\n",
       "<tr>\n",
       "  <th>C(provincia)[T.baja california sur]</th>   <td>-2.607e+05</td> <td> 6.95e+04</td> <td>   -3.753</td> <td> 0.000</td> <td>-3.97e+05</td> <td>-1.25e+05</td>\n",
       "</tr>\n",
       "<tr>\n",
       "  <th>C(provincia)[T.campeche]</th>              <td> 9.373e+04</td> <td> 1.35e+05</td> <td>    0.695</td> <td> 0.487</td> <td>-1.71e+05</td> <td> 3.58e+05</td>\n",
       "</tr>\n",
       "<tr>\n",
       "  <th>C(provincia)[T.chiapas]</th>               <td> 4.469e+05</td> <td> 7.79e+04</td> <td>    5.734</td> <td> 0.000</td> <td> 2.94e+05</td> <td>    6e+05</td>\n",
       "</tr>\n",
       "<tr>\n",
       "  <th>C(provincia)[T.chihuahua]</th>             <td> 2.673e+05</td> <td> 5.73e+04</td> <td>    4.666</td> <td> 0.000</td> <td> 1.55e+05</td> <td>  3.8e+05</td>\n",
       "</tr>\n",
       "<tr>\n",
       "  <th>C(provincia)[T.coahuila]</th>              <td> 2.812e+04</td> <td> 5.92e+04</td> <td>    0.475</td> <td> 0.635</td> <td>-8.79e+04</td> <td> 1.44e+05</td>\n",
       "</tr>\n",
       "<tr>\n",
       "  <th>C(provincia)[T.colima]</th>                <td> 5.419e+04</td> <td> 8.07e+04</td> <td>    0.672</td> <td> 0.502</td> <td>-1.04e+05</td> <td> 2.12e+05</td>\n",
       "</tr>\n",
       "<tr>\n",
       "  <th>C(provincia)[T.distrito federal]</th>      <td> 1.995e+06</td> <td> 4.95e+04</td> <td>   40.322</td> <td> 0.000</td> <td>  1.9e+06</td> <td> 2.09e+06</td>\n",
       "</tr>\n",
       "<tr>\n",
       "  <th>C(provincia)[T.durango]</th>               <td>-2.668e+05</td> <td> 6.49e+04</td> <td>   -4.114</td> <td> 0.000</td> <td>-3.94e+05</td> <td> -1.4e+05</td>\n",
       "</tr>\n",
       "<tr>\n",
       "  <th>C(provincia)[T.edo. de méxico]</th>        <td> 1.285e+06</td> <td> 4.98e+04</td> <td>   25.830</td> <td> 0.000</td> <td> 1.19e+06</td> <td> 1.38e+06</td>\n",
       "</tr>\n",
       "<tr>\n",
       "  <th>C(provincia)[T.guanajuato]</th>            <td> 3.898e+05</td> <td> 6.19e+04</td> <td>    6.296</td> <td> 0.000</td> <td> 2.68e+05</td> <td> 5.11e+05</td>\n",
       "</tr>\n",
       "<tr>\n",
       "  <th>C(provincia)[T.guerrero]</th>              <td> 1.072e+06</td> <td> 6.27e+04</td> <td>   17.090</td> <td> 0.000</td> <td> 9.49e+05</td> <td> 1.19e+06</td>\n",
       "</tr>\n",
       "<tr>\n",
       "  <th>C(provincia)[T.hidalgo]</th>               <td>-1.716e+05</td> <td> 6.35e+04</td> <td>   -2.704</td> <td> 0.007</td> <td>-2.96e+05</td> <td>-4.72e+04</td>\n",
       "</tr>\n",
       "<tr>\n",
       "  <th>C(provincia)[T.jalisco]</th>               <td> 8.905e+05</td> <td> 5.07e+04</td> <td>   17.559</td> <td> 0.000</td> <td> 7.91e+05</td> <td>  9.9e+05</td>\n",
       "</tr>\n",
       "<tr>\n",
       "  <th>C(provincia)[T.michoacán]</th>             <td> 1314.9010</td> <td> 6.37e+04</td> <td>    0.021</td> <td> 0.984</td> <td>-1.24e+05</td> <td> 1.26e+05</td>\n",
       "</tr>\n",
       "<tr>\n",
       "  <th>C(provincia)[T.morelos]</th>               <td> 8.129e+05</td> <td> 5.43e+04</td> <td>   14.983</td> <td> 0.000</td> <td> 7.07e+05</td> <td> 9.19e+05</td>\n",
       "</tr>\n",
       "<tr>\n",
       "  <th>C(provincia)[T.nayarit]</th>               <td> -5.04e+04</td> <td> 7.39e+04</td> <td>   -0.682</td> <td> 0.495</td> <td>-1.95e+05</td> <td> 9.44e+04</td>\n",
       "</tr>\n",
       "<tr>\n",
       "  <th>C(provincia)[T.nuevo león]</th>            <td> 1.241e+06</td> <td> 5.15e+04</td> <td>   24.109</td> <td> 0.000</td> <td> 1.14e+06</td> <td> 1.34e+06</td>\n",
       "</tr>\n",
       "<tr>\n",
       "  <th>C(provincia)[T.oaxaca]</th>                <td> 9.833e+04</td> <td> 9.07e+04</td> <td>    1.084</td> <td> 0.279</td> <td>-7.95e+04</td> <td> 2.76e+05</td>\n",
       "</tr>\n",
       "<tr>\n",
       "  <th>C(provincia)[T.puebla]</th>                <td> 8.212e+05</td> <td> 5.27e+04</td> <td>   15.588</td> <td> 0.000</td> <td> 7.18e+05</td> <td> 9.24e+05</td>\n",
       "</tr>\n",
       "<tr>\n",
       "  <th>C(provincia)[T.querétaro]</th>             <td> 6.669e+05</td> <td> 5.12e+04</td> <td>   13.027</td> <td> 0.000</td> <td> 5.67e+05</td> <td> 7.67e+05</td>\n",
       "</tr>\n",
       "<tr>\n",
       "  <th>C(provincia)[T.quintana roo]</th>          <td> 9.258e+05</td> <td>  5.7e+04</td> <td>   16.235</td> <td> 0.000</td> <td> 8.14e+05</td> <td> 1.04e+06</td>\n",
       "</tr>\n",
       "<tr>\n",
       "  <th>C(provincia)[T.san luis potosí]</th>       <td> 4.432e+05</td> <td> 5.36e+04</td> <td>    8.275</td> <td> 0.000</td> <td> 3.38e+05</td> <td> 5.48e+05</td>\n",
       "</tr>\n",
       "<tr>\n",
       "  <th>C(provincia)[T.sinaloa]</th>               <td> 1.574e+05</td> <td> 6.84e+04</td> <td>    2.300</td> <td> 0.021</td> <td> 2.33e+04</td> <td> 2.91e+05</td>\n",
       "</tr>\n",
       "<tr>\n",
       "  <th>C(provincia)[T.sonora]</th>                <td> 6527.0872</td> <td> 6.14e+04</td> <td>    0.106</td> <td> 0.915</td> <td>-1.14e+05</td> <td> 1.27e+05</td>\n",
       "</tr>\n",
       "<tr>\n",
       "  <th>C(provincia)[T.tabasco]</th>               <td> 8.233e+05</td> <td>  8.1e+04</td> <td>   10.160</td> <td> 0.000</td> <td> 6.64e+05</td> <td> 9.82e+05</td>\n",
       "</tr>\n",
       "<tr>\n",
       "  <th>C(provincia)[T.tamaulipas]</th>            <td> 1.125e+05</td> <td> 6.47e+04</td> <td>    1.739</td> <td> 0.082</td> <td>-1.43e+04</td> <td> 2.39e+05</td>\n",
       "</tr>\n",
       "<tr>\n",
       "  <th>C(provincia)[T.tlaxcala]</th>              <td>-3.962e+05</td> <td> 8.57e+04</td> <td>   -4.624</td> <td> 0.000</td> <td>-5.64e+05</td> <td>-2.28e+05</td>\n",
       "</tr>\n",
       "<tr>\n",
       "  <th>C(provincia)[T.veracruz]</th>              <td> 4.126e+05</td> <td> 5.57e+04</td> <td>    7.412</td> <td> 0.000</td> <td> 3.03e+05</td> <td> 5.22e+05</td>\n",
       "</tr>\n",
       "<tr>\n",
       "  <th>C(provincia)[T.yucatán]</th>               <td> 5.588e+05</td> <td> 5.39e+04</td> <td>   10.375</td> <td> 0.000</td> <td> 4.53e+05</td> <td> 6.64e+05</td>\n",
       "</tr>\n",
       "<tr>\n",
       "  <th>C(provincia)[T.zacatecas]</th>             <td>-2.344e+04</td> <td> 2.16e+05</td> <td>   -0.108</td> <td> 0.914</td> <td>-4.47e+05</td> <td>    4e+05</td>\n",
       "</tr>\n",
       "</table>\n",
       "<table class=\"simpletable\">\n",
       "<tr>\n",
       "  <th>Omnibus:</th>       <td>68666.795</td> <th>  Durbin-Watson:     </th>  <td>   1.995</td> \n",
       "</tr>\n",
       "<tr>\n",
       "  <th>Prob(Omnibus):</th>  <td> 0.000</td>   <th>  Jarque-Bera (JB):  </th> <td>187120.356</td>\n",
       "</tr>\n",
       "<tr>\n",
       "  <th>Skew:</th>           <td> 1.539</td>   <th>  Prob(JB):          </th>  <td>    0.00</td> \n",
       "</tr>\n",
       "<tr>\n",
       "  <th>Kurtosis:</th>       <td> 6.042</td>   <th>  Cond. No.          </th>  <td>    72.4</td> \n",
       "</tr>\n",
       "</table><br/><br/>Warnings:<br/>[1] Standard Errors assume that the covariance matrix of the errors is correctly specified."
      ],
      "text/plain": [
       "<class 'statsmodels.iolib.summary.Summary'>\n",
       "\"\"\"\n",
       "                            OLS Regression Results                            \n",
       "==============================================================================\n",
       "Dep. Variable:                 precio   R-squared:                       0.101\n",
       "Model:                            OLS   Adj. R-squared:                  0.101\n",
       "Method:                 Least Squares   F-statistic:                     871.0\n",
       "Date:                Mon, 18 Nov 2019   Prob (F-statistic):               0.00\n",
       "Time:                        15:16:53   Log-Likelihood:            -3.8250e+06\n",
       "No. Observations:              239845   AIC:                         7.650e+06\n",
       "Df Residuals:                  239813   BIC:                         7.650e+06\n",
       "Df Model:                          31                                         \n",
       "Covariance Type:            nonrobust                                         \n",
       "=========================================================================================================\n",
       "                                            coef    std err          t      P>|t|      [0.025      0.975]\n",
       "---------------------------------------------------------------------------------------------------------\n",
       "Intercept                              1.477e+06   4.87e+04     30.306      0.000    1.38e+06    1.57e+06\n",
       "C(provincia)[T.baja california norte] -7.097e+05   6.06e+04    -11.717      0.000   -8.28e+05   -5.91e+05\n",
       "C(provincia)[T.baja california sur]   -2.607e+05   6.95e+04     -3.753      0.000   -3.97e+05   -1.25e+05\n",
       "C(provincia)[T.campeche]               9.373e+04   1.35e+05      0.695      0.487   -1.71e+05    3.58e+05\n",
       "C(provincia)[T.chiapas]                4.469e+05   7.79e+04      5.734      0.000    2.94e+05       6e+05\n",
       "C(provincia)[T.chihuahua]              2.673e+05   5.73e+04      4.666      0.000    1.55e+05     3.8e+05\n",
       "C(provincia)[T.coahuila]               2.812e+04   5.92e+04      0.475      0.635   -8.79e+04    1.44e+05\n",
       "C(provincia)[T.colima]                 5.419e+04   8.07e+04      0.672      0.502   -1.04e+05    2.12e+05\n",
       "C(provincia)[T.distrito federal]       1.995e+06   4.95e+04     40.322      0.000     1.9e+06    2.09e+06\n",
       "C(provincia)[T.durango]               -2.668e+05   6.49e+04     -4.114      0.000   -3.94e+05    -1.4e+05\n",
       "C(provincia)[T.edo. de méxico]         1.285e+06   4.98e+04     25.830      0.000    1.19e+06    1.38e+06\n",
       "C(provincia)[T.guanajuato]             3.898e+05   6.19e+04      6.296      0.000    2.68e+05    5.11e+05\n",
       "C(provincia)[T.guerrero]               1.072e+06   6.27e+04     17.090      0.000    9.49e+05    1.19e+06\n",
       "C(provincia)[T.hidalgo]               -1.716e+05   6.35e+04     -2.704      0.007   -2.96e+05   -4.72e+04\n",
       "C(provincia)[T.jalisco]                8.905e+05   5.07e+04     17.559      0.000    7.91e+05     9.9e+05\n",
       "C(provincia)[T.michoacán]              1314.9010   6.37e+04      0.021      0.984   -1.24e+05    1.26e+05\n",
       "C(provincia)[T.morelos]                8.129e+05   5.43e+04     14.983      0.000    7.07e+05    9.19e+05\n",
       "C(provincia)[T.nayarit]                -5.04e+04   7.39e+04     -0.682      0.495   -1.95e+05    9.44e+04\n",
       "C(provincia)[T.nuevo león]             1.241e+06   5.15e+04     24.109      0.000    1.14e+06    1.34e+06\n",
       "C(provincia)[T.oaxaca]                 9.833e+04   9.07e+04      1.084      0.279   -7.95e+04    2.76e+05\n",
       "C(provincia)[T.puebla]                 8.212e+05   5.27e+04     15.588      0.000    7.18e+05    9.24e+05\n",
       "C(provincia)[T.querétaro]              6.669e+05   5.12e+04     13.027      0.000    5.67e+05    7.67e+05\n",
       "C(provincia)[T.quintana roo]           9.258e+05    5.7e+04     16.235      0.000    8.14e+05    1.04e+06\n",
       "C(provincia)[T.san luis potosí]        4.432e+05   5.36e+04      8.275      0.000    3.38e+05    5.48e+05\n",
       "C(provincia)[T.sinaloa]                1.574e+05   6.84e+04      2.300      0.021    2.33e+04    2.91e+05\n",
       "C(provincia)[T.sonora]                 6527.0872   6.14e+04      0.106      0.915   -1.14e+05    1.27e+05\n",
       "C(provincia)[T.tabasco]                8.233e+05    8.1e+04     10.160      0.000    6.64e+05    9.82e+05\n",
       "C(provincia)[T.tamaulipas]             1.125e+05   6.47e+04      1.739      0.082   -1.43e+04    2.39e+05\n",
       "C(provincia)[T.tlaxcala]              -3.962e+05   8.57e+04     -4.624      0.000   -5.64e+05   -2.28e+05\n",
       "C(provincia)[T.veracruz]               4.126e+05   5.57e+04      7.412      0.000    3.03e+05    5.22e+05\n",
       "C(provincia)[T.yucatán]                5.588e+05   5.39e+04     10.375      0.000    4.53e+05    6.64e+05\n",
       "C(provincia)[T.zacatecas]             -2.344e+04   2.16e+05     -0.108      0.914   -4.47e+05       4e+05\n",
       "==============================================================================\n",
       "Omnibus:                    68666.795   Durbin-Watson:                   1.995\n",
       "Prob(Omnibus):                  0.000   Jarque-Bera (JB):           187120.356\n",
       "Skew:                           1.539   Prob(JB):                         0.00\n",
       "Kurtosis:                       6.042   Cond. No.                         72.4\n",
       "==============================================================================\n",
       "\n",
       "Warnings:\n",
       "[1] Standard Errors assume that the covariance matrix of the errors is correctly specified.\n",
       "\"\"\""
      ]
     },
     "execution_count": 19,
     "metadata": {},
     "output_type": "execute_result"
    }
   ],
   "source": [
    "results = ols('precio ~ C(provincia)', data=df).fit()\n",
    "results.summary()"
   ]
  },
  {
   "cell_type": "code",
   "execution_count": null,
   "metadata": {},
   "outputs": [],
   "source": [
    "omnipv < 0.05 rechazo la assumption de homocedasticidad\n",
    "jbpv < 0.05 rechazo la assumption de normalidad\n",
    "durwin-Watson == 1.995 #no rechazo la assumption de autocorrelacion"
   ]
  },
  {
   "cell_type": "code",
   "execution_count": null,
   "metadata": {},
   "outputs": [],
   "source": [
    "no puedo asegurar que existe:\n",
    "    - Independencia de las observaciones.\n",
    "    - La distribución normal de los residuales.\n",
    "    - Homocedasticidad: homogeneidad de las varianzas.\n",
    "        \n",
    "No puedo asegurar que los resultados de ANOVA sean acertados y confiables."
   ]
  },
  {
   "cell_type": "code",
   "execution_count": null,
   "metadata": {},
   "outputs": [],
   "source": []
  },
  {
   "cell_type": "markdown",
   "metadata": {},
   "source": [
    "## ANOVA (grafico p-valor)"
   ]
  },
  {
   "cell_type": "code",
   "execution_count": 137,
   "metadata": {},
   "outputs": [],
   "source": [
    "#\n",
    "#train = df.sample(5000)\n",
    "#qualitative = train.select_dtypes('object').columns\n",
    "#\n",
    "#qualitativeImportant = ['tipodepropiedad','provincia']\n",
    "#qualitative = qualitativeImportant\n",
    "#plt.figure(figsize = [20,5])\n",
    "#anovaDF = train.copy().dropna()\n",
    "#anova = pd.DataFrame(columns = ['feature','pvalue'])\n",
    "#anova['feature'] = qualitativeImportant\n",
    "#for col in qualitativeImportant: #for each qualitative column we get the pvalues\n",
    "#    samples = []\n",
    "#    for elt in anovaDF[col].unique():\n",
    "#        samples.append(anovaDF['precio'][anovaDF[col] == elt].values)\n",
    "\n",
    "#   #https://docs.scipy.org/doc/scipy/reference/generated/scipy.stats.f_oneway.html\n",
    "#   #The one-way ANOVA tests the null hypothesis that two or more groups have the same population mean. \n",
    "#   #The test is applied to samples from two or more groups, possibly with differing sizes.\n",
    "\n",
    "#    a = stats.f_oneway(*samples) \n",
    "#    anova['pvalue'][anova['feature']==col] = a.pvalue\n",
    "#    \n",
    "##sort and cast\n",
    "#anova = anova.sort_values('pvalue')\n",
    "#anova['pvalue'] = anova['pvalue'].astype('float')\n",
    "##transform for better visualisation and plot\n",
    "#anova['disparity'] = np.log(1./anova['pvalue'].values)\n",
    "#sns.barplot(data=anova, x='feature', y='disparity')\n",
    "#x=plt.xticks(rotation=90, fontsize = 15)\n",
    "#plt.title('Analysis of Variance (ANOVA)', fontsize = 20)\n",
    "#plt.show()"
   ]
  },
  {
   "cell_type": "code",
   "execution_count": null,
   "metadata": {},
   "outputs": [],
   "source": []
  },
  {
   "cell_type": "code",
   "execution_count": null,
   "metadata": {},
   "outputs": [],
   "source": []
  },
  {
   "cell_type": "code",
   "execution_count": null,
   "metadata": {},
   "outputs": [],
   "source": []
  }
 ],
 "metadata": {
  "kernelspec": {
   "display_name": "Python 3",
   "language": "python",
   "name": "python3"
  },
  "language_info": {
   "codemirror_mode": {
    "name": "ipython",
    "version": 3
   },
   "file_extension": ".py",
   "mimetype": "text/x-python",
   "name": "python",
   "nbconvert_exporter": "python",
   "pygments_lexer": "ipython3",
   "version": "3.6.10"
  }
 },
 "nbformat": 4,
 "nbformat_minor": 2
}
