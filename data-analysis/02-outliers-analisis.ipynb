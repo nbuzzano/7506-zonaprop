{
 "cells": [
  {
   "cell_type": "code",
   "execution_count": 16,
   "metadata": {},
   "outputs": [],
   "source": [
    "%matplotlib inline\n",
    "\n",
    "import math\n",
    "import numpy as np\n",
    "import pandas as pd\n",
    "\n",
    "import seaborn as sns\n",
    "import matplotlib.pyplot  as plt\n",
    "from scipy import stats\n",
    "\n",
    "pd.set_option('display.float_format', '{:.2f}'.format)"
   ]
  },
  {
   "cell_type": "code",
   "execution_count": 17,
   "metadata": {},
   "outputs": [],
   "source": [
    "df = pd.read_csv('train_transformed.csv', index_col='id')\n",
    "df = df.filter(['habitaciones', 'garages', 'banos', 'metroscubiertos', 'metrostotales'])"
   ]
  },
  {
   "cell_type": "code",
   "execution_count": 9,
   "metadata": {},
   "outputs": [],
   "source": [
    "def get_column(A, j): \n",
    "    return A.iloc[:,j]\n",
    "\n",
    "def boxplot_list(df):\n",
    "    \n",
    "    df = df.copy().dropna()\n",
    "\n",
    "    _, num_columns = df.shape\n",
    "    fig, ax = plt.subplots(1, num_columns, figsize = (4 * num_columns, 4)) \n",
    "    red_square = dict(markerfacecolor='r', marker='s')\n",
    "    columns = df.columns.values\n",
    "    \n",
    "    for i in range(num_columns):        \n",
    "        i_column = get_column(df, i)\n",
    "        i_column = i_column.sample(1000, random_state=1)\n",
    "\n",
    "        ax[i].boxplot(x=i_column, vert=False, flierprops=red_square)\n",
    "        ax[i].xaxis.set_visible(True) \n",
    "        ax[i].yaxis.set_visible(True)\n",
    "        ax[i].set_xlabel(columns[i], fontsize=14)\n",
    "        \n",
    "    plt.show()"
   ]
  },
  {
   "cell_type": "code",
   "execution_count": 10,
   "metadata": {},
   "outputs": [
    {
     "data": {
      "image/png": "[encoded data removed]",
      "text/plain": [
       "<Figure size 1440x288 with 5 Axes>"
      ]
     },
     "metadata": {
      "needs_background": "light"
     },
     "output_type": "display_data"
    }
   ],
   "source": [
    "# BOXPLOTS\n",
    "\n",
    "# hago graficos boxplot de con el objetivo de ver outliers y entender un poco mejor\n",
    "# la distribucion de las features numericas: 'habitaciones', 'garages', 'banos', 'metroscubiertos', 'metrostotales'.\n",
    "boxplot_list(df)"
   ]
  },
  {
   "cell_type": "code",
   "execution_count": 11,
   "metadata": {},
   "outputs": [],
   "source": [
    "# habitaciones\n",
    "# el 50% de las publicaciones tienen habitaciones de 2 y 3\n",
    "# la mayoria de las publicaciones tienen habitaciones de 1 a 4\n",
    "# presenta outliers. Son valores validos, son pocas las publicaciones con habitaciones > 4\n",
    "\n",
    "# garages\n",
    "# el 50% de las publicaciones tienen garages de 1 y 2\n",
    "# la mayoria de las publicaciones tienen garages de 0 a 3\n",
    "# no presenta outliers\n",
    "\n",
    "# banos\n",
    "# el 50% de las publicaciones tienen banos de 1 y 3\n",
    "# la mayoria de las publicaciones tienen banos de 1 a 4\n",
    "# no presenta outliers.\n",
    "\n",
    "# metroscubiertos\n",
    "# el 50% de las publicaciones tienen metroscubiertos entre 100 y 200 aproximadamente\n",
    "# la mayoria de las publicaciones tienen metroscubiertos mayor a 0 aproximadamente y menor a 400\n",
    "# presenta outliers. Son valores validos, son pocas las publicaciones con metroscubiertos > 400 aprox\n",
    "\n",
    "# metrostotales\n",
    "# el 50% de las publicaciones tienen metrostotales entre 100 y 200 aproximadamente\n",
    "# la mayoria de las publicaciones tienen metrostotales mayor a 0 aproximadamente y menor a 350\n",
    "# presenta outliers. Son valores validos, son pocas las publicaciones con metrostotales > 350 aprox"
   ]
  },
  {
   "cell_type": "code",
   "execution_count": 12,
   "metadata": {},
   "outputs": [],
   "source": [
    "# COMENTARIOS GENERALES SOBRE ANALISIS DE BOXPLOTS\n",
    "\n",
    "# Cuando la variable en analisis tiene pocos valores para tomar, se puede dar que el percentil 1 solo tenga 1 valor\n",
    "# entonces no se podra ver el bigote que indica cuantos valores abarca este percentil,\n",
    "# como por ejemplo, se puede observar en 'baños'.\n",
    "\n",
    "# Tambien puede suceder que la mediana (percentil 2) este en el mismo valor que el percentil 1 o 3, como se puede\n",
    "# observar en 'garages'.\n",
    "\n",
    "# IQR = Q3 - Q1\n",
    "# comienzo del bigote: Q1 - 1.5*IQR\n",
    "# final del bigote: Q3 + 1.5*IQR\n",
    "\n",
    "# https://towardsdatascience.com/understanding-boxplots-5e2df7bcbd51"
   ]
  },
  {
   "cell_type": "code",
   "execution_count": 15,
   "metadata": {},
   "outputs": [
    {
     "data": {
      "text/plain": [
       "(array([    56,    146,    154, ..., 139182, 139329, 139365]),\n",
       " array([4, 4, 4, ..., 4, 3, 0]))"
      ]
     },
     "execution_count": 15,
     "metadata": {},
     "output_type": "execute_result"
    }
   ],
   "source": [
    "# encuentro outliers con una desviacion estandar normal > 3\n",
    "threshold = 3\n",
    "z = np.abs(stats.zscore(df.dropna()))\n",
    "outliers = np.where(z > threshold)\n",
    "#outliers[0] corresponde al nro de row\n",
    "#outliers[1] corresponde al nro de col\n",
    "outliers"
   ]
  },
  {
   "cell_type": "code",
   "execution_count": 40,
   "metadata": {},
   "outputs": [
    {
     "data": {
      "text/plain": [
       "(240000, 5)"
      ]
     },
     "execution_count": 40,
     "metadata": {},
     "output_type": "execute_result"
    }
   ],
   "source": [
    "#saving dataframe\n",
    "df = df.drop(outliers[0])\n",
    "df.to_csv('data_with_no_outliers.csv')"
   ]
  },
  {
   "cell_type": "code",
   "execution_count": null,
   "metadata": {},
   "outputs": [],
   "source": []
  },
  {
   "cell_type": "code",
   "execution_count": null,
   "metadata": {},
   "outputs": [],
   "source": [
    "# con respecto a los outliers en la feature de precios, estos no son mas que casas sobrevaluadas,\n",
    "# por ahi se trata de mansiones y casas de ese tipo, se puede considerar separar este tipo de casas y hacer\n",
    "# un analisis aparte ya que los precios probablemente esten mucho mas dispersos y presenten features muy \n",
    "# distintas a la mayoria de las publicaciones."
   ]
  }
 ],
 "metadata": {
  "kernelspec": {
   "display_name": "Python 3",
   "language": "python",
   "name": "python3"
  },
  "language_info": {
   "codemirror_mode": {
    "name": "ipython",
    "version": 3
   },
   "file_extension": ".py",
   "mimetype": "text/x-python",
   "name": "python",
   "nbconvert_exporter": "python",
   "pygments_lexer": "ipython3",
   "version": "3.6.10"
  }
 },
 "nbformat": 4,
 "nbformat_minor": 2
}
