{
 "cells": [
  {
   "cell_type": "code",
   "execution_count": 19,
   "metadata": {},
   "outputs": [],
   "source": [
    "%matplotlib inline\n",
    "\n",
    "import math\n",
    "import numpy as np\n",
    "import pandas as pd\n",
    "import matplotlib.pyplot  as plt\n",
    "\n",
    "from functools import partial\n",
    "from datetime import datetime\n",
    "\n",
    "pd.set_option('display.float_format', '{:.2f}'.format)"
   ]
  },
  {
   "cell_type": "code",
   "execution_count": 20,
   "metadata": {},
   "outputs": [],
   "source": [
    "df = pd.read_csv('train.csv')"
   ]
  },
  {
   "cell_type": "code",
   "execution_count": 21,
   "metadata": {},
   "outputs": [],
   "source": [
    "# Creamos el dataframe y le asignamos como id del dataframe, el id de cada row del csv.\n",
    "df = pd.read_csv('train.csv', index_col='id')"
   ]
  },
  {
   "cell_type": "code",
   "execution_count": 22,
   "metadata": {},
   "outputs": [],
   "source": [
    "# elimino features que no usaremos en el analisis del data set\n",
    "# trabajando con un data set grande esto me ocuparia menos espacio en memoria y disco.\n",
    "del df['titulo']\n",
    "del df['descripcion']\n",
    "del df['direccion']"
   ]
  },
  {
   "cell_type": "code",
   "execution_count": 23,
   "metadata": {},
   "outputs": [],
   "source": [
    "#listo los datos faltantes\n",
    "df_nulls = pd.DataFrame(df.isnull().sum().sort_values(), columns=['nulls'])\n",
    "df_nulls = df_nulls[df_nulls.nulls > 0]\n",
    "df_nulls['porcentaje'] = round(100*df_nulls['nulls'] / len(df), 2)\n",
    "df_nulls['porcentaje_nonull'] = 100 - df_nulls.porcentaje\n",
    "del df_nulls['nulls']"
   ]
  },
  {
   "cell_type": "code",
   "execution_count": 24,
   "metadata": {},
   "outputs": [
    {
     "data": {
      "image/png": "[encoded data removed]",
      "text/plain": [
       "<Figure size 432x288 with 1 Axes>"
      ]
     },
     "metadata": {
      "needs_background": "light"
     },
     "output_type": "display_data"
    }
   ],
   "source": [
    "red = '#ff3232'; green = '#32E317'\n",
    "df_nulls.plot.bar(stacked=True, color=[red, green], width= 0.8, edgecolor='grey', rot=90)\n",
    "plt.title('porcetaje de nulidad por feature')\n",
    "plt.xlabel('feature')\n",
    "plt.ylabel('porcentaje')\n",
    "plt.legend(['null', 'no null'])\n",
    "plt.legend(title='referencias')\n",
    "#plt.yscale('linear') #default == linear\n",
    "#plt.ylim(0,100) por default el upper bound es el valor maximo de la feature\n",
    "#plt.grid(False)#default == false\n",
    "plt.show()\n",
    "\n",
    "#https://stackoverflow.com/questions/43544694/using-pandas-crosstab-with-seaborn-stacked-barplots?noredirect=1&lq=1\n",
    "#https://python-graph-gallery.com/13-percent-stacked-barplot/\n"
   ]
  },
  {
   "cell_type": "code",
   "execution_count": 25,
   "metadata": {},
   "outputs": [],
   "source": [
    "# varias features tienen un porcentaje considerable de nulidad,\n",
    "# entonces mas adelante cuando haga un analisis se tendra que tomar 1 de 2 caminos:\n",
    "#\n",
    "# 1) eliminar los registros con NaN.\n",
    "# 2) elegir una estrategia para completar los valores perdidos.\n",
    "#\n",
    "# Notar que no se analizo si la nulidad de lat y lng esta distribuida en partes iguales \n",
    "# o es para una ciudad o prov especifica"
   ]
  },
  {
   "cell_type": "code",
   "execution_count": 26,
   "metadata": {},
   "outputs": [],
   "source": [
    "#normalizo tipodepropiedad, direccion, ciudad y provincia a lowercase\n",
    "def convert_to_lower(df, feature):\n",
    "    df[feature] = df[feature].str.lower()\n",
    "\n",
    "convert_to_lower(df, 'tipodepropiedad')\n",
    "convert_to_lower(df, 'ciudad')\n",
    "convert_to_lower(df, 'provincia')"
   ]
  },
  {
   "cell_type": "code",
   "execution_count": 27,
   "metadata": {},
   "outputs": [
    {
     "name": "stdout",
     "output_type": "stream",
     "text": [
      "unique_habitaciones: True\n",
      "unique_garages: True\n",
      "unique_banos: True\n"
     ]
    }
   ],
   "source": [
    "#valido que habitaciones, garages, banos sean valores enteros\n",
    "\n",
    "def is_integer(number):\n",
    "    frac, _ = math.modf(number)\n",
    "    return frac == 0\n",
    "\n",
    "def drop_nan_from_arr(arr):\n",
    "    return [x for x in arr if ~np.isnan(x)]\n",
    "\n",
    "def apply_all(arr, function):\n",
    "    return all([function(x) for x in arr])\n",
    "\n",
    "unique_habitaciones = df.habitaciones.unique()\n",
    "unique_habitaciones = drop_nan_from_arr(unique_habitaciones)\n",
    "print(\"unique_habitaciones:\", apply_all(unique_habitaciones, is_integer))\n",
    "\n",
    "unique_garages = df.garages.unique()\n",
    "unique_garages = drop_nan_from_arr(unique_garages)\n",
    "print(\"unique_garages:\", apply_all(unique_garages, is_integer))\n",
    "\n",
    "unique_banos = df.banos.unique()\n",
    "unique_banos = drop_nan_from_arr(unique_banos)\n",
    "print(\"unique_banos:\", apply_all(unique_banos, is_integer))"
   ]
  },
  {
   "cell_type": "code",
   "execution_count": 28,
   "metadata": {},
   "outputs": [
    {
     "name": "stdout",
     "output_type": "stream",
     "text": [
      "unique_gimnasio is_boolean: True\n",
      "unique_usosmultiples is_boolean: True\n",
      "unique_piscina is_boolean: True\n",
      "unique_escuelascercanas is_boolean: True\n",
      "unique_centroscomercialescercanos is_boolean: True\n"
     ]
    }
   ],
   "source": [
    "#'gimnasio', 'usosmultiples', 'piscina', 'escuelascercanas','centroscomercialescercanos'\n",
    "# parecen ser booleanos por ser siempre 0 Y 1 y por la naturaleza del feature.\n",
    "# Analizo si es acertada la suposicion, de serlo, los convierto en Boolean, van a ocupar menos espacio.\n",
    "\n",
    "def is_boolean(x):\n",
    "    return x == 0 or x == 1\n",
    "\n",
    "def int_to_bool(x):\n",
    "    return x != 0\n",
    "\n",
    "unique_gimnasio = df.gimnasio.unique()\n",
    "unique_gimnasio = drop_nan_from_arr(unique_gimnasio)\n",
    "print(\"unique_gimnasio is_boolean:\", apply_all(unique_gimnasio, is_boolean))\n",
    "df.gimnasio = df.gimnasio == True\n",
    "\n",
    "unique_usosmultiples = df.usosmultiples.unique()\n",
    "unique_usosmultiples = drop_nan_from_arr(unique_usosmultiples)\n",
    "print(\"unique_usosmultiples is_boolean:\", apply_all(unique_usosmultiples, is_boolean))\n",
    "df.usosmultiples = df.usosmultiples == True\n",
    "\n",
    "unique_piscina = df.piscina.unique()\n",
    "unique_piscina = drop_nan_from_arr(unique_piscina)\n",
    "print(\"unique_piscina is_boolean:\", apply_all(unique_piscina, is_boolean))\n",
    "df.piscina = df.piscina == True\n",
    "\n",
    "unique_escuelascercanas = df.escuelascercanas.unique()\n",
    "unique_escuelascercanas = drop_nan_from_arr(unique_escuelascercanas)\n",
    "print(\"unique_escuelascercanas is_boolean:\", apply_all(unique_escuelascercanas, is_boolean))\n",
    "df.escuelascercanas = df.escuelascercanas == True\n",
    "\n",
    "unique_centroscomercialescercanos = df.centroscomercialescercanos.unique()\n",
    "unique_centroscomercialescercanos = drop_nan_from_arr(unique_centroscomercialescercanos)\n",
    "print(\"unique_centroscomercialescercanos is_boolean:\", apply_all(unique_centroscomercialescercanos, is_boolean))\n",
    "df.centroscomercialescercanos = df.centroscomercialescercanos == True"
   ]
  },
  {
   "cell_type": "code",
   "execution_count": 29,
   "metadata": {},
   "outputs": [
    {
     "data": {
      "text/plain": [
       "True"
      ]
     },
     "execution_count": 29,
     "metadata": {},
     "output_type": "execute_result"
    }
   ],
   "source": [
    "# VALIDO QUE TODAS LAS FECHAS DE LA FEATURE 'fecha' ESTEN ENTRE 2012 Y 2016\n",
    "\n",
    "def date_between(date1, date2, date_to_compare):\n",
    "    return date1 < date_to_compare and date_to_compare < date2\n",
    "\n",
    "#aplicacion parcial de 'date_between(date1, date2, date_to_compare)'\n",
    "partial_date_between = partial(date_between,'2012-00-00 00:00:00', '2017-00-00 00:00:00')\n",
    "apply_all(df.fecha, partial_date_between)\n",
    "\n",
    "# otra forma de hacer esta validacion seria usando el tipo de dato datetime, \n",
    "# probablemente mas performante tambien. Seria hacer algo como:\n",
    "# df['fecha'] = df['fecha'].apply(func = (lambda x :(datetime.strptime(x, '%Y-%m-%d %H:%M:%S'))))\n",
    "# luego la funcion date_between(...) hara algo como: \n",
    "# return 2012 < date_to_compare.year and date_to_compare.year < 2017"
   ]
  },
  {
   "cell_type": "code",
   "execution_count": 30,
   "metadata": {},
   "outputs": [
    {
     "data": {
      "text/plain": [
       "True"
      ]
     },
     "execution_count": 30,
     "metadata": {},
     "output_type": "execute_result"
    }
   ],
   "source": [
    "#valido no tener precios negativos\n",
    "df[df.precio > 0].size == df.size"
   ]
  },
  {
   "cell_type": "code",
   "execution_count": 31,
   "metadata": {},
   "outputs": [],
   "source": [
    "#guardo dataset transformado\n",
    "df.to_csv('train_transformed.csv')"
   ]
  },
  {
   "cell_type": "code",
   "execution_count": null,
   "metadata": {},
   "outputs": [],
   "source": []
  }
 ],
 "metadata": {
  "kernelspec": {
   "display_name": "Python 3",
   "language": "python",
   "name": "python3"
  },
  "language_info": {
   "codemirror_mode": {
    "name": "ipython",
    "version": 3
   },
   "file_extension": ".py",
   "mimetype": "text/x-python",
   "name": "python",
   "nbconvert_exporter": "python",
   "pygments_lexer": "ipython3",
   "version": "3.6.10"
  }
 },
 "nbformat": 4,
 "nbformat_minor": 2
}
