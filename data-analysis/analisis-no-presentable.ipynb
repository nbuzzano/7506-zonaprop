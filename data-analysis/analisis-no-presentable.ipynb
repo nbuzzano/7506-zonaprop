{
 "cells": [
  {
   "cell_type": "code",
   "execution_count": 1,
   "metadata": {},
   "outputs": [],
   "source": [
    "%matplotlib inline\n",
    "\n",
    "import math\n",
    "import numpy as np\n",
    "import pandas as pd\n",
    "\n",
    "import seaborn as sns\n",
    "import matplotlib.pyplot  as plt\n",
    "import squarify # pip install squarify (algorithm for treemap)\n",
    "\n",
    "from scipy import stats\n",
    "from functools import partial\n",
    "\n",
    "from datetime import datetime\n",
    "\n",
    "pd.set_option('display.float_format', '{:.2f}'.format)"
   ]
  },
  {
   "cell_type": "code",
   "execution_count": 2,
   "metadata": {},
   "outputs": [],
   "source": [
    "# Creamos el dataframe y le asignamos como id del dataframe, el id de cada row del csv.\n",
    "df = pd.read_csv('train_transformed.csv', index_col='id')"
   ]
  },
  {
   "cell_type": "code",
   "execution_count": null,
   "metadata": {},
   "outputs": [],
   "source": []
  },
  {
   "cell_type": "code",
   "execution_count": null,
   "metadata": {},
   "outputs": [],
   "source": [
    "#TREEMAP\n",
    "\n",
    "#https://python-graph-gallery.com/201-control-the-color-of-treemap/\n",
    "#https://python-graph-gallery.com/200-basic-treemap-with-python/\n",
    "#https://www.machinelearningplus.com/plots/top-50-matplotlib-visualizations-the-master-plots-python/\n",
    "#https://mubaris.com/posts/dataviz-treemaps/"
   ]
  },
  {
   "cell_type": "code",
   "execution_count": null,
   "metadata": {},
   "outputs": [],
   "source": [
    "# Analizo (C)\n",
    "# Hay una cierta probabilidad de que al exisitir centros comerciales cercanos tambien existiran\n",
    "# escuelas cercanas y viceversa.\n",
    "\n",
    "df_aux = df[['centroscomercialescercanos', 'escuelascercanas']]\n",
    "df_aux = df_aux.groupby(['centroscomercialescercanos', 'escuelascercanas']).apply(lambda x: x.count())\n",
    "df_aux = pd.DataFrame(df_aux.escuelascercanas, columns=['escuelascercanas'])\n",
    "\n",
    "df_aux.columns = ['cantidad']\n",
    "df_aux['porcentaje'] = round(100*df_aux['cantidad'] / len(df), 2)"
   ]
  },
  {
   "cell_type": "code",
   "execution_count": 65,
   "metadata": {},
   "outputs": [
    {
     "data": {
      "text/plain": [
       "centroscomercialescercanos  escuelascercanas\n",
       "False                       False               126153\n",
       "                            True                 18679\n",
       "True                        False                 7253\n",
       "                            True                 87915\n",
       "Name: escuelascercanas, dtype: int64"
      ]
     },
     "execution_count": 65,
     "metadata": {},
     "output_type": "execute_result"
    }
   ],
   "source": [
    "df_aux.escuelascercanas"
   ]
  },
  {
   "cell_type": "code",
   "execution_count": 67,
   "metadata": {},
   "outputs": [
    {
     "data": {
      "text/html": [
       "<div>\n",
       "<style scoped>\n",
       "    .dataframe tbody tr th:only-of-type {\n",
       "        vertical-align: middle;\n",
       "    }\n",
       "\n",
       "    .dataframe tbody tr th {\n",
       "        vertical-align: top;\n",
       "    }\n",
       "\n",
       "    .dataframe thead th {\n",
       "        text-align: right;\n",
       "    }\n",
       "</style>\n",
       "<table border=\"1\" class=\"dataframe\">\n",
       "  <thead>\n",
       "    <tr style=\"text-align: right;\">\n",
       "      <th></th>\n",
       "      <th></th>\n",
       "      <th>cantidad</th>\n",
       "      <th>porcentaje</th>\n",
       "    </tr>\n",
       "    <tr>\n",
       "      <th>centroscomercialescercanos</th>\n",
       "      <th>escuelascercanas</th>\n",
       "      <th></th>\n",
       "      <th></th>\n",
       "    </tr>\n",
       "  </thead>\n",
       "  <tbody>\n",
       "    <tr>\n",
       "      <th rowspan=\"2\" valign=\"top\">False</th>\n",
       "      <th>False</th>\n",
       "      <td>126153</td>\n",
       "      <td>52.56</td>\n",
       "    </tr>\n",
       "    <tr>\n",
       "      <th>True</th>\n",
       "      <td>18679</td>\n",
       "      <td>7.78</td>\n",
       "    </tr>\n",
       "    <tr>\n",
       "      <th rowspan=\"2\" valign=\"top\">True</th>\n",
       "      <th>False</th>\n",
       "      <td>7253</td>\n",
       "      <td>3.02</td>\n",
       "    </tr>\n",
       "    <tr>\n",
       "      <th>True</th>\n",
       "      <td>87915</td>\n",
       "      <td>36.63</td>\n",
       "    </tr>\n",
       "  </tbody>\n",
       "</table>\n",
       "</div>"
      ],
      "text/plain": [
       "                                             cantidad  porcentaje\n",
       "centroscomercialescercanos escuelascercanas                      \n",
       "False                      False               126153       52.56\n",
       "                           True                 18679        7.78\n",
       "True                       False                 7253        3.02\n",
       "                           True                 87915       36.63"
      ]
     },
     "execution_count": 67,
     "metadata": {},
     "output_type": "execute_result"
    }
   ],
   "source": [
    "df_aux"
   ]
  },
  {
   "cell_type": "code",
   "execution_count": null,
   "metadata": {},
   "outputs": [],
   "source": [
    "comercios = list(df_aux.index.codes)[0].tolist()\n",
    "escuelas = list(df_aux.index.codes)[1].tolist()\n",
    "names = list(df_aux.index.names)"
   ]
  },
  {
   "cell_type": "code",
   "execution_count": 15,
   "metadata": {},
   "outputs": [
    {
     "data": {
      "text/plain": [
       "['NO centroscomercialescercanos,\\n NO escuelascercanas',\n",
       " 'NO centroscomercialescercanos,\\n SI escuelascercanas',\n",
       " 'SI centroscomercialescercanos,\\n NO escuelascercanas',\n",
       " 'SI centroscomercialescercanos,\\n SI escuelascercanas']"
      ]
     },
     "execution_count": 15,
     "metadata": {},
     "output_type": "execute_result"
    }
   ],
   "source": [
    "grupos = []\n",
    "\n",
    "for i in zip(comercios, escuelas): \n",
    "    \n",
    "    str = 'SI ' if i[0] else 'NO '        \n",
    "    str += names[0]\n",
    "    \n",
    "    str += ',\\n SI ' if i[1] else ',\\n NO '        \n",
    "    str += names[1]\n",
    "    \n",
    "    grupos.append(str)\n",
    "\n",
    "grupos"
   ]
  },
  {
   "cell_type": "code",
   "execution_count": 20,
   "metadata": {},
   "outputs": [
    {
     "name": "stdout",
     "output_type": "stream",
     "text": [
      "['52.56%', '7.78%', '3.02%', '36.63%']\n",
      "['NINGUNO', 'SOLO\\nESCUELAS', 'SOLO\\nCOMERCIOS', 'AMBOS']\n"
     ]
    }
   ],
   "source": [
    "grupos = []\n",
    "legendas = []\n",
    "index = 0\n",
    "\n",
    "for i in zip(comercios, escuelas): \n",
    "    titulo = \"\"\n",
    "    legenda = \"\"\n",
    "    if i[0] and i[1]:\n",
    "        legenda = 'AMBOS'\n",
    "    elif not i[0] and i[1]:\n",
    "        legenda = 'SOLO\\nESCUELAS'\n",
    "    elif i[0] and not i[1]:\n",
    "        legenda = 'SOLO\\nCOMERCIOS'\n",
    "    elif not i[0] and not i[1]:\n",
    "        legenda = 'NINGUNO'\n",
    "        \n",
    "    legendas.append(legenda)\n",
    "    grupos.append(\"{:.2f}%\".format(df_aux.porcentaje.tolist()[index]))\n",
    "    index += 1\n",
    "\n",
    "print(grupos)\n",
    "print(legendas)"
   ]
  },
  {
   "cell_type": "code",
   "execution_count": null,
   "metadata": {},
   "outputs": [],
   "source": [
    "treemap_labels = []\n",
    "for item in zip(legendas,grupos):\n",
    "    treemap_labels.append(item[0] + \"\\n\" + item[1])"
   ]
  },
  {
   "cell_type": "code",
   "execution_count": 32,
   "metadata": {},
   "outputs": [
    {
     "data": {
      "image/png": "[encoded data removed]",
      "text/plain": [
       "<Figure size 432x288 with 1 Axes>"
      ]
     },
     "metadata": {
      "needs_background": "light"
     },
     "output_type": "display_data"
    }
   ],
   "source": [
    "squarify.plot(sizes=df_aux.porcentaje.tolist(), \n",
    "              label=treemap_labels, \n",
    "              color=[\"red\",\"green\",\"blue\", \"grey\"], alpha=.5)\n",
    "plt.title(\"distribucion de comercios y escuelas cercanas\")\n",
    "plt.axis('off')\n",
    "plt.show()"
   ]
  },
  {
   "cell_type": "code",
   "execution_count": 22,
   "metadata": {},
   "outputs": [
    {
     "data": {
      "text/plain": [
       "(-1.25, 1.25, -1.25, 1.25)"
      ]
     },
     "execution_count": 22,
     "metadata": {},
     "output_type": "execute_result"
    },
    {
     "data": {
      "image/png": "[encoded data removed]",
      "text/plain": [
       "<Figure size 432x432 with 1 Axes>"
      ]
     },
     "metadata": {},
     "output_type": "display_data"
    }
   ],
   "source": [
    "df_pie_chart = pd.DataFrame(aux['porcentaje'])\n",
    "df_pie_chart.index = grupos\n",
    "\n",
    "df_pie_chart.plot.pie(y='porcentaje', figsize=(6, 6))\n",
    "plt.legend(legendas, title=\"referencias\", loc=\"center right\", bbox_to_anchor=(1, 0, 0.5, 1))\n",
    "plt.title(\"distribucion de comercios y escuelas cercanas\")\n",
    "plt.axis('off')\n",
    "\n",
    "#FALTA ELEGIR COLORES !!!!!!\n",
    "\n",
    "#LEER!!!\n",
    "#https://matplotlib.org/3.1.1/gallery/pie_and_polar_charts/pie_and_donut_labels.html\n",
    "    \n",
    "#aux = aux.rename(index = {0:'a', 1:'b', 2:'c', 3:'d'})\n",
    "#de cada elemento [K:V] busca en cada indice del DF el valor de K y lo reemplaza por V"
   ]
  },
  {
   "cell_type": "code",
   "execution_count": null,
   "metadata": {},
   "outputs": [],
   "source": [
    "# me es dificil pensar en un grafico sencillo de entender porque estoy queriendo combinar 2 features distintas \n",
    "# que pueden tomar distintos estados ( ya es dificil para valores booleanos, peor si fuese categoricos )\n",
    "# \n",
    "# Los nombre de las leyendas quedan muy feos, los remplazo por unos creados a mano\n",
    "#"
   ]
  },
  {
   "cell_type": "code",
   "execution_count": null,
   "metadata": {},
   "outputs": [],
   "source": []
  },
  {
   "cell_type": "code",
   "execution_count": 56,
   "metadata": {},
   "outputs": [
    {
     "data": {
      "text/plain": [
       "gimnasio  usosmultiples  piscina\n",
       "False     False          False      206412\n",
       "                         True        11709\n",
       "          True           False        4988\n",
       "                         True         1897\n",
       "True      False          False        5618\n",
       "                         True         3039\n",
       "          True           False        2010\n",
       "                         True         4327\n",
       "Name: gimnasio, dtype: int64"
      ]
     },
     "execution_count": 56,
     "metadata": {},
     "output_type": "execute_result"
    }
   ],
   "source": [
    "df_aux = df[['gimnasio', 'usosmultiples', 'piscina']]\n",
    "df_aux = df_aux.groupby(['gimnasio', 'usosmultiples', 'piscina']).apply(lambda x: x.count())\n",
    "df_aux.gimnasio"
   ]
  },
  {
   "cell_type": "code",
   "execution_count": 38,
   "metadata": {
    "scrolled": false
   },
   "outputs": [
    {
     "data": {
      "text/html": [
       "<div>\n",
       "<style scoped>\n",
       "    .dataframe tbody tr th:only-of-type {\n",
       "        vertical-align: middle;\n",
       "    }\n",
       "\n",
       "    .dataframe tbody tr th {\n",
       "        vertical-align: top;\n",
       "    }\n",
       "\n",
       "    .dataframe thead th {\n",
       "        text-align: right;\n",
       "    }\n",
       "</style>\n",
       "<table border=\"1\" class=\"dataframe\">\n",
       "  <thead>\n",
       "    <tr style=\"text-align: right;\">\n",
       "      <th></th>\n",
       "      <th></th>\n",
       "      <th></th>\n",
       "      <th>cantidad</th>\n",
       "      <th>porcentaje</th>\n",
       "    </tr>\n",
       "    <tr>\n",
       "      <th>gimnasio</th>\n",
       "      <th>usosmultiples</th>\n",
       "      <th>piscina</th>\n",
       "      <th></th>\n",
       "      <th></th>\n",
       "    </tr>\n",
       "  </thead>\n",
       "  <tbody>\n",
       "    <tr>\n",
       "      <th rowspan=\"4\" valign=\"top\">False</th>\n",
       "      <th rowspan=\"2\" valign=\"top\">False</th>\n",
       "      <th>False</th>\n",
       "      <td>206412</td>\n",
       "      <td>86.00</td>\n",
       "    </tr>\n",
       "    <tr>\n",
       "      <th>True</th>\n",
       "      <td>11709</td>\n",
       "      <td>4.88</td>\n",
       "    </tr>\n",
       "    <tr>\n",
       "      <th rowspan=\"2\" valign=\"top\">True</th>\n",
       "      <th>False</th>\n",
       "      <td>4988</td>\n",
       "      <td>2.08</td>\n",
       "    </tr>\n",
       "    <tr>\n",
       "      <th>True</th>\n",
       "      <td>1897</td>\n",
       "      <td>0.79</td>\n",
       "    </tr>\n",
       "    <tr>\n",
       "      <th rowspan=\"4\" valign=\"top\">True</th>\n",
       "      <th rowspan=\"2\" valign=\"top\">False</th>\n",
       "      <th>False</th>\n",
       "      <td>5618</td>\n",
       "      <td>2.34</td>\n",
       "    </tr>\n",
       "    <tr>\n",
       "      <th>True</th>\n",
       "      <td>3039</td>\n",
       "      <td>1.27</td>\n",
       "    </tr>\n",
       "    <tr>\n",
       "      <th rowspan=\"2\" valign=\"top\">True</th>\n",
       "      <th>False</th>\n",
       "      <td>2010</td>\n",
       "      <td>0.84</td>\n",
       "    </tr>\n",
       "    <tr>\n",
       "      <th>True</th>\n",
       "      <td>4327</td>\n",
       "      <td>1.80</td>\n",
       "    </tr>\n",
       "  </tbody>\n",
       "</table>\n",
       "</div>"
      ],
      "text/plain": [
       "                                cantidad  porcentaje\n",
       "gimnasio usosmultiples piscina                      \n",
       "False    False         False      206412       86.00\n",
       "                       True        11709        4.88\n",
       "         True          False        4988        2.08\n",
       "                       True         1897        0.79\n",
       "True     False         False        5618        2.34\n",
       "                       True         3039        1.27\n",
       "         True          False        2010        0.84\n",
       "                       True         4327        1.80"
      ]
     },
     "execution_count": 38,
     "metadata": {},
     "output_type": "execute_result"
    }
   ],
   "source": [
    "# Analizo (D)\n",
    "# Hay una probabilidad medianamente elevada de que la propiedad disponga \n",
    "# de gimnasio, usosmultiples y piscina a la vez. Al ser features booleanas un scatter plot no nos dara info relevante.\n",
    "\n",
    "df_aux = df[['gimnasio', 'usosmultiples', 'piscina']]\n",
    "df_aux = df_aux.groupby(['gimnasio', 'usosmultiples', 'piscina']).apply(lambda x: x.count())\n",
    "df_aux = pd.DataFrame(df_aux.gimnasio, columns=['gimnasio'])\n",
    "\n",
    "df_aux.columns = ['cantidad']\n",
    "df_aux['porcentaje'] = round(100*df_aux['cantidad'] / len(df), 2)\n",
    "df_aux"
   ]
  },
  {
   "cell_type": "code",
   "execution_count": null,
   "metadata": {},
   "outputs": [],
   "source": [
    "gims = list(df_aux.index.codes)[0].tolist()\n",
    "usosMultiples = list(df_aux.index.codes)[1].tolist()\n",
    "piscinas = list(df_aux.index.codes)[2].tolist()\n",
    "names = list(df_aux.index.names)"
   ]
  },
  {
   "cell_type": "code",
   "execution_count": 40,
   "metadata": {},
   "outputs": [],
   "source": [
    "index = 0\n",
    "acum = 0.0\n",
    "\n",
    "valores = []\n",
    "titulos = []\n",
    "\n",
    "\n",
    "for i in zip(gims, usosMultiples, piscinas):\n",
    "\n",
    "    if i[0] and i[1] and i[2]:\n",
    "        titulos.append('GIM + POOL + USOS.M.')\n",
    "        #valores.append(\"{:.2f}\".format(aux.porcentaje.tolist()[index]))\n",
    "        valores.append(df_aux.porcentaje.tolist()[index])\n",
    "        \n",
    "    elif not i[0] and not i[1] and not i[2]:\n",
    "        titulos.append('NINGUNO')\n",
    "        #valores.append(\"{:.2f}\".format(aux.porcentaje.tolist()[index]))\n",
    "        valores.append(df_aux.porcentaje.tolist()[index])\n",
    "    \n",
    "    else:\n",
    "        acum += df_aux.porcentaje.tolist()[index]\n",
    "    \n",
    "    index += 1\n",
    "\n",
    "titulos.append('OTROS')\n",
    "#valores.append(\"{:.2f}\".format(acum))\n",
    "valores.append(acum)"
   ]
  },
  {
   "cell_type": "code",
   "execution_count": 41,
   "metadata": {},
   "outputs": [
    {
     "data": {
      "text/plain": [
       "['NINGUNO', 'GIM + POOL + USOS.M.', 'OTROS']"
      ]
     },
     "execution_count": 41,
     "metadata": {},
     "output_type": "execute_result"
    }
   ],
   "source": [
    "titulos"
   ]
  },
  {
   "cell_type": "code",
   "execution_count": 42,
   "metadata": {},
   "outputs": [
    {
     "data": {
      "text/plain": [
       "[86.0, 1.8, 12.2]"
      ]
     },
     "execution_count": 42,
     "metadata": {},
     "output_type": "execute_result"
    }
   ],
   "source": [
    "valores"
   ]
  },
  {
   "cell_type": "code",
   "execution_count": 51,
   "metadata": {},
   "outputs": [
    {
     "data": {
      "text/plain": [
       "['86.00%', '1.80%', '12.20%']"
      ]
     },
     "execution_count": 51,
     "metadata": {},
     "output_type": "execute_result"
    }
   ],
   "source": [
    "df_indexes = []\n",
    "for valor in df_pie.valores.tolist():\n",
    "    df_indexes.append(\"{:.2f}%\".format(valor))"
   ]
  },
  {
   "cell_type": "code",
   "execution_count": 52,
   "metadata": {},
   "outputs": [
    {
     "data": {
      "text/html": [
       "<div>\n",
       "<style scoped>\n",
       "    .dataframe tbody tr th:only-of-type {\n",
       "        vertical-align: middle;\n",
       "    }\n",
       "\n",
       "    .dataframe tbody tr th {\n",
       "        vertical-align: top;\n",
       "    }\n",
       "\n",
       "    .dataframe thead th {\n",
       "        text-align: right;\n",
       "    }\n",
       "</style>\n",
       "<table border=\"1\" class=\"dataframe\">\n",
       "  <thead>\n",
       "    <tr style=\"text-align: right;\">\n",
       "      <th></th>\n",
       "      <th>valores</th>\n",
       "      <th>titulos</th>\n",
       "    </tr>\n",
       "  </thead>\n",
       "  <tbody>\n",
       "    <tr>\n",
       "      <th>86.00%</th>\n",
       "      <td>86.00</td>\n",
       "      <td>NINGUNO</td>\n",
       "    </tr>\n",
       "    <tr>\n",
       "      <th>1.80%</th>\n",
       "      <td>1.80</td>\n",
       "      <td>GIM + POOL + USOS.M.</td>\n",
       "    </tr>\n",
       "    <tr>\n",
       "      <th>12.20%</th>\n",
       "      <td>12.20</td>\n",
       "      <td>OTROS</td>\n",
       "    </tr>\n",
       "  </tbody>\n",
       "</table>\n",
       "</div>"
      ],
      "text/plain": [
       "        valores               titulos\n",
       "86.00%    86.00               NINGUNO\n",
       "1.80%      1.80  GIM + POOL + USOS.M.\n",
       "12.20%    12.20                 OTROS"
      ]
     },
     "execution_count": 52,
     "metadata": {},
     "output_type": "execute_result"
    }
   ],
   "source": [
    "df_pie = pd.DataFrame()\n",
    "df_pie['valores'] = valores\n",
    "df_pie['titulos'] = titulos\n",
    "df_pie.index = df_indexes\n",
    "df_pie"
   ]
  },
  {
   "cell_type": "code",
   "execution_count": 53,
   "metadata": {
    "scrolled": true
   },
   "outputs": [
    {
     "data": {
      "text/plain": [
       "(-1.25, 1.25, -1.25, 1.25)"
      ]
     },
     "execution_count": 53,
     "metadata": {},
     "output_type": "execute_result"
    },
    {
     "data": {
      "image/png": "[encoded data removed]",
      "text/plain": [
       "<Figure size 360x360 with 1 Axes>"
      ]
     },
     "metadata": {},
     "output_type": "display_data"
    }
   ],
   "source": [
    "df_pie.plot.pie(y='valores', figsize=(5, 5))\n",
    "\n",
    "plt.legend(titulos, title=\"referencias\", loc=\"center right\", bbox_to_anchor=(1, 0, 0.5, 1))\n",
    "plt.title(\"distribucion de comercios y escuelas cercanas\")\n",
    "plt.axis('off')\n",
    "\n",
    "#FALTA ELEGIR COLORES !!!!!!"
   ]
  },
  {
   "cell_type": "code",
   "execution_count": null,
   "metadata": {},
   "outputs": [],
   "source": []
  },
  {
   "cell_type": "code",
   "execution_count": null,
   "metadata": {},
   "outputs": [],
   "source": [
    "#\n",
    "# IDEAS!\n",
    "#\n",
    "# AVERIGUAR COMO PODRIA CONTROLAR Y REMOVER PUBL QUE NO SON DE PROPIEDADES EN MEXICO POR LAS DUDAS\n",
    "# EN PUNTO 2 HACER ANALISIS POR TIPOS DE PROPIEDAD (EJ: CASA, DPTO, DUPLEX, ETC) DEL ACUMULADO DE $ QUE DEJA CADA UNA.\n",
    "# EN PUNTO 3 DEBERIA CONCENTRARME TAMBIEN EN LAS CASAS MAS BARATAS !\n",
    "#"
   ]
  },
  {
   "cell_type": "code",
   "execution_count": null,
   "metadata": {},
   "outputs": [],
   "source": []
  },
  {
   "cell_type": "code",
   "execution_count": null,
   "metadata": {},
   "outputs": [],
   "source": []
  }
 ],
 "metadata": {
  "kernelspec": {
   "display_name": "Python 3",
   "language": "python",
   "name": "python3"
  },
  "language_info": {
   "codemirror_mode": {
    "name": "ipython",
    "version": 3
   },
   "file_extension": ".py",
   "mimetype": "text/x-python",
   "name": "python",
   "nbconvert_exporter": "python",
   "pygments_lexer": "ipython3",
   "version": "3.6.10"
  }
 },
 "nbformat": 4,
 "nbformat_minor": 4
}
