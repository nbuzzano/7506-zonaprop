{
 "cells": [
  {
   "cell_type": "code",
   "execution_count": 1,
   "metadata": {},
   "outputs": [],
   "source": [
    "import pandas as pd\n",
    "import numpy as np\n",
    "import pickle \n",
    "from sklearn.linear_model import ElasticNetCV, LassoCV, RidgeCV, BayesianRidge, HuberRegressor\n",
    "from sklearn.metrics import mean_absolute_error\n",
    "from sklearn.model_selection import train_test_split\n",
    "from sklearn.svm import SVR, LinearSVR\n",
    "from sklearn.preprocessing import RobustScaler\n",
    "from sklearn.kernel_ridge import KernelRidge\n",
    "from sklearn.decomposition import PCA\n",
    "from sklearn.ensemble import BaggingRegressor, ExtraTreesRegressor, AdaBoostRegressor\n",
    "from datetime import datetime\n",
    "import os"
   ]
  },
  {
   "cell_type": "code",
   "execution_count": 2,
   "metadata": {},
   "outputs": [],
   "source": [
    "#levanto data sets\n",
    "df = pd.read_csv(\"./cleanedData.csv\")\n",
    "y = df.precio\n",
    "\n",
    "X = pd.read_csv(\"./xgboost-x.csv\")"
   ]
  },
  {
   "cell_type": "code",
   "execution_count": 3,
   "metadata": {},
   "outputs": [],
   "source": [
    "aux = X.join(y)\n",
    "aux = aux.dropna()\n",
    "aux = aux.sample(n=500, random_state=42)"
   ]
  },
  {
   "cell_type": "code",
   "execution_count": 4,
   "metadata": {},
   "outputs": [],
   "source": [
    "y_aux = aux.precio\n",
    "X_aux = aux.drop(['precio'], axis=1, inplace=False)\n",
    "X_aux.drop(['Unnamed: 0'], axis=1, inplace=True)\n",
    "X_aux.drop(['id'], axis=1, inplace=True)"
   ]
  },
  {
   "cell_type": "code",
   "execution_count": 5,
   "metadata": {},
   "outputs": [],
   "source": [
    "y_test = pd.DataFrame(y_aux)"
   ]
  },
  {
   "cell_type": "code",
   "execution_count": 6,
   "metadata": {},
   "outputs": [],
   "source": [
    "seed = 7\n",
    "test_size = 0.33\n",
    "X_train, X_test, y_train, y_test = train_test_split(X_aux, y_aux, test_size=test_size, random_state=seed)\n",
    "# fit model no training data"
   ]
  },
  {
   "cell_type": "code",
   "execution_count": 7,
   "metadata": {},
   "outputs": [],
   "source": [
    "def add_more_features(self,df):\n",
    "\t\tdf['patio'] = df.metrostotales - df.metroscubiertos\n",
    "\t\tdf['ambientes'] = df.habitaciones + df.banos + df.garages\n",
    "\t\t#df['prom_amb'] = df.metroscubiertos / df.ambientes\n",
    "\t\t#df['construccion_density'] = df.metroscubiertos/df.metrostotales\n",
    "\t\treturn df"
   ]
  },
  {
   "cell_type": "code",
   "execution_count": 120,
   "metadata": {},
   "outputs": [],
   "source": [
    "def save_prediction(y_test, ids, model):\n",
    "\t\tfinal_pred = y_test\n",
    "\n",
    "#\t\tids = self.df_test['id'].values\n",
    "\t\ttry:\n",
    "\t\t\tos.mkdir('predictions')\n",
    "\t\texcept:\n",
    "\t\t\tpass\n",
    "\n",
    "\n",
    "\t\tsubmit = pd.DataFrame({'id':ids,'target':final_pred})\n",
    "\t\tsubmit.to_csv('predictions/submit-'+model+'.csv',index=False)"
   ]
  },
  {
   "cell_type": "code",
   "execution_count": 70,
   "metadata": {},
   "outputs": [],
   "source": [
    "def timer(start_time=None):\n",
    "\t\tif not start_time:\n",
    "\t\t\tstart_time = datetime.now()\n",
    "\t\t\treturn start_time\n",
    "\t\telif start_time:\n",
    "\t\t\tthour, temp_sec = divmod((datetime.now() - start_time).total_seconds(), 3600)\n",
    "\t\t\ttmin, tsec = divmod(temp_sec, 60)\n",
    "\t\t\tprint('Time taken: %i hours %i minutes and %s seconds.' % (thour, tmin, round(tsec, 2)))"
   ]
  },
  {
   "cell_type": "code",
   "execution_count": null,
   "metadata": {},
   "outputs": [],
   "source": []
  },
  {
   "cell_type": "markdown",
   "metadata": {},
   "source": [
    "## Lasso"
   ]
  },
  {
   "cell_type": "code",
   "execution_count": 115,
   "metadata": {},
   "outputs": [],
   "source": [
    "def train_LassoCV(data):\n",
    "\n",
    "    train,validacion = data\n",
    "    x_tr,y_tr = train\n",
    "    x_val,y_val = validacion\n",
    "    #print(\"El set de train tiene {} filas y {} columnas\".format(x_tr.shape[0],x_tr.shape[1]))\n",
    "    #print(\"El set de validacion tiene {} filas y {} columnas\".format(x_val.shape[0],x_val.shape[1]))\n",
    "\n",
    "    print('Start training LassoCV...')\n",
    "    start_time = timer()\n",
    "\n",
    "    Lasso = LassoCV(\n",
    "        n_alphas=100,\n",
    "        cv=10,\n",
    "        normalize=True,\n",
    "        verbose=True\n",
    "    )\n",
    "\n",
    "    Lasso.fit(x_tr,y_tr)\n",
    "    print(\"The R2 is: {}\".format(Lasso.score(x_tr,y_tr)))\n",
    "    print(\"The alpha choose by CV is:{}\".format(Lasso.alpha_))\n",
    "    timer(start_time)\n",
    "\n",
    "    print(\"Making prediction on validation data\")\n",
    "    y_val = y_val#np.expm1(y_val)\n",
    "    y_val_pred = Lasso.predict(x_val)#np.expm1(Lasso.predict(x_val))\n",
    "    #np.nan_to_num(X) \"replace nan with zero and inf with finite numbers\".\n",
    "    mae = mean_absolute_error(np.nan_to_num(y_val),np.nan_to_num(y_val_pred))\n",
    "\n",
    "    print(\"El mean absolute error de es {}\".format(mae))\n",
    "    print('Saving model into a pickle')\n",
    "\n",
    "    try:\n",
    "        os.mkdir('pickles')\n",
    "    except:\n",
    "        pass\n",
    "\n",
    "    with open('pickles/LassoCV.pkl','wb') as f:\n",
    "        pickle.dump(Lasso, f)\n",
    "            \n",
    "    return y_val_pred"
   ]
  },
  {
   "cell_type": "code",
   "execution_count": 116,
   "metadata": {},
   "outputs": [
    {
     "name": "stdout",
     "output_type": "stream",
     "text": [
      "Start training LassoCV...\n"
     ]
    },
    {
     "name": "stderr",
     "output_type": "stream",
     "text": [
      "[Parallel(n_jobs=1)]: Using backend SequentialBackend with 1 concurrent workers.\n",
      "....................................................................................................................................................................................................................................................................................................................................................................................................................................................................................................................................................................................................................................................................................................................................................................................................................................................................................................................."
     ]
    },
    {
     "name": "stdout",
     "output_type": "stream",
     "text": [
      "The R2 is: 0.7416877725912367\n",
      "The alpha choose by CV is:2320.866146031475\n",
      "Time taken: 0 hours 0 minutes and 0.93 seconds.\n",
      "Making prediction on validation data\n",
      "El mean absolute error de es 578807.0385349854\n",
      "Saving model into a pickle\n"
     ]
    },
    {
     "name": "stderr",
     "output_type": "stream",
     "text": [
      "...................................................................................................................[Parallel(n_jobs=1)]: Done  10 out of  10 | elapsed:    0.9s finished\n"
     ]
    }
   ],
   "source": [
    "train = X_train, y_train\n",
    "test =  X_test, y_test\n",
    "data = train, test\n",
    "y_val_pred = train_LassoCV(data)\n",
    "\n",
    "ids = y_test.index\n",
    "save_prediction(y_test=y_val_pred, ids=ids, model='Lasso')"
   ]
  },
  {
   "cell_type": "code",
   "execution_count": 122,
   "metadata": {},
   "outputs": [],
   "source": []
  },
  {
   "cell_type": "code",
   "execution_count": null,
   "metadata": {},
   "outputs": [],
   "source": [
    "#\n",
    "#COMO TRATA LASSO LAS FEATURES QUE ESTAN ENCODEADAS ?? (ciudad, provincia, tipodepropidedad, etc)\n",
    "#CON DISTINTOS TIPOS DE ENCODING PODRIA MEJORAR LOS RESULTADOS ???\n",
    "#\n",
    "https://stats.idre.ucla.edu/spss/faq/coding-systems-for-categorical-variables-in-regression-analysis-2/"
   ]
  },
  {
   "cell_type": "code",
   "execution_count": null,
   "metadata": {},
   "outputs": [],
   "source": []
  },
  {
   "cell_type": "code",
   "execution_count": null,
   "metadata": {},
   "outputs": [],
   "source": []
  },
  {
   "cell_type": "markdown",
   "metadata": {},
   "source": [
    "# Ridge"
   ]
  },
  {
   "cell_type": "code",
   "execution_count": 130,
   "metadata": {},
   "outputs": [],
   "source": [
    "def train_ridgeCV(data):\n",
    "\n",
    "    train,validacion = data\n",
    "    x_tr,y_tr = train\n",
    "    x_val,y_val = validacion\n",
    "    #print(\"El set de train tiene {} filas y {} columnas\".format(x_tr.shape[0],x_tr.shape[1]))\n",
    "    #print(\"El set de validacion tiene {} filas y {} columnas\".format(x_val.shape[0],x_val.shape[1]))\n",
    "\n",
    "    print('Start training RidgeCV...')\n",
    "    start_time = timer()\n",
    "\n",
    "    ridge = RidgeCV(\n",
    "        normalize=True,\n",
    "        alphas=[0.0000999],\n",
    "        cv=10\n",
    "    )\n",
    "\n",
    "    ridge.fit(x_tr,y_tr)\n",
    "    print(\"The R2 is: {}\".format(ridge.score(x_tr,y_tr)))\n",
    "    print(\"The alpha choose by CV is:{}\".format(ridge.alpha_))\n",
    "    timer(start_time)\n",
    "\n",
    "    print(\"Making prediction on validation data\")\n",
    "    y_val = y_val#np.expm1(y_val)\n",
    "    y_val_pred = ridge.predict(x_val)#np.expm1(ridge.predict(x_val))\n",
    "    #np.nan_to_num(X) \"replace nan with zero and inf with finite numbers\".\n",
    "    mae = mean_absolute_error(np.nan_to_num(y_val),np.nan_to_num(y_val_pred))\n",
    "\n",
    "    print(\"El mean absolute error de es {}\".format(mae))\n",
    "    print('Saving model into a pickle')\n",
    "\n",
    "    try:\n",
    "        os.mkdir('pickles')\n",
    "    except:\n",
    "        pass\n",
    "\n",
    "    with open('pickles/RidgeCV.pkl','wb') as f:\n",
    "        pickle.dump(ridge, f)\n",
    "            \n",
    "    return y_val_pred"
   ]
  },
  {
   "cell_type": "code",
   "execution_count": 131,
   "metadata": {},
   "outputs": [
    {
     "name": "stdout",
     "output_type": "stream",
     "text": [
      "Start training RidgeCV...\n",
      "The R2 is: 0.780026576429594\n",
      "The alpha choose by CV is:9.99e-05\n",
      "Time taken: 0 hours 0 minutes and 0.11 seconds.\n",
      "Making prediction on validation data\n",
      "El mean absolute error de es 690595.3366460925\n",
      "Saving model into a pickle\n"
     ]
    }
   ],
   "source": [
    "train = X_train, y_train\n",
    "test =  X_test, y_test\n",
    "data = train, test\n",
    "y_val_pred = train_ridgeCV(data)\n",
    "\n",
    "ids = y_test.index\n",
    "save_prediction(y_test=y_val_pred, ids=ids, model='Ridge')"
   ]
  },
  {
   "cell_type": "markdown",
   "metadata": {},
   "source": [
    "# Elastic Net"
   ]
  },
  {
   "cell_type": "code",
   "execution_count": 132,
   "metadata": {},
   "outputs": [],
   "source": [
    "def train_elasticNetCV(data):\n",
    "\n",
    "    train,validacion = data\n",
    "    x_tr,y_tr = train\n",
    "    x_val,y_val = validacion\n",
    "    #print(\"El set de train tiene {} filas y {} columnas\".format(x_tr.shape[0],x_tr.shape[1]))\n",
    "    #print(\"El set de validacion tiene {} filas y {} columnas\".format(x_val.shape[0],x_val.shape[1]))\n",
    "\n",
    "    print('Start training enetCV...')\n",
    "    start_time = timer()\n",
    "\n",
    "    enet = ElasticNetCV(\n",
    "        normalize=True,\n",
    "        n_alphas=2000,\n",
    "        max_iter = 2000,\n",
    "        cv=10\n",
    "    )\n",
    "\n",
    "    enet.fit(x_tr,y_tr)\n",
    "    print(\"The R2 is: {}\".format(enet.score(x_tr,y_tr)))\n",
    "    print(\"The alpha choose by CV is:{}\".format(enet.alpha_))\n",
    "    timer(start_time)\n",
    "\n",
    "    print(\"Making prediction on validation data\")\n",
    "    y_val = y_val#np.expm1(y_val)\n",
    "    y_val_pred = enet.predict(x_val)#np.expm1(ridge.predict(x_val))\n",
    "    #np.nan_to_num(X) \"replace nan with zero and inf with finite numbers\".\n",
    "    mae = mean_absolute_error(np.nan_to_num(y_val),np.nan_to_num(y_val_pred))\n",
    "\n",
    "    print(\"El mean absolute error de es {}\".format(mae))\n",
    "    print('Saving model into a pickle')\n",
    "\n",
    "    try:\n",
    "        os.mkdir('pickles')\n",
    "    except:\n",
    "        pass\n",
    "\n",
    "    with open('pickles/enetCV.pkl','wb') as f:\n",
    "        pickle.dump(enet, f)\n",
    "            \n",
    "    return y_val_pred"
   ]
  },
  {
   "cell_type": "code",
   "execution_count": 133,
   "metadata": {},
   "outputs": [
    {
     "name": "stdout",
     "output_type": "stream",
     "text": [
      "Start training enetCV...\n",
      "The R2 is: 0.0002157436852815442\n",
      "The alpha choose by CV is:114.97925311512337\n",
      "Time taken: 0 hours 0 minutes and 11.51 seconds.\n",
      "Making prediction on validation data\n",
      "El mean absolute error de es 1114335.4774411486\n",
      "Saving model into a pickle\n"
     ]
    }
   ],
   "source": [
    "train = X_train, y_train\n",
    "test =  X_test, y_test\n",
    "data = train, test\n",
    "y_val_pred = train_elasticNetCV(data)\n",
    "\n",
    "ids = y_test.index\n",
    "save_prediction(y_test=y_val_pred, ids=ids, model='elastic')"
   ]
  },
  {
   "cell_type": "code",
   "execution_count": null,
   "metadata": {},
   "outputs": [],
   "source": []
  }
 ],
 "metadata": {
  "kernelspec": {
   "display_name": "Python 3",
   "language": "python",
   "name": "python3"
  },
  "language_info": {
   "codemirror_mode": {
    "name": "ipython",
    "version": 3
   },
   "file_extension": ".py",
   "mimetype": "text/x-python",
   "name": "python",
   "nbconvert_exporter": "python",
   "pygments_lexer": "ipython3",
   "version": "3.7.3"
  }
 },
 "nbformat": 4,
 "nbformat_minor": 2
}
