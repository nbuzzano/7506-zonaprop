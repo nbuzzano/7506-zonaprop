{
 "cells": [
  {
   "cell_type": "markdown",
   "metadata": {},
   "source": [
    "# XGBoost"
   ]
  },
  {
   "cell_type": "code",
   "execution_count": null,
   "metadata": {},
   "outputs": [],
   "source": [
    "import pandas as pd\n",
    "import numpy as np\n",
    "import pickle\n",
    "\n",
    "import warnings\n",
    "import scipy.stats as stats\n",
    "import xgboost as xgb\n",
    "\n",
    "import shap\n",
    "\n",
    "import torch\n",
    "from torch import nn, optim\n",
    "\n",
    "import category_encoders as ce\n",
    "\n",
    "from tqdm import tqdm\n",
    "\n",
    "import gc\n",
    "\n",
    "import time"
   ]
  },
  {
   "cell_type": "code",
   "execution_count": null,
   "metadata": {},
   "outputs": [],
   "source": [
    "import sklearn.metrics\n",
    "from sklearn.model_selection import train_test_split\n",
    "from sklearn.ensemble import RandomForestRegressor\n",
    "from sklearn.metrics import mean_absolute_error\n",
    "from sklearn.linear_model import SGDRegressor\n",
    "from sklearn.model_selection import RandomizedSearchCV, GridSearchCV\n",
    "from sklearn.model_selection import train_test_split\n",
    "from sklearn.metrics import accuracy_score\n",
    "from sklearn.metrics import mean_squared_error"
   ]
  },
  {
   "cell_type": "code",
   "execution_count": null,
   "metadata": {},
   "outputs": [],
   "source": [
    "from pyspark.ml.regression import LinearRegression\n",
    "from pyspark.mllib.evaluation import RegressionMetrics\n",
    "\n",
    "from pyspark.ml.tuning import ParamGridBuilder, CrossValidator, CrossValidatorModel\n",
    "from pyspark.ml.feature import VectorAssembler, StandardScaler\n",
    "from pyspark.ml.evaluation import RegressionEvaluator\n",
    "\n",
    "from sklearn.ensemble import RandomForestRegressor\n",
    "from sklearn.metrics import make_scorer\n",
    "\n",
    "from spark_sklearn import GridSearchCV"
   ]
  },
  {
   "cell_type": "code",
   "execution_count": 8,
   "metadata": {},
   "outputs": [],
   "source": [
    "#levanto data sets\n",
    "df = pd.read_csv(\"./cleanedData.csv\")\n",
    "y = df.precio\n",
    "\n",
    "X = pd.read_csv(\"./xgboost-x.csv\")"
   ]
  },
  {
   "cell_type": "code",
   "execution_count": null,
   "metadata": {},
   "outputs": [],
   "source": []
  },
  {
   "cell_type": "code",
   "execution_count": 9,
   "metadata": {},
   "outputs": [],
   "source": [
    "aux = X.join(y)\n",
    "aux = aux.dropna()\n",
    "aux = aux.sample(n=500, random_state=42)"
   ]
  },
  {
   "cell_type": "code",
   "execution_count": 10,
   "metadata": {},
   "outputs": [],
   "source": [
    "y_aux = aux.precio\n",
    "X_aux = aux.drop(['precio'], axis=1, inplace=False)"
   ]
  },
  {
   "cell_type": "code",
   "execution_count": 10,
   "metadata": {},
   "outputs": [],
   "source": [
    "y_test = pd.DataFrame(y_aux)"
   ]
  },
  {
   "cell_type": "code",
   "execution_count": 11,
   "metadata": {},
   "outputs": [],
   "source": [
    "data_dmatrix = xgb.DMatrix(data=X_aux,label=y_test)"
   ]
  },
  {
   "cell_type": "code",
   "execution_count": 12,
   "metadata": {},
   "outputs": [],
   "source": [
    "seed = 7\n",
    "test_size = 0.33\n",
    "X_train, X_test, y_train, y_test = train_test_split(X_aux, y_aux, test_size=test_size, random_state=seed)\n",
    "# fit model no training data"
   ]
  },
  {
   "cell_type": "markdown",
   "metadata": {},
   "source": [
    "### XGBoost CASO 1 (sin CV)"
   ]
  },
  {
   "cell_type": "code",
   "execution_count": 60,
   "metadata": {},
   "outputs": [
    {
     "name": "stdout",
     "output_type": "stream",
     "text": [
      "XGBRegressor(alpha=10, base_score=0.5, booster='gbtree', colsample_bylevel=1,\n",
      "             colsample_bynode=1, colsample_bytree=0.3, gamma=0,\n",
      "             importance_type='gain', learning_rate=0.1, max_delta_step=0,\n",
      "             max_depth=5, min_child_weight=1, missing=None, n_estimators=10,\n",
      "             n_jobs=1, nthread=None, objective='reg:squarederror',\n",
      "             random_state=0, reg_alpha=0, reg_lambda=1, scale_pos_weight=1,\n",
      "             seed=None, silent=None, subsample=1, verbosity=1)\n"
     ]
    },
    {
     "name": "stderr",
     "output_type": "stream",
     "text": [
      "Series.base is deprecated and will be removed in a future version\n"
     ]
    }
   ],
   "source": [
    "# fit model no training data\n",
    "model = xgb.XGBRegressor(objective ='reg:squarederror', colsample_bytree = 0.3, learning_rate = 0.1,\n",
    "                max_depth = 5, alpha = 10, n_estimators = 10)\n",
    "model.verbose = 1 # ver si esto funca\n",
    "model.fit(X_train, y_train)\n",
    "print(model)"
   ]
  },
  {
   "cell_type": "code",
   "execution_count": 61,
   "metadata": {},
   "outputs": [],
   "source": [
    "# make predictions for test data\n",
    "y_pred = model.predict(X_test)"
   ]
  },
  {
   "cell_type": "code",
   "execution_count": null,
   "metadata": {},
   "outputs": [],
   "source": [
    "y_test = pd.DataFrame(y_test)\n",
    "y_pred = pd.DataFrame(y_pred)\n",
    "\n",
    "y_test.fillna(value=0, inplace=True)\n",
    "y_pred.fillna(value=0, inplace=True)"
   ]
  },
  {
   "cell_type": "code",
   "execution_count": 62,
   "metadata": {
    "scrolled": true
   },
   "outputs": [
    {
     "name": "stdout",
     "output_type": "stream",
     "text": [
      "RMSE: 1348924.251487\n"
     ]
    }
   ],
   "source": [
    "rmse = np.sqrt(mean_squared_error(y_test, y_pred))\n",
    "print(\"RMSE: %f\" % (rmse))"
   ]
  },
  {
   "cell_type": "code",
   "execution_count": null,
   "metadata": {},
   "outputs": [],
   "source": [
    "mae = mean_absolute_error(y_test, y_pred)#(np.nan_to_num(y_test),np.nan_to_num(y_pred))\n",
    "print(\"El mean absolute error(MAE) de es {}\".format(mae))"
   ]
  },
  {
   "cell_type": "markdown",
   "metadata": {},
   "source": [
    "### XGBoost CASO 2 (con CV)"
   ]
  },
  {
   "cell_type": "code",
   "execution_count": 63,
   "metadata": {},
   "outputs": [],
   "source": [
    "#In order to build more robust models, it is common to do a k-fold cross validation\n",
    "\n",
    "params = {\"objective\":\"reg:squarederror\",'colsample_bytree': 0.3,'learning_rate': 0.1,'max_depth': 5, 'alpha': 10}\n",
    "\n",
    "cv_results = xgb.cv(dtrain=data_dmatrix, \n",
    "                    params=params, nfold=3, \n",
    "                    num_boost_round=50,\n",
    "                    early_stopping_rounds=10,\n",
    "                    metrics=\"rmse\", \n",
    "                    as_pandas=True, \n",
    "                    seed=123)\n",
    "\n",
    "#KeyError: 'best_msg'\n",
    "#the error is caused by missing values in X. \n",
    "#XGB can handle missing values in the model.fit(X, y) but not in the early stopping rounds, for some unknown reasons.\n",
    "#https://stackoverflow.com/questions/49649675/xgboost-early-stopping-gives-keyerror-best-msg"
   ]
  },
  {
   "cell_type": "code",
   "execution_count": 64,
   "metadata": {},
   "outputs": [
    {
     "name": "stdout",
     "output_type": "stream",
     "text": [
      "49    992972.5625\n",
      "Name: test-rmse-mean, dtype: float64\n"
     ]
    }
   ],
   "source": [
    "print((cv_results[\"test-rmse-mean\"]).tail(1))"
   ]
  },
  {
   "cell_type": "code",
   "execution_count": null,
   "metadata": {},
   "outputs": [],
   "source": []
  },
  {
   "cell_type": "code",
   "execution_count": 70,
   "metadata": {},
   "outputs": [
    {
     "data": {
      "image/png": "[encoded data removed]",
      "text/plain": [
       "<Figure size 360x1080 with 1 Axes>"
      ]
     },
     "metadata": {
      "needs_background": "light"
     },
     "output_type": "display_data"
    }
   ],
   "source": [
    "xg_reg = xgb.train(params=params, dtrain=data_dmatrix, num_boost_round=10)\n",
    "xgb.plot_importance(xg_reg)\n",
    "plt.rcParams['figure.figsize'] = [15, 15]\n",
    "plt.show()"
   ]
  },
  {
   "cell_type": "code",
   "execution_count": null,
   "metadata": {},
   "outputs": [],
   "source": []
  },
  {
   "cell_type": "markdown",
   "metadata": {},
   "source": [
    "### XGBoost CASO 3 (con RandomizedSearchCV)"
   ]
  },
  {
   "cell_type": "code",
   "execution_count": 13,
   "metadata": {},
   "outputs": [],
   "source": [
    "# xgboost & RandomizedSearchCV >>> https://gist.github.com/wrwr/3f6b66bf4ee01bf48be965f60d14454d\n",
    "# xgboost parametros >>> https://xgboost.readthedocs.io/en/latest/parameter.html\n",
    "# RandomizedSearchCV >>> https://scikit-learn.org/stable/modules/generated/sklearn.model_selection.RandomizedSearchCV.html\n",
    "\n",
    "param_grid = {\n",
    "        'silent': [False],\n",
    "        'max_depth': [6, 10, 15, 20],\n",
    "        'learning_rate': [0.001, 0.01, 0.1, 0.2, 0,3],\n",
    "#        'subsample': [0.5, 0.6, 0.7, 0.8, 0.9, 1.0],\n",
    "        'colsample_bytree': [0.4, 0.5, 0.6, 0.7, 0.8, 0.9, 1.0],\n",
    " #       'colsample_bylevel': [0.4, 0.5, 0.6, 0.7, 0.8, 0.9, 1.0],\n",
    "  #      'min_child_weight': [0.5, 1.0, 3.0, 5.0, 7.0, 10.0],\n",
    "   #     'gamma': [0, 0.25, 0.5, 1.0],\n",
    "        'reg_alpha': [0.1, 1.0, 5.0, 10.0, 50.0, 100.0],\n",
    "#        'n_estimators': [100]\n",
    "}"
   ]
  },
  {
   "cell_type": "code",
   "execution_count": 14,
   "metadata": {},
   "outputs": [],
   "source": [
    "clf = xgb.XGBClassifier()\n",
    "#cv=3 uso la misma que en xgb.cv mas arriba\n",
    "rs_clf = RandomizedSearchCV(clf, param_grid, n_iter=20,\n",
    "                            verbose=2, cv=3,\n",
    "                            scoring='neg_mean_squared_error', random_state=42)"
   ]
  },
  {
   "cell_type": "code",
   "execution_count": 17,
   "metadata": {
    "collapsed": true
   },
   "outputs": [
    {
     "name": "stdout",
     "output_type": "stream",
     "text": [
      "Randomized search..\n",
      "Fitting 3 folds for each of 20 candidates, totalling 60 fits\n",
      "[CV] silent=False, reg_alpha=5.0, max_depth=6, learning_rate=0.2, colsample_bytree=1.0 \n"
     ]
    },
    {
     "name": "stderr",
     "output_type": "stream",
     "text": [
      "The least populated class in y has only 1 members, which is less than n_splits=3.\n",
      "[Parallel(n_jobs=1)]: Using backend SequentialBackend with 1 concurrent workers.\n"
     ]
    },
    {
     "name": "stdout",
     "output_type": "stream",
     "text": [
      "[CV]  silent=False, reg_alpha=5.0, max_depth=6, learning_rate=0.2, colsample_bytree=1.0, total= 2.5min\n",
      "[CV] silent=False, reg_alpha=5.0, max_depth=6, learning_rate=0.2, colsample_bytree=1.0 \n"
     ]
    },
    {
     "name": "stderr",
     "output_type": "stream",
     "text": [
      "[Parallel(n_jobs=1)]: Done   1 out of   1 | elapsed:  2.5min remaining:    0.0s\n"
     ]
    },
    {
     "name": "stdout",
     "output_type": "stream",
     "text": [
      "[CV]  silent=False, reg_alpha=5.0, max_depth=6, learning_rate=0.2, colsample_bytree=1.0, total= 2.5min\n",
      "[CV] silent=False, reg_alpha=5.0, max_depth=6, learning_rate=0.2, colsample_bytree=1.0 \n",
      "[CV]  silent=False, reg_alpha=5.0, max_depth=6, learning_rate=0.2, colsample_bytree=1.0, total= 2.6min\n",
      "[CV] silent=False, reg_alpha=0.1, max_depth=10, learning_rate=0.1, colsample_bytree=0.8 \n",
      "[CV]  silent=False, reg_alpha=0.1, max_depth=10, learning_rate=0.1, colsample_bytree=0.8, total= 3.3min\n",
      "[CV] silent=False, reg_alpha=0.1, max_depth=10, learning_rate=0.1, colsample_bytree=0.8 \n",
      "[CV]  silent=False, reg_alpha=0.1, max_depth=10, learning_rate=0.1, colsample_bytree=0.8, total= 3.2min\n",
      "[CV] silent=False, reg_alpha=0.1, max_depth=10, learning_rate=0.1, colsample_bytree=0.8 \n",
      "[CV]  silent=False, reg_alpha=0.1, max_depth=10, learning_rate=0.1, colsample_bytree=0.8, total= 3.3min\n",
      "[CV] silent=False, reg_alpha=50.0, max_depth=10, learning_rate=0, colsample_bytree=0.8 \n",
      "[CV]  silent=False, reg_alpha=50.0, max_depth=10, learning_rate=0, colsample_bytree=0.8, total= 2.3min\n",
      "[CV] silent=False, reg_alpha=50.0, max_depth=10, learning_rate=0, colsample_bytree=0.8 \n",
      "[CV]  silent=False, reg_alpha=50.0, max_depth=10, learning_rate=0, colsample_bytree=0.8, total= 2.3min\n",
      "[CV] silent=False, reg_alpha=50.0, max_depth=10, learning_rate=0, colsample_bytree=0.8 \n",
      "[CV]  silent=False, reg_alpha=50.0, max_depth=10, learning_rate=0, colsample_bytree=0.8, total= 2.4min\n",
      "[CV] silent=False, reg_alpha=50.0, max_depth=10, learning_rate=0.2, colsample_bytree=0.7 \n",
      "[CV]  silent=False, reg_alpha=50.0, max_depth=10, learning_rate=0.2, colsample_bytree=0.7, total= 2.2min\n",
      "[CV] silent=False, reg_alpha=50.0, max_depth=10, learning_rate=0.2, colsample_bytree=0.7 \n",
      "[CV]  silent=False, reg_alpha=50.0, max_depth=10, learning_rate=0.2, colsample_bytree=0.7, total= 2.2min\n",
      "[CV] silent=False, reg_alpha=50.0, max_depth=10, learning_rate=0.2, colsample_bytree=0.7 \n",
      "[CV]  silent=False, reg_alpha=50.0, max_depth=10, learning_rate=0.2, colsample_bytree=0.7, total= 2.3min\n",
      "[CV] silent=False, reg_alpha=100.0, max_depth=6, learning_rate=0.2, colsample_bytree=0.6 \n",
      "[CV]  silent=False, reg_alpha=100.0, max_depth=6, learning_rate=0.2, colsample_bytree=0.6, total= 2.2min\n",
      "[CV] silent=False, reg_alpha=100.0, max_depth=6, learning_rate=0.2, colsample_bytree=0.6 \n",
      "[CV]  silent=False, reg_alpha=100.0, max_depth=6, learning_rate=0.2, colsample_bytree=0.6, total= 2.2min\n",
      "[CV] silent=False, reg_alpha=100.0, max_depth=6, learning_rate=0.2, colsample_bytree=0.6 \n",
      "[CV]  silent=False, reg_alpha=100.0, max_depth=6, learning_rate=0.2, colsample_bytree=0.6, total= 2.2min\n",
      "[CV] silent=False, reg_alpha=1.0, max_depth=10, learning_rate=0.2, colsample_bytree=0.8 \n",
      "[CV]  silent=False, reg_alpha=1.0, max_depth=10, learning_rate=0.2, colsample_bytree=0.8, total= 2.7min\n",
      "[CV] silent=False, reg_alpha=1.0, max_depth=10, learning_rate=0.2, colsample_bytree=0.8 \n",
      "[CV]  silent=False, reg_alpha=1.0, max_depth=10, learning_rate=0.2, colsample_bytree=0.8, total= 2.6min\n",
      "[CV] silent=False, reg_alpha=1.0, max_depth=10, learning_rate=0.2, colsample_bytree=0.8 \n",
      "[CV]  silent=False, reg_alpha=1.0, max_depth=10, learning_rate=0.2, colsample_bytree=0.8, total= 2.7min\n",
      "[CV] silent=False, reg_alpha=5.0, max_depth=10, learning_rate=0.2, colsample_bytree=0.8 \n",
      "[CV]  silent=False, reg_alpha=5.0, max_depth=10, learning_rate=0.2, colsample_bytree=0.8, total= 2.3min\n",
      "[CV] silent=False, reg_alpha=5.0, max_depth=10, learning_rate=0.2, colsample_bytree=0.8 \n",
      "[CV]  silent=False, reg_alpha=5.0, max_depth=10, learning_rate=0.2, colsample_bytree=0.8, total= 2.3min\n",
      "[CV] silent=False, reg_alpha=5.0, max_depth=10, learning_rate=0.2, colsample_bytree=0.8 \n",
      "[CV]  silent=False, reg_alpha=5.0, max_depth=10, learning_rate=0.2, colsample_bytree=0.8, total= 2.4min\n",
      "[CV] silent=False, reg_alpha=1.0, max_depth=6, learning_rate=0, colsample_bytree=0.7 \n",
      "[CV]  silent=False, reg_alpha=1.0, max_depth=6, learning_rate=0, colsample_bytree=0.7, total= 2.9min\n",
      "[CV] silent=False, reg_alpha=1.0, max_depth=6, learning_rate=0, colsample_bytree=0.7 \n",
      "[CV]  silent=False, reg_alpha=1.0, max_depth=6, learning_rate=0, colsample_bytree=0.7, total= 2.9min\n",
      "[CV] silent=False, reg_alpha=1.0, max_depth=6, learning_rate=0, colsample_bytree=0.7 \n",
      "[CV]  silent=False, reg_alpha=1.0, max_depth=6, learning_rate=0, colsample_bytree=0.7, total= 2.9min\n",
      "[CV] silent=False, reg_alpha=10.0, max_depth=10, learning_rate=0.01, colsample_bytree=0.6 \n",
      "[CV]  silent=False, reg_alpha=10.0, max_depth=10, learning_rate=0.01, colsample_bytree=0.6, total= 2.2min\n",
      "[CV] silent=False, reg_alpha=10.0, max_depth=10, learning_rate=0.01, colsample_bytree=0.6 \n",
      "[CV]  silent=False, reg_alpha=10.0, max_depth=10, learning_rate=0.01, colsample_bytree=0.6, total= 2.1min\n",
      "[CV] silent=False, reg_alpha=10.0, max_depth=10, learning_rate=0.01, colsample_bytree=0.6 \n",
      "[CV]  silent=False, reg_alpha=10.0, max_depth=10, learning_rate=0.01, colsample_bytree=0.6, total= 2.2min\n",
      "[CV] silent=False, reg_alpha=50.0, max_depth=20, learning_rate=0.1, colsample_bytree=0.4 \n",
      "[CV]  silent=False, reg_alpha=50.0, max_depth=20, learning_rate=0.1, colsample_bytree=0.4, total= 2.0min\n",
      "[CV] silent=False, reg_alpha=50.0, max_depth=20, learning_rate=0.1, colsample_bytree=0.4 \n",
      "[CV]  silent=False, reg_alpha=50.0, max_depth=20, learning_rate=0.1, colsample_bytree=0.4, total= 2.0min\n",
      "[CV] silent=False, reg_alpha=50.0, max_depth=20, learning_rate=0.1, colsample_bytree=0.4 \n",
      "[CV]  silent=False, reg_alpha=50.0, max_depth=20, learning_rate=0.1, colsample_bytree=0.4, total= 2.0min\n",
      "[CV] silent=False, reg_alpha=0.1, max_depth=6, learning_rate=0.2, colsample_bytree=0.9 \n",
      "[CV]  silent=False, reg_alpha=0.1, max_depth=6, learning_rate=0.2, colsample_bytree=0.9, total= 3.2min\n",
      "[CV] silent=False, reg_alpha=0.1, max_depth=6, learning_rate=0.2, colsample_bytree=0.9 \n",
      "[CV]  silent=False, reg_alpha=0.1, max_depth=6, learning_rate=0.2, colsample_bytree=0.9, total= 3.1min\n",
      "[CV] silent=False, reg_alpha=0.1, max_depth=6, learning_rate=0.2, colsample_bytree=0.9 \n",
      "[CV]  silent=False, reg_alpha=0.1, max_depth=6, learning_rate=0.2, colsample_bytree=0.9, total= 3.2min\n",
      "[CV] silent=False, reg_alpha=100.0, max_depth=10, learning_rate=0.2, colsample_bytree=0.6 \n",
      "[CV]  silent=False, reg_alpha=100.0, max_depth=10, learning_rate=0.2, colsample_bytree=0.6, total= 2.1min\n",
      "[CV] silent=False, reg_alpha=100.0, max_depth=10, learning_rate=0.2, colsample_bytree=0.6 \n",
      "[CV]  silent=False, reg_alpha=100.0, max_depth=10, learning_rate=0.2, colsample_bytree=0.6, total= 2.1min\n",
      "[CV] silent=False, reg_alpha=100.0, max_depth=10, learning_rate=0.2, colsample_bytree=0.6 \n",
      "[CV]  silent=False, reg_alpha=100.0, max_depth=10, learning_rate=0.2, colsample_bytree=0.6, total= 2.2min\n",
      "[CV] silent=False, reg_alpha=1.0, max_depth=6, learning_rate=3, colsample_bytree=0.9 \n",
      "[CV]  silent=False, reg_alpha=1.0, max_depth=6, learning_rate=3, colsample_bytree=0.9, total= 2.5min\n",
      "[CV] silent=False, reg_alpha=1.0, max_depth=6, learning_rate=3, colsample_bytree=0.9 \n",
      "[CV]  silent=False, reg_alpha=1.0, max_depth=6, learning_rate=3, colsample_bytree=0.9, total= 2.5min\n",
      "[CV] silent=False, reg_alpha=1.0, max_depth=6, learning_rate=3, colsample_bytree=0.9 \n",
      "[CV]  silent=False, reg_alpha=1.0, max_depth=6, learning_rate=3, colsample_bytree=0.9, total= 2.5min\n",
      "[CV] silent=False, reg_alpha=0.1, max_depth=6, learning_rate=0.01, colsample_bytree=0.7 \n",
      "[CV]  silent=False, reg_alpha=0.1, max_depth=6, learning_rate=0.01, colsample_bytree=0.7, total= 2.9min\n",
      "[CV] silent=False, reg_alpha=0.1, max_depth=6, learning_rate=0.01, colsample_bytree=0.7 \n",
      "[CV]  silent=False, reg_alpha=0.1, max_depth=6, learning_rate=0.01, colsample_bytree=0.7, total= 2.9min\n",
      "[CV] silent=False, reg_alpha=0.1, max_depth=6, learning_rate=0.01, colsample_bytree=0.7 \n",
      "[CV]  silent=False, reg_alpha=0.1, max_depth=6, learning_rate=0.01, colsample_bytree=0.7, total= 3.0min\n",
      "[CV] silent=False, reg_alpha=1.0, max_depth=10, learning_rate=0, colsample_bytree=0.5 \n",
      "[CV]  silent=False, reg_alpha=1.0, max_depth=10, learning_rate=0, colsample_bytree=0.5, total= 2.5min\n",
      "[CV] silent=False, reg_alpha=1.0, max_depth=10, learning_rate=0, colsample_bytree=0.5 \n",
      "[CV]  silent=False, reg_alpha=1.0, max_depth=10, learning_rate=0, colsample_bytree=0.5, total= 2.5min\n",
      "[CV] silent=False, reg_alpha=1.0, max_depth=10, learning_rate=0, colsample_bytree=0.5 \n"
     ]
    },
    {
     "name": "stdout",
     "output_type": "stream",
     "text": [
      "[CV]  silent=False, reg_alpha=1.0, max_depth=10, learning_rate=0, colsample_bytree=0.5, total= 2.5min\n",
      "[CV] silent=False, reg_alpha=100.0, max_depth=10, learning_rate=0.01, colsample_bytree=0.8 \n",
      "[CV]  silent=False, reg_alpha=100.0, max_depth=10, learning_rate=0.01, colsample_bytree=0.8, total= 2.3min\n",
      "[CV] silent=False, reg_alpha=100.0, max_depth=10, learning_rate=0.01, colsample_bytree=0.8 \n",
      "[CV]  silent=False, reg_alpha=100.0, max_depth=10, learning_rate=0.01, colsample_bytree=0.8, total= 2.3min\n",
      "[CV] silent=False, reg_alpha=100.0, max_depth=10, learning_rate=0.01, colsample_bytree=0.8 \n",
      "[CV]  silent=False, reg_alpha=100.0, max_depth=10, learning_rate=0.01, colsample_bytree=0.8, total= 2.4min\n",
      "[CV] silent=False, reg_alpha=10.0, max_depth=10, learning_rate=3, colsample_bytree=0.8 \n",
      "[CV]  silent=False, reg_alpha=10.0, max_depth=10, learning_rate=3, colsample_bytree=0.8, total= 2.3min\n",
      "[CV] silent=False, reg_alpha=10.0, max_depth=10, learning_rate=3, colsample_bytree=0.8 \n",
      "[CV]  silent=False, reg_alpha=10.0, max_depth=10, learning_rate=3, colsample_bytree=0.8, total= 2.3min\n",
      "[CV] silent=False, reg_alpha=10.0, max_depth=10, learning_rate=3, colsample_bytree=0.8 \n",
      "[CV]  silent=False, reg_alpha=10.0, max_depth=10, learning_rate=3, colsample_bytree=0.8, total= 2.4min\n",
      "[CV] silent=False, reg_alpha=50.0, max_depth=20, learning_rate=0, colsample_bytree=1.0 \n",
      "[CV]  silent=False, reg_alpha=50.0, max_depth=20, learning_rate=0, colsample_bytree=1.0, total= 2.5min\n",
      "[CV] silent=False, reg_alpha=50.0, max_depth=20, learning_rate=0, colsample_bytree=1.0 \n",
      "[CV]  silent=False, reg_alpha=50.0, max_depth=20, learning_rate=0, colsample_bytree=1.0, total= 2.5min\n",
      "[CV] silent=False, reg_alpha=50.0, max_depth=20, learning_rate=0, colsample_bytree=1.0 \n",
      "[CV]  silent=False, reg_alpha=50.0, max_depth=20, learning_rate=0, colsample_bytree=1.0, total= 2.5min\n",
      "[CV] silent=False, reg_alpha=50.0, max_depth=10, learning_rate=0.001, colsample_bytree=0.6 \n",
      "[CV]  silent=False, reg_alpha=50.0, max_depth=10, learning_rate=0.001, colsample_bytree=0.6, total= 2.1min\n",
      "[CV] silent=False, reg_alpha=50.0, max_depth=10, learning_rate=0.001, colsample_bytree=0.6 \n",
      "[CV]  silent=False, reg_alpha=50.0, max_depth=10, learning_rate=0.001, colsample_bytree=0.6, total= 2.1min\n",
      "[CV] silent=False, reg_alpha=50.0, max_depth=10, learning_rate=0.001, colsample_bytree=0.6 \n",
      "[CV]  silent=False, reg_alpha=50.0, max_depth=10, learning_rate=0.001, colsample_bytree=0.6, total= 2.2min\n",
      "[CV] silent=False, reg_alpha=100.0, max_depth=6, learning_rate=0, colsample_bytree=0.4 \n",
      "[CV]  silent=False, reg_alpha=100.0, max_depth=6, learning_rate=0, colsample_bytree=0.4, total= 2.0min\n",
      "[CV] silent=False, reg_alpha=100.0, max_depth=6, learning_rate=0, colsample_bytree=0.4 \n",
      "[CV]  silent=False, reg_alpha=100.0, max_depth=6, learning_rate=0, colsample_bytree=0.4, total= 2.0min\n",
      "[CV] silent=False, reg_alpha=100.0, max_depth=6, learning_rate=0, colsample_bytree=0.4 \n",
      "[CV]  silent=False, reg_alpha=100.0, max_depth=6, learning_rate=0, colsample_bytree=0.4, total= 2.0min\n"
     ]
    },
    {
     "name": "stderr",
     "output_type": "stream",
     "text": [
      "[Parallel(n_jobs=1)]: Done  60 out of  60 | elapsed: 147.2min finished\n"
     ]
    },
    {
     "name": "stdout",
     "output_type": "stream",
     "text": [
      "Randomized search time: 9141.903829097748\n"
     ]
    }
   ],
   "source": [
    "print(\"Randomized search..\")\n",
    "search_time_start = time.time()\n",
    "#le paso X_aux, y_aux en vez de el x_train, y_train ( que es un % del total ) porque estoy usando cross validation, \n",
    "#si no usara CV deberia tener cuidado y validar si le paso x_train, y_train , xq se podria dar el caso de que \n",
    "# como hace el entrenamiento con la totalidad de los datos, luego el x_test, y_test van a dar muy bien y no es el caso.\n",
    "rs_clf.fit(X_aux, y_aux)\n",
    "print(\"Randomized search time:\", time.time() - search_time_start)"
   ]
  },
  {
   "cell_type": "code",
   "execution_count": 18,
   "metadata": {},
   "outputs": [
    {
     "name": "stdout",
     "output_type": "stream",
     "text": [
      "Best score: -1914057809393.6418\n",
      "Best params: \n",
      "colsample_bytree: 0.8\n",
      "learning_rate: 0.2\n",
      "max_depth: 10\n",
      "reg_alpha: 1.0\n",
      "silent: False\n"
     ]
    }
   ],
   "source": [
    "best_score = rs_clf.best_score_\n",
    "best_params = rs_clf.best_params_\n",
    "print(\"Best score: {}\".format(best_score))\n",
    "print(\"Best params: \")\n",
    "for param_name in sorted(best_params.keys()):\n",
    "    print('%s: %r' % (param_name, best_params[param_name]))"
   ]
  },
  {
   "cell_type": "code",
   "execution_count": 4,
   "metadata": {},
   "outputs": [
    {
     "data": {
      "text/plain": [
       "1383494.781122662"
      ]
     },
     "execution_count": 4,
     "metadata": {},
     "output_type": "execute_result"
    }
   ],
   "source": [
    "np.sqrt(1914057809393.6418)# 1,383,494.781122662"
   ]
  },
  {
   "cell_type": "markdown",
   "metadata": {},
   "source": [
    "### Resumen experimentos con XGBoost Casos 1, 2 y 3"
   ]
  },
  {
   "cell_type": "code",
   "execution_count": null,
   "metadata": {},
   "outputs": [],
   "source": [
    "XGBoost \n",
    "\n",
    "sin CV 1,348,924.251487\n",
    "params usados -> {\"objective\":\"reg:squarederror\",'colsample_bytree': 0.3,'learning_rate': 0.1,'max_depth': 5, 'alpha': 10}\n",
    "\n",
    "con CV 992,972.5625\n",
    "params usados -> {\"objective\":\"reg:squarederror\",'colsample_bytree': 0.3,'learning_rate': 0.1,'max_depth': 5, 'alpha': 10}\n",
    "\n",
    "randomSearchCV 1,383,494.781122662 # <- np.sqrt(best_score) == np.sqrt(1914057809393.6418) == 1,383,494.781122662\n",
    "best params -> colsample_bytree: 0.8, learning_rate: 0.2, max_depth: 10, reg_alpha: 1.0\n",
    "param_grid utilizada:\n",
    "param_grid = {\n",
    "        'silent': [False],\n",
    "        'max_depth': [6, 10, 15, 20],\n",
    "        'learning_rate': [0.001, 0.01, 0.1, 0.2, 0, 3],\n",
    "        'colsample_bytree': [0.4, 0.5, 0.6, 0.7, 0.8, 0.9, 1.0],\n",
    "        'reg_alpha': [0.1, 1.0, 5.0, 10.0, 50.0, 100.0],\n",
    "}"
   ]
  },
  {
   "cell_type": "markdown",
   "metadata": {},
   "source": [
    "### XGBoost CASO 4 (con RandomizedSearchCV)"
   ]
  },
  {
   "cell_type": "code",
   "execution_count": 1,
   "metadata": {},
   "outputs": [],
   "source": [
    "#uso otro param_grid. \n",
    "#Por un lado busco valores alrededor de \n",
    "#'colsample_bytree': 0.3,'learning_rate': 0.1,'max_depth': 5, 'alpha': 10}\n",
    "#que son los params del tp de nico.\n",
    "#\n",
    "#por otro lado busco valores alrededor de los que me dio la RandomSearchCV anterior"
   ]
  },
  {
   "cell_type": "code",
   "execution_count": 12,
   "metadata": {},
   "outputs": [],
   "source": [
    "#max_depth: \n",
    "#Maximum depth of a tree. Increasing this value will make the model more complex and more likely to overfit. \n",
    "\n",
    "#colsample_bytree: \n",
    "#percentage of features used per tree. High value can lead to overfitting.    \n",
    "\n",
    "param_grid = {\n",
    "        'silent': [False],\n",
    "        'max_depth': [2, 5, 7, 10, 15],\n",
    "        'learning_rate': [0.05, 0.1, 0.15, 0.2, 0.25],\n",
    "        'colsample_bytree': [0.2, 0.3, 0.4, 0.7, 0.8, 0.9],\n",
    "        'reg_alpha': [0.5, 1.0, 1.5, 9.0, 10.0, 11.0],\n",
    "}"
   ]
  },
  {
   "cell_type": "code",
   "execution_count": 1,
   "metadata": {},
   "outputs": [
    {
     "ename": "NameError",
     "evalue": "name 'RandomizedSearchCV' is not defined",
     "output_type": "error",
     "traceback": [
      "\u001b[0;31m---------------------------------------------------------------------------\u001b[0m",
      "\u001b[0;31mNameError\u001b[0m                                 Traceback (most recent call last)",
      "\u001b[0;32m<ipython-input-1-c9432e35588a>\u001b[0m in \u001b[0;36m<module>\u001b[0;34m\u001b[0m\n\u001b[0;32m----> 1\u001b[0;31m \u001b[0mRandomizedSearchCV\u001b[0m\u001b[0;34m(\u001b[0m\u001b[0;34m)\u001b[0m\u001b[0;34m\u001b[0m\u001b[0;34m\u001b[0m\u001b[0m\n\u001b[0m",
      "\u001b[0;31mNameError\u001b[0m: name 'RandomizedSearchCV' is not defined"
     ]
    }
   ],
   "source": [
    "RandomizedSearchCV()\n"
   ]
  },
  {
   "cell_type": "code",
   "execution_count": 15,
   "metadata": {},
   "outputs": [],
   "source": [
    "#n_iter:\n",
    "#Number of parameter settings that are sampled. n_iter trades off runtime vs quality of the solution.\n",
    "\n",
    "clf = xgb.XGBClassifier()\n",
    "#cv=3 uso la misma que en xgb.cv mas arriba\n",
    "rs_clf = RandomizedSearchCV(clf, param_grid, n_iter=40,\n",
    "                            verbose=2, cv=3,\n",
    "                            scoring='neg_mean_squared_error', random_state=42)"
   ]
  },
  {
   "cell_type": "code",
   "execution_count": null,
   "metadata": {
    "collapsed": true
   },
   "outputs": [
    {
     "name": "stdout",
     "output_type": "stream",
     "text": [
      "Randomized search..\n",
      "Fitting 3 folds for each of 40 candidates, totalling 120 fits\n",
      "[CV] silent=False, reg_alpha=10.0, max_depth=5, learning_rate=0.15, colsample_bytree=0.2 \n"
     ]
    },
    {
     "name": "stderr",
     "output_type": "stream",
     "text": [
      "The least populated class in y has only 1 members, which is less than n_splits=3.\n",
      "[Parallel(n_jobs=1)]: Using backend SequentialBackend with 1 concurrent workers.\n"
     ]
    },
    {
     "name": "stdout",
     "output_type": "stream",
     "text": [
      "[CV]  silent=False, reg_alpha=10.0, max_depth=5, learning_rate=0.15, colsample_bytree=0.2, total= 1.8min\n",
      "[CV] silent=False, reg_alpha=10.0, max_depth=5, learning_rate=0.15, colsample_bytree=0.2 \n"
     ]
    },
    {
     "name": "stderr",
     "output_type": "stream",
     "text": [
      "[Parallel(n_jobs=1)]: Done   1 out of   1 | elapsed:  1.8min remaining:    0.0s\n"
     ]
    },
    {
     "name": "stdout",
     "output_type": "stream",
     "text": [
      "[CV]  silent=False, reg_alpha=10.0, max_depth=5, learning_rate=0.15, colsample_bytree=0.2, total= 1.8min\n",
      "[CV] silent=False, reg_alpha=10.0, max_depth=5, learning_rate=0.15, colsample_bytree=0.2 \n",
      "[CV]  silent=False, reg_alpha=10.0, max_depth=5, learning_rate=0.15, colsample_bytree=0.2, total= 1.9min\n",
      "[CV] silent=False, reg_alpha=11.0, max_depth=7, learning_rate=0.15, colsample_bytree=0.9 \n",
      "[CV]  silent=False, reg_alpha=11.0, max_depth=7, learning_rate=0.15, colsample_bytree=0.9, total= 2.5min\n",
      "[CV] silent=False, reg_alpha=11.0, max_depth=7, learning_rate=0.15, colsample_bytree=0.9 \n",
      "[CV]  silent=False, reg_alpha=11.0, max_depth=7, learning_rate=0.15, colsample_bytree=0.9, total= 2.5min\n",
      "[CV] silent=False, reg_alpha=11.0, max_depth=7, learning_rate=0.15, colsample_bytree=0.9 \n",
      "[CV]  silent=False, reg_alpha=11.0, max_depth=7, learning_rate=0.15, colsample_bytree=0.9, total= 2.5min\n",
      "[CV] silent=False, reg_alpha=9.0, max_depth=10, learning_rate=0.15, colsample_bytree=0.3 \n",
      "[CV]  silent=False, reg_alpha=9.0, max_depth=10, learning_rate=0.15, colsample_bytree=0.3, total= 1.9min\n",
      "[CV] silent=False, reg_alpha=9.0, max_depth=10, learning_rate=0.15, colsample_bytree=0.3 \n",
      "[CV]  silent=False, reg_alpha=9.0, max_depth=10, learning_rate=0.15, colsample_bytree=0.3, total= 1.9min\n",
      "[CV] silent=False, reg_alpha=9.0, max_depth=10, learning_rate=0.15, colsample_bytree=0.3 \n",
      "[CV]  silent=False, reg_alpha=9.0, max_depth=10, learning_rate=0.15, colsample_bytree=0.3, total= 2.0min\n",
      "[CV] silent=False, reg_alpha=0.5, max_depth=10, learning_rate=0.25, colsample_bytree=0.7 \n",
      "[CV]  silent=False, reg_alpha=0.5, max_depth=10, learning_rate=0.25, colsample_bytree=0.7, total= 3.0min\n",
      "[CV] silent=False, reg_alpha=0.5, max_depth=10, learning_rate=0.25, colsample_bytree=0.7 \n",
      "[CV]  silent=False, reg_alpha=0.5, max_depth=10, learning_rate=0.25, colsample_bytree=0.7, total= 2.8min\n",
      "[CV] silent=False, reg_alpha=0.5, max_depth=10, learning_rate=0.25, colsample_bytree=0.7 \n",
      "[CV]  silent=False, reg_alpha=0.5, max_depth=10, learning_rate=0.25, colsample_bytree=0.7, total= 2.8min\n",
      "[CV] silent=False, reg_alpha=9.0, max_depth=5, learning_rate=0.1, colsample_bytree=0.2 \n",
      "[CV]  silent=False, reg_alpha=9.0, max_depth=5, learning_rate=0.1, colsample_bytree=0.2, total= 1.8min\n",
      "[CV] silent=False, reg_alpha=9.0, max_depth=5, learning_rate=0.1, colsample_bytree=0.2 \n",
      "[CV]  silent=False, reg_alpha=9.0, max_depth=5, learning_rate=0.1, colsample_bytree=0.2, total= 1.8min\n",
      "[CV] silent=False, reg_alpha=9.0, max_depth=5, learning_rate=0.1, colsample_bytree=0.2 \n",
      "[CV]  silent=False, reg_alpha=9.0, max_depth=5, learning_rate=0.1, colsample_bytree=0.2, total= 1.9min\n",
      "[CV] silent=False, reg_alpha=11.0, max_depth=5, learning_rate=0.25, colsample_bytree=0.8 \n",
      "[CV]  silent=False, reg_alpha=11.0, max_depth=5, learning_rate=0.25, colsample_bytree=0.8, total= 2.4min\n",
      "[CV] silent=False, reg_alpha=11.0, max_depth=5, learning_rate=0.25, colsample_bytree=0.8 \n",
      "[CV]  silent=False, reg_alpha=11.0, max_depth=5, learning_rate=0.25, colsample_bytree=0.8, total= 2.4min\n",
      "[CV] silent=False, reg_alpha=11.0, max_depth=5, learning_rate=0.25, colsample_bytree=0.8 \n",
      "[CV]  silent=False, reg_alpha=11.0, max_depth=5, learning_rate=0.25, colsample_bytree=0.8, total= 2.5min\n",
      "[CV] silent=False, reg_alpha=11.0, max_depth=15, learning_rate=0.25, colsample_bytree=0.3 \n",
      "[CV]  silent=False, reg_alpha=11.0, max_depth=15, learning_rate=0.25, colsample_bytree=0.3, total= 1.9min\n",
      "[CV] silent=False, reg_alpha=11.0, max_depth=15, learning_rate=0.25, colsample_bytree=0.3 \n",
      "[CV]  silent=False, reg_alpha=11.0, max_depth=15, learning_rate=0.25, colsample_bytree=0.3, total= 1.9min\n",
      "[CV] silent=False, reg_alpha=11.0, max_depth=15, learning_rate=0.25, colsample_bytree=0.3 \n",
      "[CV]  silent=False, reg_alpha=11.0, max_depth=15, learning_rate=0.25, colsample_bytree=0.3, total=56.9min\n",
      "[CV] silent=False, reg_alpha=1.5, max_depth=10, learning_rate=0.2, colsample_bytree=0.2 \n",
      "[CV]  silent=False, reg_alpha=1.5, max_depth=10, learning_rate=0.2, colsample_bytree=0.2, total=30.0min\n",
      "[CV] silent=False, reg_alpha=1.5, max_depth=10, learning_rate=0.2, colsample_bytree=0.2 \n",
      "[CV]  silent=False, reg_alpha=1.5, max_depth=10, learning_rate=0.2, colsample_bytree=0.2, total= 1.9min\n",
      "[CV] silent=False, reg_alpha=1.5, max_depth=10, learning_rate=0.2, colsample_bytree=0.2 \n",
      "[CV]  silent=False, reg_alpha=1.5, max_depth=10, learning_rate=0.2, colsample_bytree=0.2, total= 1.9min\n",
      "[CV] silent=False, reg_alpha=0.5, max_depth=7, learning_rate=0.15, colsample_bytree=0.2 \n",
      "[CV]  silent=False, reg_alpha=0.5, max_depth=7, learning_rate=0.15, colsample_bytree=0.2, total= 2.0min\n",
      "[CV] silent=False, reg_alpha=0.5, max_depth=7, learning_rate=0.15, colsample_bytree=0.2 \n",
      "[CV]  silent=False, reg_alpha=0.5, max_depth=7, learning_rate=0.15, colsample_bytree=0.2, total= 2.0min\n",
      "[CV] silent=False, reg_alpha=0.5, max_depth=7, learning_rate=0.15, colsample_bytree=0.2 \n",
      "[CV]  silent=False, reg_alpha=0.5, max_depth=7, learning_rate=0.15, colsample_bytree=0.2, total= 2.0min\n",
      "[CV] silent=False, reg_alpha=1.5, max_depth=15, learning_rate=0.15, colsample_bytree=0.2 \n",
      "[CV]  silent=False, reg_alpha=1.5, max_depth=15, learning_rate=0.15, colsample_bytree=0.2, total= 1.8min\n",
      "[CV] silent=False, reg_alpha=1.5, max_depth=15, learning_rate=0.15, colsample_bytree=0.2 \n",
      "[CV]  silent=False, reg_alpha=1.5, max_depth=15, learning_rate=0.15, colsample_bytree=0.2, total= 1.8min\n",
      "[CV] silent=False, reg_alpha=1.5, max_depth=15, learning_rate=0.15, colsample_bytree=0.2 \n",
      "[CV]  silent=False, reg_alpha=1.5, max_depth=15, learning_rate=0.15, colsample_bytree=0.2, total= 1.9min\n",
      "[CV] silent=False, reg_alpha=1.0, max_depth=10, learning_rate=0.25, colsample_bytree=0.2 \n",
      "[CV]  silent=False, reg_alpha=1.0, max_depth=10, learning_rate=0.25, colsample_bytree=0.2, total= 1.9min\n",
      "[CV] silent=False, reg_alpha=1.0, max_depth=10, learning_rate=0.25, colsample_bytree=0.2 \n",
      "[CV]  silent=False, reg_alpha=1.0, max_depth=10, learning_rate=0.25, colsample_bytree=0.2, total= 2.0min\n",
      "[CV] silent=False, reg_alpha=1.0, max_depth=10, learning_rate=0.25, colsample_bytree=0.2 \n",
      "[CV]  silent=False, reg_alpha=1.0, max_depth=10, learning_rate=0.25, colsample_bytree=0.2, total= 2.1min\n",
      "[CV] silent=False, reg_alpha=11.0, max_depth=10, learning_rate=0.15, colsample_bytree=0.7 \n",
      "[CV]  silent=False, reg_alpha=11.0, max_depth=10, learning_rate=0.15, colsample_bytree=0.7, total= 2.4min\n",
      "[CV] silent=False, reg_alpha=11.0, max_depth=10, learning_rate=0.15, colsample_bytree=0.7 \n",
      "[CV]  silent=False, reg_alpha=11.0, max_depth=10, learning_rate=0.15, colsample_bytree=0.7, total= 2.3min\n",
      "[CV] silent=False, reg_alpha=11.0, max_depth=10, learning_rate=0.15, colsample_bytree=0.7 \n",
      "[CV]  silent=False, reg_alpha=11.0, max_depth=10, learning_rate=0.15, colsample_bytree=0.7, total= 2.5min\n",
      "[CV] silent=False, reg_alpha=9.0, max_depth=10, learning_rate=0.1, colsample_bytree=0.9 \n",
      "[CV]  silent=False, reg_alpha=9.0, max_depth=10, learning_rate=0.1, colsample_bytree=0.9, total= 2.6min\n",
      "[CV] silent=False, reg_alpha=9.0, max_depth=10, learning_rate=0.1, colsample_bytree=0.9 \n",
      "[CV]  silent=False, reg_alpha=9.0, max_depth=10, learning_rate=0.1, colsample_bytree=0.9, total= 2.6min\n",
      "[CV] silent=False, reg_alpha=9.0, max_depth=10, learning_rate=0.1, colsample_bytree=0.9 \n",
      "[CV]  silent=False, reg_alpha=9.0, max_depth=10, learning_rate=0.1, colsample_bytree=0.9, total= 2.6min\n",
      "[CV] silent=False, reg_alpha=0.5, max_depth=2, learning_rate=0.25, colsample_bytree=0.2 \n",
      "[CV]  silent=False, reg_alpha=0.5, max_depth=2, learning_rate=0.25, colsample_bytree=0.2, total= 1.9min\n",
      "[CV] silent=False, reg_alpha=0.5, max_depth=2, learning_rate=0.25, colsample_bytree=0.2 \n",
      "[CV]  silent=False, reg_alpha=0.5, max_depth=2, learning_rate=0.25, colsample_bytree=0.2, total= 1.9min\n",
      "[CV] silent=False, reg_alpha=0.5, max_depth=2, learning_rate=0.25, colsample_bytree=0.2 \n",
      "[CV]  silent=False, reg_alpha=0.5, max_depth=2, learning_rate=0.25, colsample_bytree=0.2, total= 2.0min\n",
      "[CV] silent=False, reg_alpha=9.0, max_depth=10, learning_rate=0.2, colsample_bytree=0.8 \n",
      "[CV]  silent=False, reg_alpha=9.0, max_depth=10, learning_rate=0.2, colsample_bytree=0.8, total= 2.4min\n",
      "[CV] silent=False, reg_alpha=9.0, max_depth=10, learning_rate=0.2, colsample_bytree=0.8 \n",
      "[CV]  silent=False, reg_alpha=9.0, max_depth=10, learning_rate=0.2, colsample_bytree=0.8, total= 2.4min\n",
      "[CV] silent=False, reg_alpha=9.0, max_depth=10, learning_rate=0.2, colsample_bytree=0.8 \n"
     ]
    },
    {
     "name": "stdout",
     "output_type": "stream",
     "text": [
      "[CV]  silent=False, reg_alpha=9.0, max_depth=10, learning_rate=0.2, colsample_bytree=0.8, total= 2.4min\n",
      "[CV] silent=False, reg_alpha=1.5, max_depth=10, learning_rate=0.25, colsample_bytree=0.7 \n",
      "[CV]  silent=False, reg_alpha=1.5, max_depth=10, learning_rate=0.25, colsample_bytree=0.7, total= 2.3min\n",
      "[CV] silent=False, reg_alpha=1.5, max_depth=10, learning_rate=0.25, colsample_bytree=0.7 \n",
      "[CV]  silent=False, reg_alpha=1.5, max_depth=10, learning_rate=0.25, colsample_bytree=0.7, total= 2.3min\n",
      "[CV] silent=False, reg_alpha=1.5, max_depth=10, learning_rate=0.25, colsample_bytree=0.7 \n",
      "[CV]  silent=False, reg_alpha=1.5, max_depth=10, learning_rate=0.25, colsample_bytree=0.7, total= 2.3min\n",
      "[CV] silent=False, reg_alpha=0.5, max_depth=10, learning_rate=0.05, colsample_bytree=0.3 \n",
      "[CV]  silent=False, reg_alpha=0.5, max_depth=10, learning_rate=0.05, colsample_bytree=0.3, total= 2.2min\n",
      "[CV] silent=False, reg_alpha=0.5, max_depth=10, learning_rate=0.05, colsample_bytree=0.3 \n",
      "[CV]  silent=False, reg_alpha=0.5, max_depth=10, learning_rate=0.05, colsample_bytree=0.3, total= 2.1min\n",
      "[CV] silent=False, reg_alpha=0.5, max_depth=10, learning_rate=0.05, colsample_bytree=0.3 \n",
      "[CV]  silent=False, reg_alpha=0.5, max_depth=10, learning_rate=0.05, colsample_bytree=0.3, total= 2.2min\n",
      "[CV] silent=False, reg_alpha=1.5, max_depth=2, learning_rate=0.25, colsample_bytree=0.4 \n",
      "[CV]  silent=False, reg_alpha=1.5, max_depth=2, learning_rate=0.25, colsample_bytree=0.4, total= 2.0min\n",
      "[CV] silent=False, reg_alpha=1.5, max_depth=2, learning_rate=0.25, colsample_bytree=0.4 \n"
     ]
    }
   ],
   "source": [
    "print(\"Randomized search..\")\n",
    "search_time_start = time.time()\n",
    "#le paso X_aux, y_aux en vez de el x_train, y_train ( que es un % del total ) porque estoy usando cross validation, \n",
    "#si no usara CV deberia tener cuidado y validar si le paso x_train, y_train , xq se podria dar el caso de que \n",
    "# como hace el entrenamiento con la totalidad de los datos, luego el x_test, y_test van a dar muy bien y no es el caso.\n",
    "rs_clf.fit(X_aux, y_aux)\n",
    "print(\"Randomized search time:\", time.time() - search_time_start)"
   ]
  },
  {
   "cell_type": "code",
   "execution_count": null,
   "metadata": {},
   "outputs": [],
   "source": [
    "randomSearchCV 1,360,719.781122662 # <- np.sqrt(-best_score)\n",
    "best params -> colsample_bytree: 0.7, learning_rate: 0.25, max_depth: 10, reg_alpha: 0.5\n",
    "param_grid utilizada:\n",
    "param_grid = {\n",
    "        'silent': [False],\n",
    "        'max_depth': [2, 5, 7, 10, 15],\n",
    "        'learning_rate': [0.05, 0.1, 0.15, 0.2, 0.25],\n",
    "        'colsample_bytree': [0.2, 0.3, 0.4, 0.7, 0.8, 0.9],\n",
    "        'reg_alpha': [0.5, 1.0, 1.5, 9.0, 10.0, 11.0],\n",
    "}"
   ]
  },
  {
   "cell_type": "code",
   "execution_count": null,
   "metadata": {},
   "outputs": [],
   "source": [
    "#valore para pasarle RandomizedSearchCV en el param \"scoring\" que seria la fc de evaluacion\n",
    "#https://scikit-learn.org/stable/modules/model_evaluation.html#scoring-parameter\n",
    "Regression \n",
    "\n",
    "‘explained_variance’\n",
    "metrics.explained_variance_score\n",
    "\n",
    "‘max_error’\n",
    "metrics.max_error\n",
    "\n",
    "‘neg_mean_absolute_error’\n",
    "metrics.mean_absolute_error\n",
    "\n",
    "‘neg_mean_squared_error’\n",
    "metrics.mean_squared_error\n",
    "\n",
    "‘neg_root_mean_squared_error’\n",
    "metrics.mean_squared_error\n",
    "\n",
    "‘neg_mean_squared_log_error’\n",
    "metrics.mean_squared_log_error\n",
    "\n",
    "‘neg_median_absolute_error’\n",
    "metrics.median_absolute_error\n",
    "\n",
    "‘r2’\n",
    "metrics.r2_score\n",
    "\n",
    "‘neg_mean_poisson_deviance’\n",
    "metrics.mean_poisson_deviance\n",
    "\n",
    "‘neg_mean_gamma_deviance’\n",
    "metrics.mean_gamma_deviance"
   ]
  }
 ],
 "metadata": {
  "kernelspec": {
   "display_name": "Python 3",
   "language": "python",
   "name": "python3"
  },
  "language_info": {
   "codemirror_mode": {
    "name": "ipython",
    "version": 3
   },
   "file_extension": ".py",
   "mimetype": "text/x-python",
   "name": "python",
   "nbconvert_exporter": "python",
   "pygments_lexer": "ipython3",
   "version": "3.7.3"
  }
 },
 "nbformat": 4,
 "nbformat_minor": 2
}
