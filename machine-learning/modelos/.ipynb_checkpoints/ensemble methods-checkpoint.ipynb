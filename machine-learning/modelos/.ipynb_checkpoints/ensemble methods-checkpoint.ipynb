{
 "cells": [
  {
   "cell_type": "code",
   "execution_count": 1,
   "metadata": {},
   "outputs": [],
   "source": [
    "import pandas as pd\n",
    "import numpy as np\n",
    "import pickle\n",
    "from math import sqrt\n",
    "\n",
    "import warnings\n",
    "import scipy.stats as stats\n",
    "import xgboost as xgb\n",
    "\n",
    "import shap\n",
    "\n",
    "import torch\n",
    "from torch import nn, optim\n",
    "\n",
    "import category_encoders as ce\n",
    "\n",
    "from tqdm import tqdm\n",
    "\n",
    "import gc\n",
    "\n",
    "import time"
   ]
  },
  {
   "cell_type": "code",
   "execution_count": 2,
   "metadata": {},
   "outputs": [],
   "source": [
    "import sklearn.metrics\n",
    "from sklearn.model_selection import train_test_split\n",
    "from sklearn.ensemble import RandomForestRegressor\n",
    "from sklearn.metrics import mean_absolute_error\n",
    "from sklearn.linear_model import SGDRegressor\n",
    "from sklearn.model_selection import RandomizedSearchCV, GridSearchCV\n",
    "from sklearn.model_selection import train_test_split\n",
    "from sklearn.metrics import accuracy_score\n",
    "from sklearn.metrics import mean_squared_error\n",
    "from sklearn.metrics import roc_auc_score"
   ]
  },
  {
   "cell_type": "code",
   "execution_count": 3,
   "metadata": {},
   "outputs": [
    {
     "name": "stderr",
     "output_type": "stream",
     "text": [
      "The sklearn.metrics.scorer module is  deprecated in version 0.22 and will be removed in version 0.24. The corresponding classes / functions should instead be imported from sklearn.metrics. Anything that cannot be imported from sklearn.metrics is now part of the private API.\n"
     ]
    }
   ],
   "source": [
    "from pyspark.ml.regression import LinearRegression\n",
    "from pyspark.mllib.evaluation import RegressionMetrics\n",
    "\n",
    "from pyspark.ml.tuning import ParamGridBuilder, CrossValidator, CrossValidatorModel\n",
    "from pyspark.ml.feature import VectorAssembler, StandardScaler\n",
    "from pyspark.ml.evaluation import RegressionEvaluator\n",
    "\n",
    "from sklearn.ensemble import RandomForestRegressor\n",
    "from sklearn.metrics import make_scorer\n",
    "\n",
    "from spark_sklearn import GridSearchCV"
   ]
  },
  {
   "cell_type": "code",
   "execution_count": 4,
   "metadata": {},
   "outputs": [],
   "source": [
    "import lightgbm\n",
    "from lightgbm import Dataset \n",
    "from lightgbm import train\n",
    "from lightgbm import cv\n",
    "from datetime import datetime"
   ]
  },
  {
   "cell_type": "markdown",
   "metadata": {},
   "source": [
    "# LightGBM"
   ]
  },
  {
   "cell_type": "code",
   "execution_count": 5,
   "metadata": {},
   "outputs": [],
   "source": [
    "#levanto data sets\n",
    "df = pd.read_csv(\"../../machine-learning/cleanedData.csv\")\n",
    "y = df.precio\n",
    "\n",
    "X = pd.read_csv(\"../../machine-learning/xgboost-x.csv\")"
   ]
  },
  {
   "cell_type": "code",
   "execution_count": 6,
   "metadata": {},
   "outputs": [],
   "source": [
    "aux = X.join(y)\n",
    "aux = aux.dropna()\n",
    "aux = aux.sample(n=5000, random_state=42)"
   ]
  },
  {
   "cell_type": "code",
   "execution_count": 7,
   "metadata": {},
   "outputs": [],
   "source": [
    "y_aux = aux.precio\n",
    "#y_aux = np.log1p(y_aux)# applying log transformation here\n",
    "\n",
    "X_aux = aux.drop(['precio'], axis=1, inplace=False)\n",
    "X_aux.drop(['Unnamed: 0'], axis=1, inplace=True)\n",
    "X_aux.drop(['id'], axis=1, inplace=True)\n",
    "\n",
    "y_test = pd.DataFrame(y_aux)"
   ]
  },
  {
   "cell_type": "code",
   "execution_count": 8,
   "metadata": {},
   "outputs": [],
   "source": [
    "seed = 7\n",
    "test_size = 0.33\n",
    "X_train, X_test, y_train, y_test = train_test_split(X_aux, y_aux, test_size=test_size, random_state=seed)"
   ]
  },
  {
   "cell_type": "code",
   "execution_count": null,
   "metadata": {},
   "outputs": [],
   "source": []
  },
  {
   "cell_type": "code",
   "execution_count": 9,
   "metadata": {},
   "outputs": [],
   "source": [
    "def save_prediction(y_test, ids, model):\n",
    "\t\tfinal_pred = y_test\n",
    "\n",
    "#\t\tids = self.df_test['id'].values\n",
    "\t\ttry:\n",
    "\t\t\tos.mkdir('predictions')\n",
    "\t\texcept:\n",
    "\t\t\tpass\n",
    "\n",
    "\n",
    "\t\tsubmit = pd.DataFrame({'id':ids,'target':final_pred})\n",
    "\t\tsubmit.to_csv('../../machine-learning/predictions/submit-'+model+'.csv',index=False)"
   ]
  },
  {
   "cell_type": "code",
   "execution_count": 10,
   "metadata": {},
   "outputs": [],
   "source": [
    "def timer(start_time=None):\n",
    "\t\tif not start_time:\n",
    "\t\t\tstart_time = datetime.now()\n",
    "\t\t\treturn start_time\n",
    "\t\telif start_time:\n",
    "\t\t\tthour, temp_sec = divmod((datetime.now() - start_time).total_seconds(), 3600)\n",
    "\t\t\ttmin, tsec = divmod(temp_sec, 60)\n",
    "\t\t\tprint('Time taken: %i hours %i minutes and %s seconds.' % (thour, tmin, round(tsec, 2)))"
   ]
  },
  {
   "cell_type": "code",
   "execution_count": 11,
   "metadata": {},
   "outputs": [],
   "source": [
    "def prepare_data():\n",
    "    lgb_train = Dataset(X_train,y_train)#,free_raw_data=False)\n",
    "    lgb_eval = Dataset(X_test,y_test)#,free_raw_data=False)\n",
    "\n",
    "    return lgb_train,lgb_eval"
   ]
  },
  {
   "cell_type": "code",
   "execution_count": 12,
   "metadata": {},
   "outputs": [],
   "source": [
    "def print_metrics(y_test, y_test_pred):\n",
    "    # mean_absolute_error\n",
    "\t\tmae = mean_absolute_error(y_test, y_test_pred)\n",
    "\t\tprint(\"\")\n",
    "\t\tprint(\"mean_absolute_error (MAE): {0:.5f}\".format(mae)) \n",
    "\n",
    "\t\trms = sqrt(mae)\n",
    "\t\tprint(\"\")\n",
    "\t\tprint(\"root mean_absolute_error (RMSE): {0:.5f}\".format(rms))     \n",
    "    \n",
    "    #calculating accuracy\n",
    "#\t\taccuracy_lgbm = accuracy_score(y_test_pred, y_test)\n",
    "#\t\tprint(\"LightGBM accuracy score: {0:.5f}\".format(accuracy_lgbm)) #ValueError: continuous is not supported\n",
    "#Is a classification or ranking metric, not a regression metric. So it doesn't accept continuous y.\n",
    "#https://github.com/scikit-learn/scikit-learn/issues/6592\n",
    "#\t\tprint(\"\")\n",
    "    \n",
    "    #calculating roc_auc_score for light gbm.\n",
    "#\t\tauc_lgbm = roc_auc_score(y_test,y_test_probs)\n",
    "#\t\tprint(\"LightGBM auc score: {0:.5f}\".format(auc_lgbm))\n",
    "#\t\tprint(\"\")\n",
    "    "
   ]
  },
  {
   "cell_type": "code",
   "execution_count": 13,
   "metadata": {},
   "outputs": [],
   "source": [
    "def train_model_nocv(lgb_train,lgb_eval,params):\n",
    "\n",
    "\t\tprint('Start training...')\n",
    "\t\tstart_time = timer()\n",
    "\n",
    "\t\tbooster = train(\n",
    "\t\t\t\tparams=params,\n",
    "\t\t\t\ttrain_set=lgb_train,\n",
    "\t\t\t\tvalid_sets=[lgb_eval],\n",
    "\t\t\t\tverbose_eval=100,\n",
    "\t\t\t)\n",
    "\n",
    "\t\t\"\"\"booster = cv(\n",
    "\t\t\tparams=params,\n",
    "\t\t\ttrain_set=lgb_train,\n",
    "\t\t\t)\"\"\"\n",
    "\n",
    "\t\ttimer(start_time)\n",
    "\n",
    "\t\tprint(\"\")\n",
    "\t\tprint('Saving model into a pickle')\n",
    "\t\ttry:\n",
    "\t\t\tos.mkdir('pickles')\n",
    "\t\texcept:\n",
    "\t\t\tpass\n",
    "\n",
    "\t\twith open('../../machine-learning/pickles/lightgbm.pkl','wb') as f:\n",
    "\t\t\tpickle.dump(booster, f)\n",
    "\n",
    "\t\tprint('Making prediction and saving into a csv')\n",
    "\t\ty_test_pred = booster.predict(X_test)\n",
    "\n",
    "\n",
    "\t\treturn y_test_pred"
   ]
  },
  {
   "cell_type": "code",
   "execution_count": null,
   "metadata": {},
   "outputs": [],
   "source": [
    "For Better Accuracy\n",
    "\n",
    "Use large max_bin (may be slower)\n",
    "Use small learning_rate with large num_iterations\n",
    "Use large num_leaves (may cause over-fitting)\n",
    "Use bigger training data\n",
    "Try dart"
   ]
  },
  {
   "cell_type": "code",
   "execution_count": 47,
   "metadata": {},
   "outputs": [
    {
     "name": "stdout",
     "output_type": "stream",
     "text": [
      "Start training...\n"
     ]
    },
    {
     "name": "stderr",
     "output_type": "stream",
     "text": [
      "Found `num_iterations` in params. Will use it instead of argument\n"
     ]
    },
    {
     "name": "stdout",
     "output_type": "stream",
     "text": [
      "[100]\tvalid_0's auc: 1\tvalid_0's l1: 595242\tvalid_0's rmse: 932438\n",
      "[200]\tvalid_0's auc: 1\tvalid_0's l1: 544921\tvalid_0's rmse: 885608\n",
      "[300]\tvalid_0's auc: 1\tvalid_0's l1: 535553\tvalid_0's rmse: 879763\n",
      "[400]\tvalid_0's auc: 1\tvalid_0's l1: 532953\tvalid_0's rmse: 879574\n",
      "[500]\tvalid_0's auc: 1\tvalid_0's l1: 531507\tvalid_0's rmse: 880969\n",
      "[600]\tvalid_0's auc: 1\tvalid_0's l1: 532153\tvalid_0's rmse: 884970\n",
      "[700]\tvalid_0's auc: 1\tvalid_0's l1: 531591\tvalid_0's rmse: 886741\n",
      "[800]\tvalid_0's auc: 1\tvalid_0's l1: 531662\tvalid_0's rmse: 888299\n",
      "[900]\tvalid_0's auc: 1\tvalid_0's l1: 532192\tvalid_0's rmse: 889796\n",
      "[1000]\tvalid_0's auc: 1\tvalid_0's l1: 532953\tvalid_0's rmse: 892003\n",
      "Time taken: 0 hours 0 minutes and 1.3 seconds.\n",
      "\n",
      "Saving model into a pickle\n",
      "Making prediction and saving into a csv\n",
      "\n",
      "mean_absolute_error (MAE): 532952.90604\n",
      "\n",
      "root mean_absolute_error (RMSE): 730.03624\n"
     ]
    }
   ],
   "source": [
    "params = {'num_leaves':150,\n",
    "          'max_depth':7,\n",
    "          'learning_rate':.02,\n",
    "          'max_bin':150,\n",
    "          'num_iterations':1000 #default = 100          \n",
    "         }\n",
    "params['metric'] = ['auc', 'mae', 'rmse']\n",
    "\n",
    "lgb_train,lgb_eval = prepare_data()\n",
    "y_test_pred = train_model_nocv(lgb_train, lgb_eval, params)\n",
    "print_metrics(y_test, y_test_pred)"
   ]
  },
  {
   "cell_type": "code",
   "execution_count": null,
   "metadata": {},
   "outputs": [],
   "source": [
    "ids = X_test.index\n",
    "save_prediction(y_test_pred, ids, 'LightGBM')"
   ]
  },
  {
   "cell_type": "code",
   "execution_count": null,
   "metadata": {},
   "outputs": [],
   "source": [
    "#\n",
    "#\n",
    "PORQUE EL RMSE DE MI FUNCION print_metrics DA DISTINTO AL QUE IMPRIME lightgbm.train ???????\n",
    "#\n",
    "#"
   ]
  },
  {
   "cell_type": "code",
   "execution_count": null,
   "metadata": {},
   "outputs": [],
   "source": []
  },
  {
   "cell_type": "markdown",
   "metadata": {},
   "source": [
    "# LightGBM Random Search"
   ]
  },
  {
   "cell_type": "code",
   "execution_count": 50,
   "metadata": {},
   "outputs": [],
   "source": [
    "params = {'num_leaves':[75, 100, 125, 150, 175],\n",
    "          'max_depth':[2,4,6,8],\n",
    "          'learning_rate':[.01, .05, .1, .015, .2],\n",
    "          'max_bin':[50, 100, 150, 200],\n",
    "          'num_iterations':[1000] #default = 100          \n",
    "         }"
   ]
  },
  {
   "cell_type": "code",
   "execution_count": 51,
   "metadata": {},
   "outputs": [],
   "source": [
    "clf = lightgbm.LGBMRegressor()\n",
    "rs_clf = RandomizedSearchCV(clf, params, n_iter=40,\n",
    "                            verbose=2, cv=3,\n",
    "                            scoring='neg_mean_squared_error', random_state=42)\n",
    "\n",
    "# MSE == neg_mean_squared_error"
   ]
  },
  {
   "cell_type": "code",
   "execution_count": 52,
   "metadata": {
    "collapsed": true
   },
   "outputs": [
    {
     "name": "stdout",
     "output_type": "stream",
     "text": [
      "Randomized search..\n",
      "\n",
      "Fitting 3 folds for each of 40 candidates, totalling 120 fits\n",
      "[CV] num_leaves=175, num_iterations=1000, max_depth=4, max_bin=150, learning_rate=0.1 \n"
     ]
    },
    {
     "name": "stderr",
     "output_type": "stream",
     "text": [
      "[Parallel(n_jobs=1)]: Using backend SequentialBackend with 1 concurrent workers.\n"
     ]
    },
    {
     "name": "stdout",
     "output_type": "stream",
     "text": [
      "[CV]  num_leaves=175, num_iterations=1000, max_depth=4, max_bin=150, learning_rate=0.1, total=   0.7s\n",
      "[CV] num_leaves=175, num_iterations=1000, max_depth=4, max_bin=150, learning_rate=0.1 \n"
     ]
    },
    {
     "name": "stderr",
     "output_type": "stream",
     "text": [
      "[Parallel(n_jobs=1)]: Done   1 out of   1 | elapsed:    0.7s remaining:    0.0s\n",
      "Found `num_iterations` in params. Will use it instead of argument\n"
     ]
    },
    {
     "name": "stdout",
     "output_type": "stream",
     "text": [
      "[CV]  num_leaves=175, num_iterations=1000, max_depth=4, max_bin=150, learning_rate=0.1, total=   0.7s\n",
      "[CV] num_leaves=175, num_iterations=1000, max_depth=4, max_bin=150, learning_rate=0.1 \n"
     ]
    },
    {
     "name": "stderr",
     "output_type": "stream",
     "text": [
      "Found `num_iterations` in params. Will use it instead of argument\n"
     ]
    },
    {
     "name": "stdout",
     "output_type": "stream",
     "text": [
      "[CV]  num_leaves=175, num_iterations=1000, max_depth=4, max_bin=150, learning_rate=0.1, total=   0.7s\n",
      "[CV] num_leaves=75, num_iterations=1000, max_depth=2, max_bin=150, learning_rate=0.015 \n"
     ]
    },
    {
     "name": "stderr",
     "output_type": "stream",
     "text": [
      "Found `num_iterations` in params. Will use it instead of argument\n"
     ]
    },
    {
     "name": "stdout",
     "output_type": "stream",
     "text": [
      "[CV]  num_leaves=75, num_iterations=1000, max_depth=2, max_bin=150, learning_rate=0.015, total=   0.5s\n",
      "[CV] num_leaves=75, num_iterations=1000, max_depth=2, max_bin=150, learning_rate=0.015 \n"
     ]
    },
    {
     "name": "stderr",
     "output_type": "stream",
     "text": [
      "Found `num_iterations` in params. Will use it instead of argument\n"
     ]
    },
    {
     "name": "stdout",
     "output_type": "stream",
     "text": [
      "[CV]  num_leaves=75, num_iterations=1000, max_depth=2, max_bin=150, learning_rate=0.015, total=   0.6s\n",
      "[CV] num_leaves=75, num_iterations=1000, max_depth=2, max_bin=150, learning_rate=0.015 \n"
     ]
    },
    {
     "name": "stderr",
     "output_type": "stream",
     "text": [
      "Found `num_iterations` in params. Will use it instead of argument\n"
     ]
    },
    {
     "name": "stdout",
     "output_type": "stream",
     "text": [
      "[CV]  num_leaves=75, num_iterations=1000, max_depth=2, max_bin=150, learning_rate=0.015, total=   0.5s\n",
      "[CV] num_leaves=150, num_iterations=1000, max_depth=6, max_bin=100, learning_rate=0.01 \n"
     ]
    },
    {
     "name": "stderr",
     "output_type": "stream",
     "text": [
      "Found `num_iterations` in params. Will use it instead of argument\n"
     ]
    },
    {
     "name": "stdout",
     "output_type": "stream",
     "text": [
      "[CV]  num_leaves=150, num_iterations=1000, max_depth=6, max_bin=100, learning_rate=0.01, total=   1.0s\n",
      "[CV] num_leaves=150, num_iterations=1000, max_depth=6, max_bin=100, learning_rate=0.01 \n"
     ]
    },
    {
     "name": "stderr",
     "output_type": "stream",
     "text": [
      "Found `num_iterations` in params. Will use it instead of argument\n"
     ]
    },
    {
     "name": "stdout",
     "output_type": "stream",
     "text": [
      "[CV]  num_leaves=150, num_iterations=1000, max_depth=6, max_bin=100, learning_rate=0.01, total=   1.0s\n",
      "[CV] num_leaves=150, num_iterations=1000, max_depth=6, max_bin=100, learning_rate=0.01 \n"
     ]
    },
    {
     "name": "stderr",
     "output_type": "stream",
     "text": [
      "Found `num_iterations` in params. Will use it instead of argument\n"
     ]
    },
    {
     "name": "stdout",
     "output_type": "stream",
     "text": [
      "[CV]  num_leaves=150, num_iterations=1000, max_depth=6, max_bin=100, learning_rate=0.01, total=   1.0s\n",
      "[CV] num_leaves=75, num_iterations=1000, max_depth=6, max_bin=150, learning_rate=0.1 \n"
     ]
    },
    {
     "name": "stderr",
     "output_type": "stream",
     "text": [
      "Found `num_iterations` in params. Will use it instead of argument\n"
     ]
    },
    {
     "name": "stdout",
     "output_type": "stream",
     "text": [
      "[CV]  num_leaves=75, num_iterations=1000, max_depth=6, max_bin=150, learning_rate=0.1, total=   0.8s\n",
      "[CV] num_leaves=75, num_iterations=1000, max_depth=6, max_bin=150, learning_rate=0.1 \n"
     ]
    },
    {
     "name": "stderr",
     "output_type": "stream",
     "text": [
      "Found `num_iterations` in params. Will use it instead of argument\n"
     ]
    },
    {
     "name": "stdout",
     "output_type": "stream",
     "text": [
      "[CV]  num_leaves=75, num_iterations=1000, max_depth=6, max_bin=150, learning_rate=0.1, total=   1.0s\n",
      "[CV] num_leaves=75, num_iterations=1000, max_depth=6, max_bin=150, learning_rate=0.1 \n"
     ]
    },
    {
     "name": "stderr",
     "output_type": "stream",
     "text": [
      "Found `num_iterations` in params. Will use it instead of argument\n"
     ]
    },
    {
     "name": "stdout",
     "output_type": "stream",
     "text": [
      "[CV]  num_leaves=75, num_iterations=1000, max_depth=6, max_bin=150, learning_rate=0.1, total=   1.0s\n",
      "[CV] num_leaves=150, num_iterations=1000, max_depth=6, max_bin=50, learning_rate=0.05 \n"
     ]
    },
    {
     "name": "stderr",
     "output_type": "stream",
     "text": [
      "Found `num_iterations` in params. Will use it instead of argument\n"
     ]
    },
    {
     "name": "stdout",
     "output_type": "stream",
     "text": [
      "[CV]  num_leaves=150, num_iterations=1000, max_depth=6, max_bin=50, learning_rate=0.05, total=   1.0s\n",
      "[CV] num_leaves=150, num_iterations=1000, max_depth=6, max_bin=50, learning_rate=0.05 \n"
     ]
    },
    {
     "name": "stderr",
     "output_type": "stream",
     "text": [
      "Found `num_iterations` in params. Will use it instead of argument\n"
     ]
    },
    {
     "name": "stdout",
     "output_type": "stream",
     "text": [
      "[CV]  num_leaves=150, num_iterations=1000, max_depth=6, max_bin=50, learning_rate=0.05, total=   0.9s\n",
      "[CV] num_leaves=150, num_iterations=1000, max_depth=6, max_bin=50, learning_rate=0.05 \n"
     ]
    },
    {
     "name": "stderr",
     "output_type": "stream",
     "text": [
      "Found `num_iterations` in params. Will use it instead of argument\n"
     ]
    },
    {
     "name": "stdout",
     "output_type": "stream",
     "text": [
      "[CV]  num_leaves=150, num_iterations=1000, max_depth=6, max_bin=50, learning_rate=0.05, total=   0.8s\n",
      "[CV] num_leaves=175, num_iterations=1000, max_depth=2, max_bin=50, learning_rate=0.05 \n"
     ]
    },
    {
     "name": "stderr",
     "output_type": "stream",
     "text": [
      "Found `num_iterations` in params. Will use it instead of argument\n"
     ]
    },
    {
     "name": "stdout",
     "output_type": "stream",
     "text": [
      "[CV]  num_leaves=175, num_iterations=1000, max_depth=2, max_bin=50, learning_rate=0.05, total=   0.6s\n",
      "[CV] num_leaves=175, num_iterations=1000, max_depth=2, max_bin=50, learning_rate=0.05 \n"
     ]
    },
    {
     "name": "stderr",
     "output_type": "stream",
     "text": [
      "Found `num_iterations` in params. Will use it instead of argument\n"
     ]
    },
    {
     "name": "stdout",
     "output_type": "stream",
     "text": [
      "[CV]  num_leaves=175, num_iterations=1000, max_depth=2, max_bin=50, learning_rate=0.05, total=   0.5s\n",
      "[CV] num_leaves=175, num_iterations=1000, max_depth=2, max_bin=50, learning_rate=0.05 \n"
     ]
    },
    {
     "name": "stderr",
     "output_type": "stream",
     "text": [
      "Found `num_iterations` in params. Will use it instead of argument\n"
     ]
    },
    {
     "name": "stdout",
     "output_type": "stream",
     "text": [
      "[CV]  num_leaves=175, num_iterations=1000, max_depth=2, max_bin=50, learning_rate=0.05, total=   0.6s\n",
      "[CV] num_leaves=175, num_iterations=1000, max_depth=4, max_bin=50, learning_rate=0.2 \n"
     ]
    },
    {
     "name": "stderr",
     "output_type": "stream",
     "text": [
      "Found `num_iterations` in params. Will use it instead of argument\n"
     ]
    },
    {
     "name": "stdout",
     "output_type": "stream",
     "text": [
      "[CV]  num_leaves=175, num_iterations=1000, max_depth=4, max_bin=50, learning_rate=0.2, total=   0.8s\n",
      "[CV] num_leaves=175, num_iterations=1000, max_depth=4, max_bin=50, learning_rate=0.2 \n"
     ]
    },
    {
     "name": "stderr",
     "output_type": "stream",
     "text": [
      "Found `num_iterations` in params. Will use it instead of argument\n"
     ]
    },
    {
     "name": "stdout",
     "output_type": "stream",
     "text": [
      "[CV]  num_leaves=175, num_iterations=1000, max_depth=4, max_bin=50, learning_rate=0.2, total=   0.8s\n",
      "[CV] num_leaves=175, num_iterations=1000, max_depth=4, max_bin=50, learning_rate=0.2 \n"
     ]
    },
    {
     "name": "stderr",
     "output_type": "stream",
     "text": [
      "Found `num_iterations` in params. Will use it instead of argument\n"
     ]
    },
    {
     "name": "stdout",
     "output_type": "stream",
     "text": [
      "[CV]  num_leaves=175, num_iterations=1000, max_depth=4, max_bin=50, learning_rate=0.2, total=   0.8s\n",
      "[CV] num_leaves=175, num_iterations=1000, max_depth=6, max_bin=50, learning_rate=0.05 \n"
     ]
    },
    {
     "name": "stderr",
     "output_type": "stream",
     "text": [
      "Found `num_iterations` in params. Will use it instead of argument\n"
     ]
    },
    {
     "name": "stdout",
     "output_type": "stream",
     "text": [
      "[CV]  num_leaves=175, num_iterations=1000, max_depth=6, max_bin=50, learning_rate=0.05, total=   0.8s\n",
      "[CV] num_leaves=175, num_iterations=1000, max_depth=6, max_bin=50, learning_rate=0.05 \n"
     ]
    },
    {
     "name": "stderr",
     "output_type": "stream",
     "text": [
      "Found `num_iterations` in params. Will use it instead of argument\n"
     ]
    },
    {
     "name": "stdout",
     "output_type": "stream",
     "text": [
      "[CV]  num_leaves=175, num_iterations=1000, max_depth=6, max_bin=50, learning_rate=0.05, total=   0.8s\n",
      "[CV] num_leaves=175, num_iterations=1000, max_depth=6, max_bin=50, learning_rate=0.05 \n"
     ]
    },
    {
     "name": "stderr",
     "output_type": "stream",
     "text": [
      "Found `num_iterations` in params. Will use it instead of argument\n"
     ]
    },
    {
     "name": "stdout",
     "output_type": "stream",
     "text": [
      "[CV]  num_leaves=175, num_iterations=1000, max_depth=6, max_bin=50, learning_rate=0.05, total=   0.8s\n",
      "[CV] num_leaves=100, num_iterations=1000, max_depth=4, max_bin=100, learning_rate=0.015 \n"
     ]
    },
    {
     "name": "stderr",
     "output_type": "stream",
     "text": [
      "Found `num_iterations` in params. Will use it instead of argument\n"
     ]
    },
    {
     "name": "stdout",
     "output_type": "stream",
     "text": [
      "[CV]  num_leaves=100, num_iterations=1000, max_depth=4, max_bin=100, learning_rate=0.015, total=   0.7s\n",
      "[CV] num_leaves=100, num_iterations=1000, max_depth=4, max_bin=100, learning_rate=0.015 \n"
     ]
    },
    {
     "name": "stderr",
     "output_type": "stream",
     "text": [
      "Found `num_iterations` in params. Will use it instead of argument\n"
     ]
    },
    {
     "name": "stdout",
     "output_type": "stream",
     "text": [
      "[CV]  num_leaves=100, num_iterations=1000, max_depth=4, max_bin=100, learning_rate=0.015, total=   0.7s\n",
      "[CV] num_leaves=100, num_iterations=1000, max_depth=4, max_bin=100, learning_rate=0.015 \n"
     ]
    },
    {
     "name": "stderr",
     "output_type": "stream",
     "text": [
      "Found `num_iterations` in params. Will use it instead of argument\n"
     ]
    },
    {
     "name": "stdout",
     "output_type": "stream",
     "text": [
      "[CV]  num_leaves=100, num_iterations=1000, max_depth=4, max_bin=100, learning_rate=0.015, total=   0.9s\n",
      "[CV] num_leaves=100, num_iterations=1000, max_depth=4, max_bin=150, learning_rate=0.05 \n"
     ]
    },
    {
     "name": "stderr",
     "output_type": "stream",
     "text": [
      "Found `num_iterations` in params. Will use it instead of argument\n"
     ]
    },
    {
     "name": "stdout",
     "output_type": "stream",
     "text": [
      "[CV]  num_leaves=100, num_iterations=1000, max_depth=4, max_bin=150, learning_rate=0.05, total=   0.8s\n",
      "[CV] num_leaves=100, num_iterations=1000, max_depth=4, max_bin=150, learning_rate=0.05 \n"
     ]
    },
    {
     "name": "stderr",
     "output_type": "stream",
     "text": [
      "Found `num_iterations` in params. Will use it instead of argument\n"
     ]
    },
    {
     "name": "stdout",
     "output_type": "stream",
     "text": [
      "[CV]  num_leaves=100, num_iterations=1000, max_depth=4, max_bin=150, learning_rate=0.05, total=   0.7s\n",
      "[CV] num_leaves=100, num_iterations=1000, max_depth=4, max_bin=150, learning_rate=0.05 \n"
     ]
    },
    {
     "name": "stderr",
     "output_type": "stream",
     "text": [
      "Found `num_iterations` in params. Will use it instead of argument\n"
     ]
    },
    {
     "name": "stdout",
     "output_type": "stream",
     "text": [
      "[CV]  num_leaves=100, num_iterations=1000, max_depth=4, max_bin=150, learning_rate=0.05, total=   0.7s\n",
      "[CV] num_leaves=175, num_iterations=1000, max_depth=4, max_bin=50, learning_rate=0.01 \n"
     ]
    },
    {
     "name": "stderr",
     "output_type": "stream",
     "text": [
      "Found `num_iterations` in params. Will use it instead of argument\n"
     ]
    },
    {
     "name": "stdout",
     "output_type": "stream",
     "text": [
      "[CV]  num_leaves=175, num_iterations=1000, max_depth=4, max_bin=50, learning_rate=0.01, total=   0.7s\n",
      "[CV] num_leaves=175, num_iterations=1000, max_depth=4, max_bin=50, learning_rate=0.01 \n"
     ]
    },
    {
     "name": "stderr",
     "output_type": "stream",
     "text": [
      "Found `num_iterations` in params. Will use it instead of argument\n"
     ]
    },
    {
     "name": "stdout",
     "output_type": "stream",
     "text": [
      "[CV]  num_leaves=175, num_iterations=1000, max_depth=4, max_bin=50, learning_rate=0.01, total=   0.7s\n",
      "[CV] num_leaves=175, num_iterations=1000, max_depth=4, max_bin=50, learning_rate=0.01 \n"
     ]
    },
    {
     "name": "stderr",
     "output_type": "stream",
     "text": [
      "Found `num_iterations` in params. Will use it instead of argument\n"
     ]
    },
    {
     "name": "stdout",
     "output_type": "stream",
     "text": [
      "[CV]  num_leaves=175, num_iterations=1000, max_depth=4, max_bin=50, learning_rate=0.01, total=   0.7s\n",
      "[CV] num_leaves=100, num_iterations=1000, max_depth=2, max_bin=150, learning_rate=0.2 \n"
     ]
    },
    {
     "name": "stderr",
     "output_type": "stream",
     "text": [
      "Found `num_iterations` in params. Will use it instead of argument\n"
     ]
    },
    {
     "name": "stdout",
     "output_type": "stream",
     "text": [
      "[CV]  num_leaves=100, num_iterations=1000, max_depth=2, max_bin=150, learning_rate=0.2, total=   0.6s\n",
      "[CV] num_leaves=100, num_iterations=1000, max_depth=2, max_bin=150, learning_rate=0.2 \n"
     ]
    },
    {
     "name": "stderr",
     "output_type": "stream",
     "text": [
      "Found `num_iterations` in params. Will use it instead of argument\n"
     ]
    },
    {
     "name": "stdout",
     "output_type": "stream",
     "text": [
      "[CV]  num_leaves=100, num_iterations=1000, max_depth=2, max_bin=150, learning_rate=0.2, total=   0.6s\n",
      "[CV] num_leaves=100, num_iterations=1000, max_depth=2, max_bin=150, learning_rate=0.2 \n"
     ]
    },
    {
     "name": "stderr",
     "output_type": "stream",
     "text": [
      "Found `num_iterations` in params. Will use it instead of argument\n"
     ]
    },
    {
     "name": "stdout",
     "output_type": "stream",
     "text": [
      "[CV]  num_leaves=100, num_iterations=1000, max_depth=2, max_bin=150, learning_rate=0.2, total=   0.6s\n",
      "[CV] num_leaves=100, num_iterations=1000, max_depth=8, max_bin=150, learning_rate=0.01 \n"
     ]
    },
    {
     "name": "stderr",
     "output_type": "stream",
     "text": [
      "Found `num_iterations` in params. Will use it instead of argument\n"
     ]
    },
    {
     "name": "stdout",
     "output_type": "stream",
     "text": [
      "[CV]  num_leaves=100, num_iterations=1000, max_depth=8, max_bin=150, learning_rate=0.01, total=   1.1s\n",
      "[CV] num_leaves=100, num_iterations=1000, max_depth=8, max_bin=150, learning_rate=0.01 \n"
     ]
    },
    {
     "name": "stderr",
     "output_type": "stream",
     "text": [
      "Found `num_iterations` in params. Will use it instead of argument\n"
     ]
    },
    {
     "name": "stdout",
     "output_type": "stream",
     "text": [
      "[CV]  num_leaves=100, num_iterations=1000, max_depth=8, max_bin=150, learning_rate=0.01, total=   1.1s\n",
      "[CV] num_leaves=100, num_iterations=1000, max_depth=8, max_bin=150, learning_rate=0.01 \n"
     ]
    },
    {
     "name": "stderr",
     "output_type": "stream",
     "text": [
      "Found `num_iterations` in params. Will use it instead of argument\n"
     ]
    },
    {
     "name": "stdout",
     "output_type": "stream",
     "text": [
      "[CV]  num_leaves=100, num_iterations=1000, max_depth=8, max_bin=150, learning_rate=0.01, total=   1.2s\n",
      "[CV] num_leaves=125, num_iterations=1000, max_depth=6, max_bin=200, learning_rate=0.01 \n"
     ]
    },
    {
     "name": "stderr",
     "output_type": "stream",
     "text": [
      "Found `num_iterations` in params. Will use it instead of argument\n"
     ]
    },
    {
     "name": "stdout",
     "output_type": "stream",
     "text": [
      "[CV]  num_leaves=125, num_iterations=1000, max_depth=6, max_bin=200, learning_rate=0.01, total=   1.0s\n",
      "[CV] num_leaves=125, num_iterations=1000, max_depth=6, max_bin=200, learning_rate=0.01 \n"
     ]
    },
    {
     "name": "stderr",
     "output_type": "stream",
     "text": [
      "Found `num_iterations` in params. Will use it instead of argument\n"
     ]
    },
    {
     "name": "stdout",
     "output_type": "stream",
     "text": [
      "[CV]  num_leaves=125, num_iterations=1000, max_depth=6, max_bin=200, learning_rate=0.01, total=   0.9s\n",
      "[CV] num_leaves=125, num_iterations=1000, max_depth=6, max_bin=200, learning_rate=0.01 \n"
     ]
    },
    {
     "name": "stderr",
     "output_type": "stream",
     "text": [
      "Found `num_iterations` in params. Will use it instead of argument\n"
     ]
    },
    {
     "name": "stdout",
     "output_type": "stream",
     "text": [
      "[CV]  num_leaves=125, num_iterations=1000, max_depth=6, max_bin=200, learning_rate=0.01, total=   1.0s\n",
      "[CV] num_leaves=125, num_iterations=1000, max_depth=6, max_bin=150, learning_rate=0.05 \n"
     ]
    },
    {
     "name": "stderr",
     "output_type": "stream",
     "text": [
      "Found `num_iterations` in params. Will use it instead of argument\n"
     ]
    },
    {
     "name": "stdout",
     "output_type": "stream",
     "text": [
      "[CV]  num_leaves=125, num_iterations=1000, max_depth=6, max_bin=150, learning_rate=0.05, total=   0.9s\n",
      "[CV] num_leaves=125, num_iterations=1000, max_depth=6, max_bin=150, learning_rate=0.05 \n"
     ]
    },
    {
     "name": "stderr",
     "output_type": "stream",
     "text": [
      "Found `num_iterations` in params. Will use it instead of argument\n"
     ]
    },
    {
     "name": "stdout",
     "output_type": "stream",
     "text": [
      "[CV]  num_leaves=125, num_iterations=1000, max_depth=6, max_bin=150, learning_rate=0.05, total=   0.8s\n",
      "[CV] num_leaves=125, num_iterations=1000, max_depth=6, max_bin=150, learning_rate=0.05 \n"
     ]
    },
    {
     "name": "stderr",
     "output_type": "stream",
     "text": [
      "Found `num_iterations` in params. Will use it instead of argument\n"
     ]
    },
    {
     "name": "stdout",
     "output_type": "stream",
     "text": [
      "[CV]  num_leaves=125, num_iterations=1000, max_depth=6, max_bin=150, learning_rate=0.05, total=   0.8s\n",
      "[CV] num_leaves=125, num_iterations=1000, max_depth=2, max_bin=150, learning_rate=0.01 \n"
     ]
    },
    {
     "name": "stderr",
     "output_type": "stream",
     "text": [
      "Found `num_iterations` in params. Will use it instead of argument\n"
     ]
    },
    {
     "name": "stdout",
     "output_type": "stream",
     "text": [
      "[CV]  num_leaves=125, num_iterations=1000, max_depth=2, max_bin=150, learning_rate=0.01, total=   0.6s\n",
      "[CV] num_leaves=125, num_iterations=1000, max_depth=2, max_bin=150, learning_rate=0.01 \n"
     ]
    },
    {
     "name": "stderr",
     "output_type": "stream",
     "text": [
      "Found `num_iterations` in params. Will use it instead of argument\n"
     ]
    },
    {
     "name": "stdout",
     "output_type": "stream",
     "text": [
      "[CV]  num_leaves=125, num_iterations=1000, max_depth=2, max_bin=150, learning_rate=0.01, total=   0.6s\n",
      "[CV] num_leaves=125, num_iterations=1000, max_depth=2, max_bin=150, learning_rate=0.01 \n"
     ]
    },
    {
     "name": "stderr",
     "output_type": "stream",
     "text": [
      "Found `num_iterations` in params. Will use it instead of argument\n"
     ]
    },
    {
     "name": "stdout",
     "output_type": "stream",
     "text": [
      "[CV]  num_leaves=125, num_iterations=1000, max_depth=2, max_bin=150, learning_rate=0.01, total=   0.6s\n",
      "[CV] num_leaves=150, num_iterations=1000, max_depth=8, max_bin=100, learning_rate=0.015 \n"
     ]
    },
    {
     "name": "stderr",
     "output_type": "stream",
     "text": [
      "Found `num_iterations` in params. Will use it instead of argument\n"
     ]
    },
    {
     "name": "stdout",
     "output_type": "stream",
     "text": [
      "[CV]  num_leaves=150, num_iterations=1000, max_depth=8, max_bin=100, learning_rate=0.015, total=   1.1s\n",
      "[CV] num_leaves=150, num_iterations=1000, max_depth=8, max_bin=100, learning_rate=0.015 \n"
     ]
    },
    {
     "name": "stderr",
     "output_type": "stream",
     "text": [
      "Found `num_iterations` in params. Will use it instead of argument\n"
     ]
    },
    {
     "name": "stdout",
     "output_type": "stream",
     "text": [
      "[CV]  num_leaves=150, num_iterations=1000, max_depth=8, max_bin=100, learning_rate=0.015, total=   1.3s\n",
      "[CV] num_leaves=150, num_iterations=1000, max_depth=8, max_bin=100, learning_rate=0.015 \n"
     ]
    },
    {
     "name": "stderr",
     "output_type": "stream",
     "text": [
      "Found `num_iterations` in params. Will use it instead of argument\n"
     ]
    },
    {
     "name": "stdout",
     "output_type": "stream",
     "text": [
      "[CV]  num_leaves=150, num_iterations=1000, max_depth=8, max_bin=100, learning_rate=0.015, total=   1.2s\n",
      "[CV] num_leaves=100, num_iterations=1000, max_depth=8, max_bin=150, learning_rate=0.2 \n"
     ]
    },
    {
     "name": "stderr",
     "output_type": "stream",
     "text": [
      "Found `num_iterations` in params. Will use it instead of argument\n"
     ]
    },
    {
     "name": "stdout",
     "output_type": "stream",
     "text": [
      "[CV]  num_leaves=100, num_iterations=1000, max_depth=8, max_bin=150, learning_rate=0.2, total=   1.1s\n",
      "[CV] num_leaves=100, num_iterations=1000, max_depth=8, max_bin=150, learning_rate=0.2 \n"
     ]
    },
    {
     "name": "stderr",
     "output_type": "stream",
     "text": [
      "Found `num_iterations` in params. Will use it instead of argument\n"
     ]
    },
    {
     "name": "stdout",
     "output_type": "stream",
     "text": [
      "[CV]  num_leaves=100, num_iterations=1000, max_depth=8, max_bin=150, learning_rate=0.2, total=   1.1s\n",
      "[CV] num_leaves=100, num_iterations=1000, max_depth=8, max_bin=150, learning_rate=0.2 \n"
     ]
    },
    {
     "name": "stderr",
     "output_type": "stream",
     "text": [
      "Found `num_iterations` in params. Will use it instead of argument\n"
     ]
    },
    {
     "name": "stdout",
     "output_type": "stream",
     "text": [
      "[CV]  num_leaves=100, num_iterations=1000, max_depth=8, max_bin=150, learning_rate=0.2, total=   1.2s\n",
      "[CV] num_leaves=100, num_iterations=1000, max_depth=6, max_bin=200, learning_rate=0.1 \n"
     ]
    },
    {
     "name": "stderr",
     "output_type": "stream",
     "text": [
      "Found `num_iterations` in params. Will use it instead of argument\n"
     ]
    },
    {
     "name": "stdout",
     "output_type": "stream",
     "text": [
      "[CV]  num_leaves=100, num_iterations=1000, max_depth=6, max_bin=200, learning_rate=0.1, total=   0.9s\n",
      "[CV] num_leaves=100, num_iterations=1000, max_depth=6, max_bin=200, learning_rate=0.1 \n"
     ]
    },
    {
     "name": "stderr",
     "output_type": "stream",
     "text": [
      "Found `num_iterations` in params. Will use it instead of argument\n"
     ]
    },
    {
     "name": "stdout",
     "output_type": "stream",
     "text": [
      "[CV]  num_leaves=100, num_iterations=1000, max_depth=6, max_bin=200, learning_rate=0.1, total=   0.8s\n",
      "[CV] num_leaves=100, num_iterations=1000, max_depth=6, max_bin=200, learning_rate=0.1 \n"
     ]
    },
    {
     "name": "stderr",
     "output_type": "stream",
     "text": [
      "Found `num_iterations` in params. Will use it instead of argument\n"
     ]
    },
    {
     "name": "stdout",
     "output_type": "stream",
     "text": [
      "[CV]  num_leaves=100, num_iterations=1000, max_depth=6, max_bin=200, learning_rate=0.1, total=   0.9s\n",
      "[CV] num_leaves=75, num_iterations=1000, max_depth=4, max_bin=200, learning_rate=0.2 \n"
     ]
    },
    {
     "name": "stderr",
     "output_type": "stream",
     "text": [
      "Found `num_iterations` in params. Will use it instead of argument\n"
     ]
    },
    {
     "name": "stdout",
     "output_type": "stream",
     "text": [
      "[CV]  num_leaves=75, num_iterations=1000, max_depth=4, max_bin=200, learning_rate=0.2, total=   0.7s\n",
      "[CV] num_leaves=75, num_iterations=1000, max_depth=4, max_bin=200, learning_rate=0.2 \n"
     ]
    },
    {
     "name": "stderr",
     "output_type": "stream",
     "text": [
      "Found `num_iterations` in params. Will use it instead of argument\n"
     ]
    },
    {
     "name": "stdout",
     "output_type": "stream",
     "text": [
      "[CV]  num_leaves=75, num_iterations=1000, max_depth=4, max_bin=200, learning_rate=0.2, total=   0.7s\n",
      "[CV] num_leaves=75, num_iterations=1000, max_depth=4, max_bin=200, learning_rate=0.2 \n"
     ]
    },
    {
     "name": "stderr",
     "output_type": "stream",
     "text": [
      "Found `num_iterations` in params. Will use it instead of argument\n"
     ]
    },
    {
     "name": "stdout",
     "output_type": "stream",
     "text": [
      "[CV]  num_leaves=75, num_iterations=1000, max_depth=4, max_bin=200, learning_rate=0.2, total=   0.7s\n",
      "[CV] num_leaves=125, num_iterations=1000, max_depth=8, max_bin=200, learning_rate=0.01 \n"
     ]
    },
    {
     "name": "stderr",
     "output_type": "stream",
     "text": [
      "Found `num_iterations` in params. Will use it instead of argument\n"
     ]
    },
    {
     "name": "stdout",
     "output_type": "stream",
     "text": [
      "[CV]  num_leaves=125, num_iterations=1000, max_depth=8, max_bin=200, learning_rate=0.01, total=   1.3s\n",
      "[CV] num_leaves=125, num_iterations=1000, max_depth=8, max_bin=200, learning_rate=0.01 \n"
     ]
    },
    {
     "name": "stderr",
     "output_type": "stream",
     "text": [
      "Found `num_iterations` in params. Will use it instead of argument\n"
     ]
    },
    {
     "name": "stdout",
     "output_type": "stream",
     "text": [
      "[CV]  num_leaves=125, num_iterations=1000, max_depth=8, max_bin=200, learning_rate=0.01, total=   1.2s\n",
      "[CV] num_leaves=125, num_iterations=1000, max_depth=8, max_bin=200, learning_rate=0.01 \n"
     ]
    },
    {
     "name": "stderr",
     "output_type": "stream",
     "text": [
      "Found `num_iterations` in params. Will use it instead of argument\n"
     ]
    },
    {
     "name": "stdout",
     "output_type": "stream",
     "text": [
      "[CV]  num_leaves=125, num_iterations=1000, max_depth=8, max_bin=200, learning_rate=0.01, total=   1.2s\n",
      "[CV] num_leaves=75, num_iterations=1000, max_depth=8, max_bin=50, learning_rate=0.01 \n"
     ]
    },
    {
     "name": "stderr",
     "output_type": "stream",
     "text": [
      "Found `num_iterations` in params. Will use it instead of argument\n"
     ]
    },
    {
     "name": "stdout",
     "output_type": "stream",
     "text": [
      "[CV]  num_leaves=75, num_iterations=1000, max_depth=8, max_bin=50, learning_rate=0.01, total=   1.1s\n",
      "[CV] num_leaves=75, num_iterations=1000, max_depth=8, max_bin=50, learning_rate=0.01 \n"
     ]
    },
    {
     "name": "stderr",
     "output_type": "stream",
     "text": [
      "Found `num_iterations` in params. Will use it instead of argument\n"
     ]
    },
    {
     "name": "stdout",
     "output_type": "stream",
     "text": [
      "[CV]  num_leaves=75, num_iterations=1000, max_depth=8, max_bin=50, learning_rate=0.01, total=   1.1s\n",
      "[CV] num_leaves=75, num_iterations=1000, max_depth=8, max_bin=50, learning_rate=0.01 \n"
     ]
    },
    {
     "name": "stderr",
     "output_type": "stream",
     "text": [
      "Found `num_iterations` in params. Will use it instead of argument\n"
     ]
    },
    {
     "name": "stdout",
     "output_type": "stream",
     "text": [
      "[CV]  num_leaves=75, num_iterations=1000, max_depth=8, max_bin=50, learning_rate=0.01, total=   1.3s\n",
      "[CV] num_leaves=100, num_iterations=1000, max_depth=6, max_bin=200, learning_rate=0.2 \n"
     ]
    },
    {
     "name": "stderr",
     "output_type": "stream",
     "text": [
      "Found `num_iterations` in params. Will use it instead of argument\n"
     ]
    },
    {
     "name": "stdout",
     "output_type": "stream",
     "text": [
      "[CV]  num_leaves=100, num_iterations=1000, max_depth=6, max_bin=200, learning_rate=0.2, total=   0.9s\n",
      "[CV] num_leaves=100, num_iterations=1000, max_depth=6, max_bin=200, learning_rate=0.2 \n"
     ]
    },
    {
     "name": "stderr",
     "output_type": "stream",
     "text": [
      "Found `num_iterations` in params. Will use it instead of argument\n"
     ]
    },
    {
     "name": "stdout",
     "output_type": "stream",
     "text": [
      "[CV]  num_leaves=100, num_iterations=1000, max_depth=6, max_bin=200, learning_rate=0.2, total=   0.8s\n",
      "[CV] num_leaves=100, num_iterations=1000, max_depth=6, max_bin=200, learning_rate=0.2 \n"
     ]
    },
    {
     "name": "stderr",
     "output_type": "stream",
     "text": [
      "Found `num_iterations` in params. Will use it instead of argument\n"
     ]
    },
    {
     "name": "stdout",
     "output_type": "stream",
     "text": [
      "[CV]  num_leaves=100, num_iterations=1000, max_depth=6, max_bin=200, learning_rate=0.2, total=   0.9s\n",
      "[CV] num_leaves=100, num_iterations=1000, max_depth=6, max_bin=100, learning_rate=0.015 \n"
     ]
    },
    {
     "name": "stderr",
     "output_type": "stream",
     "text": [
      "Found `num_iterations` in params. Will use it instead of argument\n"
     ]
    },
    {
     "name": "stdout",
     "output_type": "stream",
     "text": [
      "[CV]  num_leaves=100, num_iterations=1000, max_depth=6, max_bin=100, learning_rate=0.015, total=   0.9s\n",
      "[CV] num_leaves=100, num_iterations=1000, max_depth=6, max_bin=100, learning_rate=0.015 \n"
     ]
    },
    {
     "name": "stderr",
     "output_type": "stream",
     "text": [
      "Found `num_iterations` in params. Will use it instead of argument\n"
     ]
    },
    {
     "name": "stdout",
     "output_type": "stream",
     "text": [
      "[CV]  num_leaves=100, num_iterations=1000, max_depth=6, max_bin=100, learning_rate=0.015, total=   0.8s\n",
      "[CV] num_leaves=100, num_iterations=1000, max_depth=6, max_bin=100, learning_rate=0.015 \n"
     ]
    },
    {
     "name": "stderr",
     "output_type": "stream",
     "text": [
      "Found `num_iterations` in params. Will use it instead of argument\n"
     ]
    },
    {
     "name": "stdout",
     "output_type": "stream",
     "text": [
      "[CV]  num_leaves=100, num_iterations=1000, max_depth=6, max_bin=100, learning_rate=0.015, total=   1.0s\n",
      "[CV] num_leaves=75, num_iterations=1000, max_depth=2, max_bin=50, learning_rate=0.01 \n"
     ]
    },
    {
     "name": "stderr",
     "output_type": "stream",
     "text": [
      "Found `num_iterations` in params. Will use it instead of argument\n"
     ]
    },
    {
     "name": "stdout",
     "output_type": "stream",
     "text": [
      "[CV]  num_leaves=75, num_iterations=1000, max_depth=2, max_bin=50, learning_rate=0.01, total=   0.5s\n",
      "[CV] num_leaves=75, num_iterations=1000, max_depth=2, max_bin=50, learning_rate=0.01 \n"
     ]
    },
    {
     "name": "stderr",
     "output_type": "stream",
     "text": [
      "Found `num_iterations` in params. Will use it instead of argument\n"
     ]
    },
    {
     "name": "stdout",
     "output_type": "stream",
     "text": [
      "[CV]  num_leaves=75, num_iterations=1000, max_depth=2, max_bin=50, learning_rate=0.01, total=   0.5s\n",
      "[CV] num_leaves=75, num_iterations=1000, max_depth=2, max_bin=50, learning_rate=0.01 \n"
     ]
    },
    {
     "name": "stderr",
     "output_type": "stream",
     "text": [
      "Found `num_iterations` in params. Will use it instead of argument\n"
     ]
    },
    {
     "name": "stdout",
     "output_type": "stream",
     "text": [
      "[CV]  num_leaves=75, num_iterations=1000, max_depth=2, max_bin=50, learning_rate=0.01, total=   0.5s\n",
      "[CV] num_leaves=100, num_iterations=1000, max_depth=8, max_bin=200, learning_rate=0.2 \n"
     ]
    },
    {
     "name": "stderr",
     "output_type": "stream",
     "text": [
      "Found `num_iterations` in params. Will use it instead of argument\n"
     ]
    },
    {
     "name": "stdout",
     "output_type": "stream",
     "text": [
      "[CV]  num_leaves=100, num_iterations=1000, max_depth=8, max_bin=200, learning_rate=0.2, total=   1.0s\n",
      "[CV] num_leaves=100, num_iterations=1000, max_depth=8, max_bin=200, learning_rate=0.2 \n"
     ]
    },
    {
     "name": "stderr",
     "output_type": "stream",
     "text": [
      "Found `num_iterations` in params. Will use it instead of argument\n"
     ]
    },
    {
     "name": "stdout",
     "output_type": "stream",
     "text": [
      "[CV]  num_leaves=100, num_iterations=1000, max_depth=8, max_bin=200, learning_rate=0.2, total=   1.1s\n",
      "[CV] num_leaves=100, num_iterations=1000, max_depth=8, max_bin=200, learning_rate=0.2 \n"
     ]
    },
    {
     "name": "stderr",
     "output_type": "stream",
     "text": [
      "Found `num_iterations` in params. Will use it instead of argument\n"
     ]
    },
    {
     "name": "stdout",
     "output_type": "stream",
     "text": [
      "[CV]  num_leaves=100, num_iterations=1000, max_depth=8, max_bin=200, learning_rate=0.2, total=   1.1s\n",
      "[CV] num_leaves=175, num_iterations=1000, max_depth=6, max_bin=100, learning_rate=0.05 \n"
     ]
    },
    {
     "name": "stderr",
     "output_type": "stream",
     "text": [
      "Found `num_iterations` in params. Will use it instead of argument\n"
     ]
    },
    {
     "name": "stdout",
     "output_type": "stream",
     "text": [
      "[CV]  num_leaves=175, num_iterations=1000, max_depth=6, max_bin=100, learning_rate=0.05, total=   0.8s\n",
      "[CV] num_leaves=175, num_iterations=1000, max_depth=6, max_bin=100, learning_rate=0.05 \n"
     ]
    },
    {
     "name": "stderr",
     "output_type": "stream",
     "text": [
      "Found `num_iterations` in params. Will use it instead of argument\n"
     ]
    },
    {
     "name": "stdout",
     "output_type": "stream",
     "text": [
      "[CV]  num_leaves=175, num_iterations=1000, max_depth=6, max_bin=100, learning_rate=0.05, total=   0.8s\n",
      "[CV] num_leaves=175, num_iterations=1000, max_depth=6, max_bin=100, learning_rate=0.05 \n"
     ]
    },
    {
     "name": "stderr",
     "output_type": "stream",
     "text": [
      "Found `num_iterations` in params. Will use it instead of argument\n"
     ]
    },
    {
     "name": "stdout",
     "output_type": "stream",
     "text": [
      "[CV]  num_leaves=175, num_iterations=1000, max_depth=6, max_bin=100, learning_rate=0.05, total=   0.8s\n",
      "[CV] num_leaves=75, num_iterations=1000, max_depth=4, max_bin=200, learning_rate=0.1 \n"
     ]
    },
    {
     "name": "stderr",
     "output_type": "stream",
     "text": [
      "Found `num_iterations` in params. Will use it instead of argument\n"
     ]
    },
    {
     "name": "stdout",
     "output_type": "stream",
     "text": [
      "[CV]  num_leaves=75, num_iterations=1000, max_depth=4, max_bin=200, learning_rate=0.1, total=   0.7s\n",
      "[CV] num_leaves=75, num_iterations=1000, max_depth=4, max_bin=200, learning_rate=0.1 \n"
     ]
    },
    {
     "name": "stderr",
     "output_type": "stream",
     "text": [
      "Found `num_iterations` in params. Will use it instead of argument\n"
     ]
    },
    {
     "name": "stdout",
     "output_type": "stream",
     "text": [
      "[CV]  num_leaves=75, num_iterations=1000, max_depth=4, max_bin=200, learning_rate=0.1, total=   0.7s\n",
      "[CV] num_leaves=75, num_iterations=1000, max_depth=4, max_bin=200, learning_rate=0.1 \n"
     ]
    },
    {
     "name": "stderr",
     "output_type": "stream",
     "text": [
      "Found `num_iterations` in params. Will use it instead of argument\n"
     ]
    },
    {
     "name": "stdout",
     "output_type": "stream",
     "text": [
      "[CV]  num_leaves=75, num_iterations=1000, max_depth=4, max_bin=200, learning_rate=0.1, total=   0.7s\n",
      "[CV] num_leaves=125, num_iterations=1000, max_depth=2, max_bin=100, learning_rate=0.015 \n"
     ]
    },
    {
     "name": "stderr",
     "output_type": "stream",
     "text": [
      "Found `num_iterations` in params. Will use it instead of argument\n"
     ]
    },
    {
     "name": "stdout",
     "output_type": "stream",
     "text": [
      "[CV]  num_leaves=125, num_iterations=1000, max_depth=2, max_bin=100, learning_rate=0.015, total=   0.6s\n",
      "[CV] num_leaves=125, num_iterations=1000, max_depth=2, max_bin=100, learning_rate=0.015 \n"
     ]
    },
    {
     "name": "stderr",
     "output_type": "stream",
     "text": [
      "Found `num_iterations` in params. Will use it instead of argument\n"
     ]
    },
    {
     "name": "stdout",
     "output_type": "stream",
     "text": [
      "[CV]  num_leaves=125, num_iterations=1000, max_depth=2, max_bin=100, learning_rate=0.015, total=   0.7s\n",
      "[CV] num_leaves=125, num_iterations=1000, max_depth=2, max_bin=100, learning_rate=0.015 \n"
     ]
    },
    {
     "name": "stderr",
     "output_type": "stream",
     "text": [
      "Found `num_iterations` in params. Will use it instead of argument\n"
     ]
    },
    {
     "name": "stdout",
     "output_type": "stream",
     "text": [
      "[CV]  num_leaves=125, num_iterations=1000, max_depth=2, max_bin=100, learning_rate=0.015, total=   0.6s\n",
      "[CV] num_leaves=175, num_iterations=1000, max_depth=2, max_bin=100, learning_rate=0.05 \n"
     ]
    },
    {
     "name": "stderr",
     "output_type": "stream",
     "text": [
      "Found `num_iterations` in params. Will use it instead of argument\n"
     ]
    },
    {
     "name": "stdout",
     "output_type": "stream",
     "text": [
      "[CV]  num_leaves=175, num_iterations=1000, max_depth=2, max_bin=100, learning_rate=0.05, total=   0.6s\n",
      "[CV] num_leaves=175, num_iterations=1000, max_depth=2, max_bin=100, learning_rate=0.05 \n"
     ]
    },
    {
     "name": "stderr",
     "output_type": "stream",
     "text": [
      "Found `num_iterations` in params. Will use it instead of argument\n"
     ]
    },
    {
     "name": "stdout",
     "output_type": "stream",
     "text": [
      "[CV]  num_leaves=175, num_iterations=1000, max_depth=2, max_bin=100, learning_rate=0.05, total=   0.6s\n",
      "[CV] num_leaves=175, num_iterations=1000, max_depth=2, max_bin=100, learning_rate=0.05 \n"
     ]
    },
    {
     "name": "stderr",
     "output_type": "stream",
     "text": [
      "Found `num_iterations` in params. Will use it instead of argument\n"
     ]
    },
    {
     "name": "stdout",
     "output_type": "stream",
     "text": [
      "[CV]  num_leaves=175, num_iterations=1000, max_depth=2, max_bin=100, learning_rate=0.05, total=   0.6s\n",
      "[CV] num_leaves=75, num_iterations=1000, max_depth=8, max_bin=200, learning_rate=0.2 \n"
     ]
    },
    {
     "name": "stderr",
     "output_type": "stream",
     "text": [
      "Found `num_iterations` in params. Will use it instead of argument\n"
     ]
    },
    {
     "name": "stdout",
     "output_type": "stream",
     "text": [
      "[CV]  num_leaves=75, num_iterations=1000, max_depth=8, max_bin=200, learning_rate=0.2, total=   1.4s\n",
      "[CV] num_leaves=75, num_iterations=1000, max_depth=8, max_bin=200, learning_rate=0.2 \n"
     ]
    },
    {
     "name": "stderr",
     "output_type": "stream",
     "text": [
      "Found `num_iterations` in params. Will use it instead of argument\n"
     ]
    },
    {
     "name": "stdout",
     "output_type": "stream",
     "text": [
      "[CV]  num_leaves=75, num_iterations=1000, max_depth=8, max_bin=200, learning_rate=0.2, total=   1.2s\n",
      "[CV] num_leaves=75, num_iterations=1000, max_depth=8, max_bin=200, learning_rate=0.2 \n"
     ]
    },
    {
     "name": "stderr",
     "output_type": "stream",
     "text": [
      "Found `num_iterations` in params. Will use it instead of argument\n"
     ]
    },
    {
     "name": "stdout",
     "output_type": "stream",
     "text": [
      "[CV]  num_leaves=75, num_iterations=1000, max_depth=8, max_bin=200, learning_rate=0.2, total=   1.2s\n",
      "[CV] num_leaves=150, num_iterations=1000, max_depth=6, max_bin=100, learning_rate=0.1 \n"
     ]
    },
    {
     "name": "stderr",
     "output_type": "stream",
     "text": [
      "Found `num_iterations` in params. Will use it instead of argument\n"
     ]
    },
    {
     "name": "stdout",
     "output_type": "stream",
     "text": [
      "[CV]  num_leaves=150, num_iterations=1000, max_depth=6, max_bin=100, learning_rate=0.1, total=   0.9s\n",
      "[CV] num_leaves=150, num_iterations=1000, max_depth=6, max_bin=100, learning_rate=0.1 \n"
     ]
    },
    {
     "name": "stderr",
     "output_type": "stream",
     "text": [
      "Found `num_iterations` in params. Will use it instead of argument\n"
     ]
    },
    {
     "name": "stdout",
     "output_type": "stream",
     "text": [
      "[CV]  num_leaves=150, num_iterations=1000, max_depth=6, max_bin=100, learning_rate=0.1, total=   0.8s\n",
      "[CV] num_leaves=150, num_iterations=1000, max_depth=6, max_bin=100, learning_rate=0.1 \n"
     ]
    },
    {
     "name": "stderr",
     "output_type": "stream",
     "text": [
      "Found `num_iterations` in params. Will use it instead of argument\n"
     ]
    },
    {
     "name": "stdout",
     "output_type": "stream",
     "text": [
      "[CV]  num_leaves=150, num_iterations=1000, max_depth=6, max_bin=100, learning_rate=0.1, total=   0.8s\n",
      "[CV] num_leaves=100, num_iterations=1000, max_depth=2, max_bin=100, learning_rate=0.015 \n"
     ]
    },
    {
     "name": "stderr",
     "output_type": "stream",
     "text": [
      "Found `num_iterations` in params. Will use it instead of argument\n"
     ]
    },
    {
     "name": "stdout",
     "output_type": "stream",
     "text": [
      "[CV]  num_leaves=100, num_iterations=1000, max_depth=2, max_bin=100, learning_rate=0.015, total=   0.5s\n",
      "[CV] num_leaves=100, num_iterations=1000, max_depth=2, max_bin=100, learning_rate=0.015 \n"
     ]
    },
    {
     "name": "stderr",
     "output_type": "stream",
     "text": [
      "Found `num_iterations` in params. Will use it instead of argument\n"
     ]
    },
    {
     "name": "stdout",
     "output_type": "stream",
     "text": [
      "[CV]  num_leaves=100, num_iterations=1000, max_depth=2, max_bin=100, learning_rate=0.015, total=   0.5s\n",
      "[CV] num_leaves=100, num_iterations=1000, max_depth=2, max_bin=100, learning_rate=0.015 \n"
     ]
    },
    {
     "name": "stderr",
     "output_type": "stream",
     "text": [
      "Found `num_iterations` in params. Will use it instead of argument\n"
     ]
    },
    {
     "name": "stdout",
     "output_type": "stream",
     "text": [
      "[CV]  num_leaves=100, num_iterations=1000, max_depth=2, max_bin=100, learning_rate=0.015, total=   0.6s\n",
      "[CV] num_leaves=125, num_iterations=1000, max_depth=8, max_bin=150, learning_rate=0.01 \n"
     ]
    },
    {
     "name": "stderr",
     "output_type": "stream",
     "text": [
      "Found `num_iterations` in params. Will use it instead of argument\n"
     ]
    },
    {
     "name": "stdout",
     "output_type": "stream",
     "text": [
      "[CV]  num_leaves=125, num_iterations=1000, max_depth=8, max_bin=150, learning_rate=0.01, total=   1.2s\n",
      "[CV] num_leaves=125, num_iterations=1000, max_depth=8, max_bin=150, learning_rate=0.01 \n"
     ]
    },
    {
     "name": "stderr",
     "output_type": "stream",
     "text": [
      "Found `num_iterations` in params. Will use it instead of argument\n"
     ]
    },
    {
     "name": "stdout",
     "output_type": "stream",
     "text": [
      "[CV]  num_leaves=125, num_iterations=1000, max_depth=8, max_bin=150, learning_rate=0.01, total=   1.2s\n",
      "[CV] num_leaves=125, num_iterations=1000, max_depth=8, max_bin=150, learning_rate=0.01 \n"
     ]
    },
    {
     "name": "stderr",
     "output_type": "stream",
     "text": [
      "Found `num_iterations` in params. Will use it instead of argument\n"
     ]
    },
    {
     "name": "stdout",
     "output_type": "stream",
     "text": [
      "[CV]  num_leaves=125, num_iterations=1000, max_depth=8, max_bin=150, learning_rate=0.01, total=   1.4s\n",
      "[CV] num_leaves=125, num_iterations=1000, max_depth=6, max_bin=200, learning_rate=0.1 \n"
     ]
    },
    {
     "name": "stderr",
     "output_type": "stream",
     "text": [
      "Found `num_iterations` in params. Will use it instead of argument\n"
     ]
    },
    {
     "name": "stdout",
     "output_type": "stream",
     "text": [
      "[CV]  num_leaves=125, num_iterations=1000, max_depth=6, max_bin=200, learning_rate=0.1, total=   1.1s\n",
      "[CV] num_leaves=125, num_iterations=1000, max_depth=6, max_bin=200, learning_rate=0.1 \n"
     ]
    },
    {
     "name": "stderr",
     "output_type": "stream",
     "text": [
      "Found `num_iterations` in params. Will use it instead of argument\n"
     ]
    },
    {
     "name": "stdout",
     "output_type": "stream",
     "text": [
      "[CV]  num_leaves=125, num_iterations=1000, max_depth=6, max_bin=200, learning_rate=0.1, total=   0.9s\n",
      "[CV] num_leaves=125, num_iterations=1000, max_depth=6, max_bin=200, learning_rate=0.1 \n"
     ]
    },
    {
     "name": "stderr",
     "output_type": "stream",
     "text": [
      "Found `num_iterations` in params. Will use it instead of argument\n"
     ]
    },
    {
     "name": "stdout",
     "output_type": "stream",
     "text": [
      "[CV]  num_leaves=125, num_iterations=1000, max_depth=6, max_bin=200, learning_rate=0.1, total=   1.0s\n",
      "[CV] num_leaves=100, num_iterations=1000, max_depth=8, max_bin=100, learning_rate=0.05 \n"
     ]
    },
    {
     "name": "stderr",
     "output_type": "stream",
     "text": [
      "Found `num_iterations` in params. Will use it instead of argument\n"
     ]
    },
    {
     "name": "stdout",
     "output_type": "stream",
     "text": [
      "[CV]  num_leaves=100, num_iterations=1000, max_depth=8, max_bin=100, learning_rate=0.05, total=   1.1s\n",
      "[CV] num_leaves=100, num_iterations=1000, max_depth=8, max_bin=100, learning_rate=0.05 \n"
     ]
    },
    {
     "name": "stderr",
     "output_type": "stream",
     "text": [
      "Found `num_iterations` in params. Will use it instead of argument\n"
     ]
    },
    {
     "name": "stdout",
     "output_type": "stream",
     "text": [
      "[CV]  num_leaves=100, num_iterations=1000, max_depth=8, max_bin=100, learning_rate=0.05, total=   1.1s\n",
      "[CV] num_leaves=100, num_iterations=1000, max_depth=8, max_bin=100, learning_rate=0.05 \n"
     ]
    },
    {
     "name": "stderr",
     "output_type": "stream",
     "text": [
      "Found `num_iterations` in params. Will use it instead of argument\n"
     ]
    },
    {
     "name": "stdout",
     "output_type": "stream",
     "text": [
      "[CV]  num_leaves=100, num_iterations=1000, max_depth=8, max_bin=100, learning_rate=0.05, total=   1.0s\n",
      "[CV] num_leaves=150, num_iterations=1000, max_depth=6, max_bin=100, learning_rate=0.05 \n"
     ]
    },
    {
     "name": "stderr",
     "output_type": "stream",
     "text": [
      "Found `num_iterations` in params. Will use it instead of argument\n"
     ]
    },
    {
     "name": "stdout",
     "output_type": "stream",
     "text": [
      "[CV]  num_leaves=150, num_iterations=1000, max_depth=6, max_bin=100, learning_rate=0.05, total=   0.8s\n",
      "[CV] num_leaves=150, num_iterations=1000, max_depth=6, max_bin=100, learning_rate=0.05 \n"
     ]
    },
    {
     "name": "stderr",
     "output_type": "stream",
     "text": [
      "Found `num_iterations` in params. Will use it instead of argument\n"
     ]
    },
    {
     "name": "stdout",
     "output_type": "stream",
     "text": [
      "[CV]  num_leaves=150, num_iterations=1000, max_depth=6, max_bin=100, learning_rate=0.05, total=   0.8s\n",
      "[CV] num_leaves=150, num_iterations=1000, max_depth=6, max_bin=100, learning_rate=0.05 \n"
     ]
    },
    {
     "name": "stderr",
     "output_type": "stream",
     "text": [
      "Found `num_iterations` in params. Will use it instead of argument\n"
     ]
    },
    {
     "name": "stdout",
     "output_type": "stream",
     "text": [
      "[CV]  num_leaves=150, num_iterations=1000, max_depth=6, max_bin=100, learning_rate=0.05, total=   0.9s\n",
      "[CV] num_leaves=125, num_iterations=1000, max_depth=2, max_bin=100, learning_rate=0.2 \n"
     ]
    },
    {
     "name": "stderr",
     "output_type": "stream",
     "text": [
      "Found `num_iterations` in params. Will use it instead of argument\n"
     ]
    },
    {
     "name": "stdout",
     "output_type": "stream",
     "text": [
      "[CV]  num_leaves=125, num_iterations=1000, max_depth=2, max_bin=100, learning_rate=0.2, total=   0.6s\n",
      "[CV] num_leaves=125, num_iterations=1000, max_depth=2, max_bin=100, learning_rate=0.2 \n"
     ]
    },
    {
     "name": "stderr",
     "output_type": "stream",
     "text": [
      "Found `num_iterations` in params. Will use it instead of argument\n"
     ]
    },
    {
     "name": "stdout",
     "output_type": "stream",
     "text": [
      "[CV]  num_leaves=125, num_iterations=1000, max_depth=2, max_bin=100, learning_rate=0.2, total=   0.5s\n",
      "[CV] num_leaves=125, num_iterations=1000, max_depth=2, max_bin=100, learning_rate=0.2 \n"
     ]
    },
    {
     "name": "stderr",
     "output_type": "stream",
     "text": [
      "Found `num_iterations` in params. Will use it instead of argument\n"
     ]
    },
    {
     "name": "stdout",
     "output_type": "stream",
     "text": [
      "[CV]  num_leaves=125, num_iterations=1000, max_depth=2, max_bin=100, learning_rate=0.2, total=   0.6s\n",
      "[CV] num_leaves=150, num_iterations=1000, max_depth=8, max_bin=200, learning_rate=0.05 \n"
     ]
    },
    {
     "name": "stderr",
     "output_type": "stream",
     "text": [
      "Found `num_iterations` in params. Will use it instead of argument\n"
     ]
    },
    {
     "name": "stdout",
     "output_type": "stream",
     "text": [
      "[CV]  num_leaves=150, num_iterations=1000, max_depth=8, max_bin=200, learning_rate=0.05, total=   1.1s\n",
      "[CV] num_leaves=150, num_iterations=1000, max_depth=8, max_bin=200, learning_rate=0.05 \n"
     ]
    },
    {
     "name": "stderr",
     "output_type": "stream",
     "text": [
      "Found `num_iterations` in params. Will use it instead of argument\n"
     ]
    },
    {
     "name": "stdout",
     "output_type": "stream",
     "text": [
      "[CV]  num_leaves=150, num_iterations=1000, max_depth=8, max_bin=200, learning_rate=0.05, total=   1.0s\n",
      "[CV] num_leaves=150, num_iterations=1000, max_depth=8, max_bin=200, learning_rate=0.05 \n"
     ]
    },
    {
     "name": "stderr",
     "output_type": "stream",
     "text": [
      "Found `num_iterations` in params. Will use it instead of argument\n"
     ]
    },
    {
     "name": "stdout",
     "output_type": "stream",
     "text": [
      "[CV]  num_leaves=150, num_iterations=1000, max_depth=8, max_bin=200, learning_rate=0.05, total=   1.1s\n",
      "[CV] num_leaves=100, num_iterations=1000, max_depth=2, max_bin=200, learning_rate=0.05 \n"
     ]
    },
    {
     "name": "stderr",
     "output_type": "stream",
     "text": [
      "Found `num_iterations` in params. Will use it instead of argument\n"
     ]
    },
    {
     "name": "stdout",
     "output_type": "stream",
     "text": [
      "[CV]  num_leaves=100, num_iterations=1000, max_depth=2, max_bin=200, learning_rate=0.05, total=   0.6s\n",
      "[CV] num_leaves=100, num_iterations=1000, max_depth=2, max_bin=200, learning_rate=0.05 \n"
     ]
    },
    {
     "name": "stderr",
     "output_type": "stream",
     "text": [
      "Found `num_iterations` in params. Will use it instead of argument\n"
     ]
    },
    {
     "name": "stdout",
     "output_type": "stream",
     "text": [
      "[CV]  num_leaves=100, num_iterations=1000, max_depth=2, max_bin=200, learning_rate=0.05, total=   0.5s\n",
      "[CV] num_leaves=100, num_iterations=1000, max_depth=2, max_bin=200, learning_rate=0.05 \n"
     ]
    },
    {
     "name": "stderr",
     "output_type": "stream",
     "text": [
      "Found `num_iterations` in params. Will use it instead of argument\n"
     ]
    },
    {
     "name": "stdout",
     "output_type": "stream",
     "text": [
      "[CV]  num_leaves=100, num_iterations=1000, max_depth=2, max_bin=200, learning_rate=0.05, total=   0.5s\n"
     ]
    },
    {
     "name": "stderr",
     "output_type": "stream",
     "text": [
      "[Parallel(n_jobs=1)]: Done 120 out of 120 | elapsed:  1.7min finished\n",
      "Found `num_iterations` in params. Will use it instead of argument\n"
     ]
    },
    {
     "name": "stdout",
     "output_type": "stream",
     "text": [
      "Time taken: 0 hours 1 minutes and 43.21 seconds.\n"
     ]
    }
   ],
   "source": [
    "print(\"Randomized search..\")\n",
    "print(\"\")\n",
    "start_time = timer()\n",
    "rs_clf.fit(X_aux, y_aux)\n",
    "timer(start_time)"
   ]
  },
  {
   "cell_type": "code",
   "execution_count": null,
   "metadata": {},
   "outputs": [],
   "source": [
    "best_score = rs_clf.best_score_\n",
    "best_params = rs_clf.best_params_\n",
    "print(\"Best score: {}\".format(best_score))\n",
    "print(\"\")\n",
    "print(\"Best params: \")\n",
    "for param_name in sorted(best_params.keys()):\n",
    "    print('%s: %r' % (param_name, best_params[param_name]))"
   ]
  },
  {
   "cell_type": "markdown",
   "metadata": {},
   "source": [
    "# LightGBM Grid Search"
   ]
  },
  {
   "cell_type": "code",
   "execution_count": null,
   "metadata": {},
   "outputs": [],
   "source": [
    "ME TIRA EL ERRROR\n",
    "TypeError: __init__() missing 1 required positional argument: 'sc'\n",
    "QUE ES UN PARAMETRO DE LA GridSearchCV EN TEORIA... PERO EN LA DOCUMENTACION NO FIGURA \n",
    "Y GOOGLIE EL ERROR Y TAMPOCO LO ENCONTRE"
   ]
  },
  {
   "cell_type": "code",
   "execution_count": null,
   "metadata": {},
   "outputs": [],
   "source": []
  },
  {
   "cell_type": "markdown",
   "metadata": {},
   "source": [
    "### Intento pulir a mano el mejor set de parametros obtenido en la RandomSearchCV"
   ]
  },
  {
   "cell_type": "code",
   "execution_count": null,
   "metadata": {},
   "outputs": [],
   "source": [
    "params = {'num_leaves':[100],\n",
    "          'max_depth':[4],\n",
    "          'learning_rate':[.05],\n",
    "          'max_bin':[150],\n",
    "          'num_iterations':[1000] #default = 100          \n",
    "         }"
   ]
  },
  {
   "cell_type": "code",
   "execution_count": null,
   "metadata": {},
   "outputs": [],
   "source": [
    "https://www.analyticsvidhya.com/blog/2017/06/which-algorithm-takes-the-crown-light-gbm-vs-xgboost/\n",
    "\n",
    "For best fit\n",
    "\n",
    "num_leaves : This parameter is used to set the number of leaves to be formed in a tree. \n",
    "    Theoretically relation between num_leaves and max_depth is num_leaves= 2^(max_depth). \n",
    "    However, this is not a good estimate in case of Light GBM since splitting takes place leaf wise rather\n",
    "    than depth wise. Hence num_leaves set must be smaller than 2^(max_depth) otherwise it may lead to overfitting. \n",
    "    Light GBM does not have a direct relation between num_leaves and max_depth and hence the \n",
    "    two must not be linked with each other.\n",
    "\n",
    "    min_data_in_leaf : It is also one of the important parameters in dealing with overfitting. \n",
    "        Setting its value smaller may cause overfitting and hence must be set accordingly. \n",
    "        Its value should be hundreds to thousands of large datasets.\n",
    "\n",
    "    max_depth: It specifies the maximum depth or level up to which tree can grow."
   ]
  },
  {
   "cell_type": "code",
   "execution_count": null,
   "metadata": {},
   "outputs": [],
   "source": [
    "https://www.analyticsvidhya.com/blog/2017/06/which-algorithm-takes-the-crown-light-gbm-vs-xgboost/\n",
    "\n",
    "For better accuracy\n",
    "\n",
    "Use bigger training data\n",
    "\n",
    "num_leaves : Setting it to high value produces deeper trees with increased accuracy but lead to overfitting. \n",
    "    Hence its higher value is not preferred.\n",
    "\n",
    "max_bin : Setting it to high values has similar effect as caused by increasing \n",
    "    value of num_leaves and also slower our training procedure."
   ]
  },
  {
   "cell_type": "code",
   "execution_count": null,
   "metadata": {},
   "outputs": [],
   "source": [
    "# CONTINUAR !!!!!!!\n",
    "# CONTINUAR !!!!!!!\n",
    "# CONTINUAR !!!!!!!"
   ]
  },
  {
   "cell_type": "markdown",
   "metadata": {},
   "source": [
    "# AdaBoost"
   ]
  },
  {
   "cell_type": "code",
   "execution_count": null,
   "metadata": {},
   "outputs": [],
   "source": [
    "fijarme si documente otros !!!!"
   ]
  },
  {
   "cell_type": "code",
   "execution_count": 39,
   "metadata": {},
   "outputs": [
    {
     "data": {
      "text/plain": [
       "<_io.BufferedWriter name='../../machine-learning/pickles/lightgbm.pkl'>"
      ]
     },
     "execution_count": 39,
     "metadata": {},
     "output_type": "execute_result"
    }
   ],
   "source": [
    "open('../../machine-learning/pickles/lightgbm.pkl','wb')"
   ]
  },
  {
   "cell_type": "code",
   "execution_count": null,
   "metadata": {},
   "outputs": [],
   "source": []
  }
 ],
 "metadata": {
  "kernelspec": {
   "display_name": "Python 3",
   "language": "python",
   "name": "python3"
  },
  "language_info": {
   "codemirror_mode": {
    "name": "ipython",
    "version": 3
   },
   "file_extension": ".py",
   "mimetype": "text/x-python",
   "name": "python",
   "nbconvert_exporter": "python",
   "pygments_lexer": "ipython3",
   "version": "3.7.3"
  }
 },
 "nbformat": 4,
 "nbformat_minor": 2
}
