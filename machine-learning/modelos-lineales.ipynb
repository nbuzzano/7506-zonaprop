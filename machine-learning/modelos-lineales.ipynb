{
 "cells": [
  {
   "cell_type": "code",
   "execution_count": null,
   "metadata": {},
   "outputs": [],
   "source": [
    "import pandas as pd\n",
    "import numpy as np\n",
    "import pickle \n",
    "from sklearn.linear_model import ElasticNetCV, LassoCV, RidgeCV, BayesianRidge, HuberRegressor\n",
    "from sklearn.metrics import mean_absolute_error\n",
    "from sklearn.model_selection import train_test_split\n",
    "from sklearn.svm import SVR, LinearSVR\n",
    "from sklearn.preprocessing import RobustScaler\n",
    "from sklearn.kernel_ridge import KernelRidge\n",
    "from sklearn.decomposition import PCA\n",
    "from sklearn.ensemble import BaggingRegressor, ExtraTreesRegressor, AdaBoostRegressor\n",
    "from datetime import datetime\n",
    "import os"
   ]
  },
  {
   "cell_type": "code",
   "execution_count": null,
   "metadata": {},
   "outputs": [],
   "source": []
  },
  {
   "cell_type": "code",
   "execution_count": null,
   "metadata": {},
   "outputs": [],
   "source": [
    "#levanto data sets\n",
    "df = pd.read_csv(\"./cleanedData.csv\")\n",
    "y = df.precio\n",
    "\n",
    "X = pd.read_csv(\"./xgboost-x.csv\")"
   ]
  },
  {
   "cell_type": "code",
   "execution_count": null,
   "metadata": {},
   "outputs": [],
   "source": [
    "aux = X.join(y)\n",
    "aux = aux.dropna()\n",
    "aux = aux.sample(n=500, random_state=42)"
   ]
  },
  {
   "cell_type": "code",
   "execution_count": null,
   "metadata": {},
   "outputs": [],
   "source": [
    "y_aux = aux.precio\n",
    "X_aux = aux.drop(['precio'], axis=1, inplace=False)"
   ]
  },
  {
   "cell_type": "code",
   "execution_count": null,
   "metadata": {},
   "outputs": [],
   "source": [
    "y_test = pd.DataFrame(y_aux)"
   ]
  },
  {
   "cell_type": "code",
   "execution_count": null,
   "metadata": {},
   "outputs": [],
   "source": [
    "seed = 7\n",
    "test_size = 0.33\n",
    "X_train, X_test, y_train, y_test = train_test_split(X_aux, y_aux, test_size=test_size, random_state=seed)\n",
    "# fit model no training data"
   ]
  },
  {
   "cell_type": "code",
   "execution_count": null,
   "metadata": {},
   "outputs": [],
   "source": []
  },
  {
   "cell_type": "code",
   "execution_count": null,
   "metadata": {},
   "outputs": [],
   "source": [
    "def add_more_features(self,df):\n",
    "\t\tdf['patio'] = df.metrostotales - df.metroscubiertos\n",
    "\t\tdf['ambientes'] = df.habitaciones + df.banos + df.garages\n",
    "\t\t#df['prom_amb'] = df.metroscubiertos / df.ambientes\n",
    "\t\t#df['construccion_density'] = df.metroscubiertos/df.metrostotales\n",
    "\t\treturn df"
   ]
  },
  {
   "cell_type": "code",
   "execution_count": null,
   "metadata": {},
   "outputs": [],
   "source": [
    "def prepare_data(self):\n",
    "\t\tx_cols = [x for x in self.df_train.columns if x != 'precio' and x != 'id']\n",
    "\t\ty_train = np.log1p(self.df_train['precio'])\n",
    "\n",
    "\t\tx_train = self.df_train.loc[:,x_cols]\n",
    "\t\tself.x_test = self.df_test.loc[:,x_cols]\n",
    "\t\t\n",
    "\t\t#scaler = RobustScaler()\n",
    "\t\t#x_train = scaler.fit_transform(x_train)\n",
    "\t\t#self.x_test = scaler.transform(self.x_test)\n",
    "\n",
    "\n",
    "\t\tx_tr,x_val,y_tr,y_val = train_test_split(x_train,y_train,test_size=0.15,shuffle=True)\n",
    "\n",
    "\t\treturn (x_tr,y_tr),(x_val,y_val)"
   ]
  },
  {
   "cell_type": "code",
   "execution_count": null,
   "metadata": {},
   "outputs": [],
   "source": [
    "def save_prediction(self,y_test,model):\n",
    "\t\tfinal_pred = np.expm1(y_test)\n",
    "\n",
    "\t\tids = self.df_test['id'].values\n",
    "\t\ttry:\n",
    "\t\t\tos.mkdir('predictions')\n",
    "\t\texcept:\n",
    "\t\t\tpass\n",
    "\n",
    "\n",
    "\t\tsubmit = pd.DataFrame({'id':ids,'target':final_pred})\n",
    "\t\tsubmit.to_csv('predictions/submit-'+model+'.csv',index=False)"
   ]
  },
  {
   "cell_type": "code",
   "execution_count": null,
   "metadata": {},
   "outputs": [],
   "source": [
    "def timer(self, start_time=None):\n",
    "\t\tif not start_time:\n",
    "\t\t\tstart_time = datetime.now()\n",
    "\t\t\treturn start_time\n",
    "\t\telif start_time:\n",
    "\t\t\tthour, temp_sec = divmod((datetime.now() - start_time).total_seconds(), 3600)\n",
    "\t\t\ttmin, tsec = divmod(temp_sec, 60)\n",
    "\t\t\tprint('Time taken: %i hours %i minutes and %s seconds.' % (thour, tmin, round(tsec, 2)))"
   ]
  },
  {
   "cell_type": "code",
   "execution_count": null,
   "metadata": {},
   "outputs": [],
   "source": []
  },
  {
   "cell_type": "markdown",
   "metadata": {},
   "source": [
    "## Lasso"
   ]
  },
  {
   "cell_type": "code",
   "execution_count": null,
   "metadata": {},
   "outputs": [],
   "source": [
    "def train_LassoCV(self,data):\n",
    "\t\ttrain,validacion = data\n",
    "\t\tx_tr,y_tr = train\n",
    "\t\tx_val,y_val = validacion\n",
    "\t\t#print(\"El set de train tiene {} filas y {} columnas\".format(x_tr.shape[0],x_tr.shape[1]))\n",
    "\t\t#print(\"El set de validacion tiene {} filas y {} columnas\".format(x_val.shape[0],x_val.shape[1]))\n",
    "\n",
    "\t\tprint('Start training LassoCV...')\n",
    "\t\tstart_time = self.timer()\n",
    "\n",
    "\t\tLasso = LassoCV(\n",
    "\t\t\tn_alphas=1000,\n",
    "\t\t\tcv=10,\n",
    "\t\t\tnormalize=True,\n",
    "\n",
    "\t\t\t)\n",
    "\t\tLasso.fit(x_tr,y_tr)\n",
    "\t\tprint(\"The R2 is: {}\".format(Lasso.score(x_tr,y_tr)))\n",
    "\t\tprint(\"The alpha choose by CV is:{}\".format(Lasso.alpha_))\n",
    "\t\tself.timer(start_time)\n",
    "\n",
    "\t\tprint(\"Making prediction on validation data\")\n",
    "\t\ty_val = np.expm1(y_val)\n",
    "\t\ty_val_pred = np.expm1(Lasso.predict(x_val))\n",
    "\t\tmae = mean_absolute_error(y_val,y_val_pred)\n",
    "\t\tprint(\"El mean absolute error de es {}\".format(mae))\n",
    "\n",
    "\t\t\n",
    "\t\tprint('Saving model into a pickle')\n",
    "\t\ttry:\n",
    "\t\t\tos.mkdir('pickles')\n",
    "\t\texcept:\n",
    "\t\t\tpass\n",
    "\n",
    "\t\twith open('pickles/LassoCV.pkl','wb') as f:\n",
    "\t\t\tpickle.dump(Lasso, f)\n",
    "\n",
    "\t\tprint('Making prediction and saving into a csv')\n",
    "\t\ty_test= Lasso.predict(self.x_test)\n",
    "\n",
    "\t\treturn y_test"
   ]
  },
  {
   "cell_type": "code",
   "execution_count": null,
   "metadata": {},
   "outputs": [],
   "source": [
    "y_test = self.train_LassoCV(data)\n",
    "\t\tself.save_prediction(y_test,'Lasso')"
   ]
  },
  {
   "cell_type": "code",
   "execution_count": null,
   "metadata": {},
   "outputs": [],
   "source": []
  },
  {
   "cell_type": "markdown",
   "metadata": {},
   "source": [
    "# Ridge"
   ]
  },
  {
   "cell_type": "code",
   "execution_count": null,
   "metadata": {},
   "outputs": [],
   "source": [
    "def train_rigdeCV(self,data):\n",
    "\t\ttrain,validacion = data\n",
    "\t\tx_tr,y_tr = train\n",
    "\t\tx_val,y_val = validacion\n",
    "\t\t#print(\"El set de train tiene {} filas y {} columnas\".format(x_tr.shape[0],x_tr.shape[1]))\n",
    "\t\t#print(\"El set de validacion tiene {} filas y {} columnas\".format(x_val.shape[0],x_val.shape[1]))\n",
    "\n",
    "\t\tprint('Start training Ridge...')\n",
    "\t\tstart_time = self.timer()\n",
    "\n",
    "\t\tridge = RidgeCV(\n",
    "\t\t\tnormalize=True,\n",
    "\t\t\talphas=[0.0000999],\n",
    "\t\t\tcv=10\n",
    "\t\t\t)\n",
    "\t\tridge.fit(x_tr,y_tr)\n",
    "\t\tprint(\"The R2 is: {}\".format(ridge.score(x_tr,y_tr)))\n",
    "\t\tprint(\"The alpha choose by CV is:{}\".format(ridge.alpha_))\n",
    "\t\tself.timer(start_time)\n",
    "\n",
    "\t\tprint(\"Making prediction on validation data\")\n",
    "\t\ty_val = np.expm1(y_val)\n",
    "\t\ty_val_pred = np.expm1(ridge.predict(x_val))\n",
    "\t\tmae = mean_absolute_error(y_val,y_val_pred)\n",
    "\t\tprint(\"El mean absolute error de es {}\".format(mae))\n",
    "\n",
    "\t\t\n",
    "\t\tprint('Saving model into a pickle')\n",
    "\t\ttry:\n",
    "\t\t\tos.mkdir('pickles')\n",
    "\t\texcept:\n",
    "\t\t\tpass\n",
    "\n",
    "\t\twith open('pickles/RidgeCV.pkl','wb') as f:\n",
    "\t\t\tpickle.dump(ridge, f)\n",
    "\n",
    "\t\tprint('Making prediction and saving into a csv')\n",
    "\t\ty_test= ridge.predict(self.x_test)\n",
    "\n",
    "\t\treturn y_test\n"
   ]
  },
  {
   "cell_type": "code",
   "execution_count": null,
   "metadata": {},
   "outputs": [],
   "source": [
    "y_test = self.train_rigdeCV(data)\n",
    "\t\tself.save_prediction(y_test,'Ridge')"
   ]
  },
  {
   "cell_type": "code",
   "execution_count": null,
   "metadata": {},
   "outputs": [],
   "source": []
  },
  {
   "cell_type": "markdown",
   "metadata": {},
   "source": [
    "# Elastic Net"
   ]
  },
  {
   "cell_type": "code",
   "execution_count": null,
   "metadata": {},
   "outputs": [],
   "source": [
    "\tdef train_elasticNetCV(self,data):\n",
    "\t\ttrain,validacion = data\n",
    "\t\tx_tr,y_tr = train\n",
    "\t\tx_val,y_val = validacion\n",
    "\t\t#print(\"El set de train tiene {} filas y {} columnas\".format(x_tr.shape[0],x_tr.shape[1]))\n",
    "\t\t#print(\"El set de validacion tiene {} filas y {} columnas\".format(x_val.shape[0],x_val.shape[1]))\n",
    "\n",
    "\t\tprint('Start training ElasticNetCV...')\n",
    "\t\tstart_time = self.timer()\n",
    "\n",
    "\t\tenet = ElasticNetCV(\n",
    "\t\t\tnormalize=True,\n",
    "\t\t\tn_alphas=2000,\n",
    "\t\t\tmax_iter = 2000,\n",
    "\t\t\tcv=10\n",
    "\t\t\t)\n",
    "\t\tenet.fit(x_tr,y_tr)\n",
    "\t\tprint(\"The R2 is: {}\".format(enet.score(x_tr,y_tr)))\n",
    "\t\tprint(\"The alpha choose by CV is:{}\".format(enet.alpha_))\n",
    "\t\tself.timer(start_time)\n",
    "\n",
    "\t\tprint(\"Making prediction on validation data\")\n",
    "\t\ty_val = np.expm1(y_val)\n",
    "\t\ty_val_pred = np.expm1(enet.predict(x_val))\n",
    "\t\tmae = mean_absolute_error(y_val,y_val_pred)\n",
    "\t\tprint(\"El mean absolute error de es {}\".format(mae))\n",
    "\n",
    "\t\t\n",
    "\t\tprint('Saving model into a pickle')\n",
    "\t\ttry:\n",
    "\t\t\tos.mkdir('pickles')\n",
    "\t\texcept:\n",
    "\t\t\tpass\n",
    "\n",
    "\t\twith open('pickles/enetCV.pkl','wb') as f:\n",
    "\t\t\tpickle.dump(enet, f)\n",
    "\n",
    "\t\tprint('Making prediction and saving into a csv')\n",
    "\t\ty_test= enet.predict(self.x_test)\n",
    "\n",
    "\t\treturn y_test"
   ]
  },
  {
   "cell_type": "code",
   "execution_count": null,
   "metadata": {},
   "outputs": [],
   "source": [
    "y_test = self.train_elasticNetCV(data)\n",
    "\t\tself.save_prediction(y_test,'elastic')"
   ]
  },
  {
   "cell_type": "code",
   "execution_count": null,
   "metadata": {},
   "outputs": [],
   "source": []
  }
 ],
 "metadata": {
  "kernelspec": {
   "display_name": "Python 3",
   "language": "python",
   "name": "python3"
  },
  "language_info": {
   "codemirror_mode": {
    "name": "ipython",
    "version": 3
   },
   "file_extension": ".py",
   "mimetype": "text/x-python",
   "name": "python",
   "nbconvert_exporter": "python",
   "pygments_lexer": "ipython3",
   "version": "3.7.3"
  }
 },
 "nbformat": 4,
 "nbformat_minor": 2
}
